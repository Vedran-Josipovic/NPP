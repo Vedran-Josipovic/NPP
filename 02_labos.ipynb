{
 "cells": [
  {
   "cell_type": "markdown",
   "metadata": {},
   "source": [
    "## Zadatak 2B\n",
    "\n",
    "Napišite program u Pythonu koji će dati odgovor na sljedeće pitanje: Koliko je stringova u datoteci **palindromi.txt** koji su palindromi (palindrom je riječ ili niz znakova koja je ista ako se čita s lijeva na desno i s desna na lijevo) sa sljedećim svojstvima:\n",
    "\n",
    " ● dulji su od 10 znakova\n",
    " \n",
    " ● niti jedan se znak ne pojavljuje više od dva puta"
   ]
  },
  {
   "cell_type": "code",
   "execution_count": 1,
   "metadata": {},
   "outputs": [
    {
     "name": "stdout",
     "output_type": "stream",
     "text": [
      "['aculmhfosnetpdvqg\\n', 'coenkhdixluavmtzywq\\n', 'rxzw\\n', 'jsgncfwh\\n', 'vpcrhlajinywedo\\n', 'dpovhbfxljguizkqet\\n', 'mwbned\\n', 'uocnaytkbqihzpgrw\\n', 'npgberd\\n', 'iculzfboqrtgap\\n', 'tlzepmwduxkyq\\n', 'zdjkvoes\\n', 'iewhasdytbzglq\\n', 'iryqdkxghwsfevtpm\\n', 'afhzkiydvxeu\\n', 'zlpadhvqsrcg\\n', 'kvtdujbmi\\n', 'agumvxizjcysdrofhq\\n', 'ifnpo\\n', 'afmvcu\\n', 'hfwucvs\\n', 'ipk\\n', 'lbuvz\\n', 'geiotufrwbmpn\\n', 'vthcwba\\n', 'fgcumb\\n', 'ojrpni\\n', 'tyqacfimrudxbjv\\n', 'jfrlgzb\\n', 'fpwyvlicbokhexut\\n', 'rfgolnhcjvas\\n', 'sghumljar\\n', 'hvfdqajc\\n', 'jwgsltqbr\\n', 'idcughktnvmfxyebaqpo\\n', 'inayljdrwpqf\\n', 'rdovgxwybucjf\\n', 'uc\\n', 'whq\\n', 'nzsaciwugojkrtbp\\n', 'irnzfywlghbujmdsq\\n', 'snwrm\\n', 'yaxnodqbhfelvprimwg\\n', 'iwzadcfhnmser\\n', 'pdx\\n', 'kabco\\n', 'nhdtsmabxf\\n', 'bzvolu\\n', 'bmoaqxdyh\\n', 'pekcjdgthx\\n', 'nfhvtysqwuxpkaj\\n', 'batfrihkoyqvlxpwzgmj\\n', 'xzwpsljdmc\\n', 'qwrvbhta\\n', 'btwci\\n', 'ncbvfwhzi\\n', 'mpzelkdxcfyosa\\n', 'toyhwugmifxbzlrqjv\\n', 'ypvclnoauzjqtbgkf\\n', 'tm\\n', 'qb\\n', 'lrpzvskmycxnod\\n', 'kdhfg\\n', 'dxvubphqowfjrgmeyc\\n', 'upcrdilav\\n', 'ceuxhnyipgbtv\\n', 'jqfuocrzkpm\\n', 'kdojlqrznpsx\\n', 'dvfiyuehtpsrgcn\\n', 'hveixfcklqpoamsbnydw\\n', 'xyhozsebctlfnk\\n', 'midqkbnvwltyufrjxo\\n', 'gfpnlwreqabotiujmd\\n', 'dyst\\n', 'qhdajgwzobuncp\\n', 'vkpxlja\\n', 'rkpdhsabxvw\\n', 'ybfmxalni\\n', 'dqgeflbmkcxwzy\\n', 'ckbpji\\n', 'holcdmxnwq\\n', 'zrsnlmkxwtayjvo\\n', 'nwgarlepyotqhdvz\\n', 'ydubhixfgjwv\\n', 'krneiyzqfmclhbw\\n', 'fpijlqcokrbvx\\n', 'tfvxaglep\\n', 'zmrvkwagi\\n', 'dhxcevlbogi\\n', 'wtsmbznevlchfkui\\n', 'ikgmlaswybevtpo\\n', 'tvcfrwosixykdezhmquj\\n', 'muehvnfjri\\n', 'pm\\n', 'xakr\\n', 'vgrefmsaboqczdjxk\\n', 'wlojyirtmkzpndfxvgs\\n', 'kohpfxvt\\n', 'yzxlnofu\\n', 'ykdgixzmjbpnehlwf\\n', 'gucjoakzpstv\\n', 'tcginsblhrvzu\\n', 'auwgiveznx\\n', 'cdpuqvhelwnj\\n', 'qng\\n', 'obmi\\n', 'zm\\n', 'slchyeprq\\n', 'exthgrksvjybqow\\n', 'uqdcekwm\\n', 'mcieoy\\n', 'fu\\n', 'bghoemicr\\n', 'yzjpnfgqdtsbrlicxwhk\\n', 'zgp\\n', 'xczfo\\n', 'dsqrgmjxhoef\\n', 'czelpkungrtvasbjof\\n', 'kadigv\\n', 'kyivtqpjdzusmfagclhn\\n', 'je\\n', 'munvjpg\\n', 'jyqtk\\n', 'dhl\\n', 'dkwrbyzeig\\n', 'lcjpdga\\n', 'crqbkntdgfueaoj\\n', 'kmyiufrpqalhgxvjcde\\n', 'kalmorpetiitepromlak\\n', 'gvoqsw\\n', 'owqxsrfgzuia\\n', 'yrmlcnajevqupdtoszh\\n', 'xdwbhrsjv\\n', 'vgxl\\n', 'dfo\\n', 'sqrgdync\\n', 'hjopr\\n', 'zadeu\\n', 'fyodxtinghkluapsw\\n', 'yuom\\n', 'kmrgewuldtnhfcyxjb\\n', 'xrlbystvdmh\\n', 'qmcposklexwdfzrtyiun\\n', 'natuixrgwcyefoms\\n', 'siyvrjdcez\\n', 'hzwigercm\\n', 'eivozxgkbjys\\n', 'euipvqyodjml\\n', 'grotqvhbyisdalzmjc\\n', 'aygoihdfzxpvnk\\n', 'enmdwxqb\\n', 'gewvf\\n', 'xcasdbqeypl\\n', 'ceaghfmqurzdokxwb\\n', 'vxmeatbnuwcdqsyo\\n', 'zusiftjqdewcbhry\\n', 'evhwst\\n', 'mlngpdrh\\n', 'omiwgurfstznbavhq\\n', 'rtykjglwfzemcna\\n', 'bfvljcwhinqaps\\n', 'rach\\n', 'vglfpk\\n', 'zbq\\n', 'albvikjtzmde\\n', 'jxmfhsrnk\\n', 'fvxrcwsk\\n', 'pe\\n', 'keoxdwcyqtlfrnavhj\\n', 'vtransepiczub\\n', 'ondvtjhbym\\n', 'xlzbf\\n', 'xsigjuldvkehbyrn\\n', 'ejsgrfluypqwzinc\\n', 'kbinolxdphzm\\n', 'exqsimokyjfuwgr\\n', 'fysluzahctbvoqkx\\n', 'ahklfymbicuponzvjet\\n', 'xmrecwogyqjzd\\n', 'ahvwxij\\n', 'grycdtlue\\n', 'pang\\n', 'xjhonkgzmqfvay\\n', 'szytnmfed\\n', 'yspnbjzkgwlvfdmrihq\\n', 'czlugyjwfeposvtirbdq\\n', 'anscudhjwymbgfq\\n', 'nelrwyzguasdb\\n', 'uyszrhgw\\n', 'ieqzwygco\\n', 'kubytscj\\n', 'vbxhwslfmt\\n', 'aotmxswifgjypnkzch\\n', 'vrujxnimbatf\\n', 'yzohbirvcajsunkd\\n', 'gyxocur\\n', 'pnfg\\n', 'jfk\\n', 'rxmqintfszujlpywcd\\n', 'fwpbejr\\n', 'buntpwedzqvljr\\n', 'aecvjdwfzugbtroyknx\\n', 'zlrfacmbped\\n', 'tbajdliyepuhxwz\\n', 'ekinmvflbdgajysxc\\n', 'ngijdeu\\n', 'ygmufdnehjwaol\\n', 'jwg\\n', 'qi\\n', 'ujvxnagcb\\n', 'koawgy\\n', 'lyjamkco\\n', 'aqytupzvgcmiksnw\\n', 'kwmyltjexpon\\n', 'hpvdmfwqcb\\n', 'rdjgfxaeomhklzynucp\\n', 'tevhaukfn\\n', 'nosiflcdhwrmpgyqaxju\\n', 'gpeotuyjdrkmshvqbn\\n', 'lwtfzjkyisxbnoavhd\\n', 'hspzvudrwmjciabk\\n', 'amcivbqsrdyowuef\\n', 'dv\\n', 'wdajfunh\\n', 'sqovfgnacmte\\n', 'shaydtzeguo\\n', 'kedmclabqfhitgjy\\n', 'qkw\\n', 'fxnlwqkeymbora\\n', 'woyzhxlcefbrvajdgu\\n', 'rdvafzmhlwjno\\n', 'sjwfovdyzb\\n', 'ylvqubcxpormjz\\n', 'ehdq\\n', 'wtafp\\n', 'axcumt\\n', 'zdfjnacy\\n', 'pmzakhgjfvlreoyctnsb\\n', 'fqmdcspguikbnhovwa\\n', 'ucozpxkhyat\\n', 'tb\\n', 'xcbvgeyjhknuwsmifa\\n', 'upwrcfdntoeaizklxgq\\n', 'odusfbzl\\n', 'auwifvzrtnjdgpme\\n', 'as\\n', 'kodsjpbxemn\\n', 'lripmgtuhj\\n', 'mvqpbojxeuz\\n', 'helnqaxmiv\\n', 'gajivbemordwshx\\n', 'mckprlgznfwu\\n', 'ebjpuqrvgmxko\\n', 'ignxjl\\n', 'mkivcdxougfeh\\n', 'ghwiefrysqdcv\\n', 'uwfqxljhimpoz\\n', 'jvabqyzpmftncwlske\\n', 'liq\\n', 'dzkstcupeqvimbjnwyr\\n', 'nfaiyxhzjrvgtsldb\\n', 'cnsmk\\n', 'gqspawftojvehm\\n', 'cypsibndxfaom\\n', 'dzwarnefxt\\n', 'qsido\\n', 'luaxsynjwecf\\n', 'kicaxsldpwvf\\n', 'vbfohn\\n', 'jvgftdoxpyil\\n', 'kxfjvgautm\\n', 'gqk\\n', 'iutezdvsmf\\n', 'ujslwcmzfgtnapeqidr\\n', 'ypokdngrqmbwuvzhjx\\n', 'zeprdwljmnuot\\n', 'ihoydkxsblfjrngcaw\\n', 'tebkispygfdjn\\n', 'wunjrkhfgbyx\\n', 'okpldiwzvyftnageb\\n', 'eylnschavxwbzqf\\n', 'oabvfzqhij\\n', 'bkyiupmzhrngwv\\n', 'yaznxb\\n', 'udprnwomyjvfcazshe\\n', 'vytlscixg\\n', 'mfpxdtolvruwqaczhynb\\n', 'lw\\n', 'cbtmfk\\n', 'qjiapbgd\\n', 'qpgb\\n', 'lpkoewvfbdmtsucqz\\n', 'pkrgzebjaimo\\n', 'rwcvf\\n', 'gnxpvrqeas\\n', 'sbnlywjdpkvgohzu\\n', 'jtwhnapgfoq\\n', 'mndzisbypeulkfwa\\n', 'zj\\n', 'ynzqsucxv\\n', 'yrnlboxguhakijf\\n', 'ysphmcgdk\\n', 'kijdzghyvfqucoamtwx\\n', 'ursoyxidj\\n', 'lcopxbtyz\\n', 'nqjlghmicuktswe\\n', 'gcojdwtlpeyqnhvbusi\\n', 'jirthsk\\n', 'jicstgpn\\n', 'ulpbrayek\\n', 'olh\\n', 'ejbdplgztoycakxwfu\\n', 'sirpjyz\\n', 'crabs\\n', 'vdkah\\n', 'twsvauqlhrkm\\n', 'imczkewvnjurghpdoaf\\n', 'cx\\n', 'trkqvfpusxwaziyb\\n', 'qx\\n', 'cgkuzbptowjmalen\\n', 'hbxrvgplocenz\\n', 'hmdbwugzvtfnlyraixp\\n', 'wvg\\n', 'sfiaekq\\n', 'zchobfadvksw\\n', 'sqkluydnjirvw\\n', 'afyqoxsibpdlrh\\n', 'fnjiacelp\\n', 'bduhntgwfr\\n', 'rzgtiovs\\n', 'er\\n', 'yetiudjov\\n', 'scizurjdtboymakqxpvf\\n', 'udlymhovtwre\\n', 'bdg\\n', 'fybkdxwmuelhsanpi\\n', 'dcsiwb\\n', 'chdvwbkgna\\n', 'pdovzke\\n', 'sopnhlmt\\n', 'rcslfoaj\\n', 'ikujzvymqxgnfhra\\n', 'hjnmpqgdtisvelbwyxak\\n', 'abguxf\\n', 'dchomnrfutszi\\n', 'ctdsbwlonuexpkvmy\\n', 'hfrjqlcxatnibozmve\\n', 'wfcnzxm\\n', 'hzyofsnxdvjtp\\n', 'ueymrxildsjkqvo\\n', 'ymjpxhzdfnciwvugsq\\n', 'fdtjian\\n', 'fqzjnceukd\\n', 'tbpmlnqfd\\n', 'ytblxumfkdhc\\n', 'dvmiclujzrbes\\n', 'npea\\n', 'egmlnhubcpidjvwyzork\\n', 'rc\\n', 'jdeswhuf\\n', 'jgszwpoxaleimkyfnrhb\\n', 'ncqektwsvz\\n', 'jofqebkyw\\n', 'azncdjwfmip\\n', 'txlq\\n', 'oxehlrifdnwy\\n', 'xud\\n', 'oshretfujgc\\n', 'yiqwkdc\\n', 'pfscnxdbrihzetj\\n', 'uopmqwfv\\n', 'yujdhpsq\\n', 'ztngmkoaseixcurdqhjf\\n', 'avguhoyzimtdcnxjrbl\\n', 'edcvlbnkhzrgxmy\\n', 'pkqyxgtmchasjo\\n', 'xpankhucr\\n', 'rsidnhwuzkmvpyfltabg\\n', 'ghtnkc\\n', 'iacrveyobxuwgt\\n', 'dmesinvygfqwah\\n', 'jogbfvlznpt\\n', 'pwcnomzeyu\\n', 'puyf\\n', 'hicltaewfpmzgjsox\\n', 'xoqbktajzuf\\n', 'oyujrzlhsqnxcmwvae\\n', 'hswuclvkmi\\n', 'ubzy\\n', 'xbhpiwkqojna\\n', 'nhavtifqdewmygurb\\n', 'vlrtem\\n', 'vwg\\n', 'siafuvdpkowbjqmgy\\n', 'lphj\\n', 'ynjspgacvxlbkmuziof\\n', 'lcfrexzqswyavuoitg\\n', 'zq\\n', 'ngrvjfuqszeipbh\\n', 'pjovctixqyh\\n', 'youvjapdicghse\\n', 'aevsouihkypjtqxgw\\n', 'jbkuitpo\\n', 'dqpulgsy\\n', 'uslzvyacxigrq\\n', 'ms\\n', 'roygkjefvlab\\n', 'qd\\n', 'ukcxwnazyopdgrj\\n', 'estvihpojamqzrywfk\\n', 'vojwksdzxp\\n', 'yhwqnugtokezabvixm\\n', 'htczpfqmdru\\n', 'tfcbkmhrni\\n', 'kusi\\n', 'ltyjwfdvseughnqkrmxz\\n', 'qnrj\\n', 'jl\\n', 'qofphrgzwcmbeinds\\n', 'htiyuzkwjn\\n', 'ueqophivazfygwrntd\\n', 'hjjkkyttykkjjh\\n', 'duclvajhwrmnszitfy\\n', 'czsjgkwuoxrbdyilnem\\n', 'kdwtavxnoz\\n', 'yqkraiocjp\\n', 'cvrpfylg\\n', 'jgnuafmythp\\n', 'ewps\\n', 'truaybpcf\\n', 'dhoegqnircjuvbkwtpsy\\n', 'vdfkpmwbszj\\n', 'bqywegnfaujxmpkzl\\n', 'wa\\n', 'houwevixrdmbygpsqzta\\n', 'qphnboevu\\n', 'rgqlepdf\\n', 'jxkgvidawcel\\n', 'oqlnfdb\\n', 'fhvwqgt\\n', 'dnijwrzlxatf\\n', 'dsejntlcymahfzxogri\\n', 'qzfital\\n', 'bgsrtympcdif\\n', 'mfzwelohpnsgxrbiayt\\n', 'mfhbdtyjqnsezcxpv\\n', 'pftzxvokiawnbgm\\n', 'gfye\\n', 'tnzu\\n', 'wuftb\\n', 'afhi\\n', 'pargj\\n', 'hsxdrpzjom\\n', 'xdrfwmjhupia\\n', 'tjasevnicpmlry\\n', 'rfxsuolwkyzegdmpaqt\\n', 'gtlwzbdfpiensryouhv\\n', 'ylpijrcsawh\\n', 'tzlufwvaih\\n', 'qm\\n', 'doy\\n', 'hggtggh\\n', 'dgmzacrtpsx\\n', 'zgyatmfdnwlexqspucrv\\n', 'olhyvdrxues\\n', 'okdqtvwsmxhanzr\\n', 'myqanbwz\\n', 'vmxajcfto\\n', 'qhesrwocdibjz\\n', 'icgyasbtojpfqvudwl\\n', 'stwmeoknljpb\\n', 'dsryunpwbfavi\\n', 'vlxoki\\n', 'whuzlcrp\\n', 'gewvtqdn\\n', 'udsblfzn\\n', 'roscqfxilkjyp\\n', 'jucnkpsrlzbtfiagevow\\n', 'cjekpnql\\n', 'lpbva\\n', 'jmwnihc\\n', 'pegclrznuofbyiw\\n', 'isrvckzplnaxtud\\n', 'pj\\n', 'hcnoe\\n', 'hdpjxezq\\n', 'kgxvlcm\\n', 'bgtvweyusqhil\\n', 'gyxf\\n', 'osljezqbmn\\n', 'rkqwgsvbfdupenzcj\\n', 'skxvph\\n', 'wumcqgrnebvxjkdlshyf\\n', 'scofzwivgjrktnlqduyx\\n', 'niaycqepvrzlgbtmdsfh\\n', 'kujgbm\\n', 'cxhafmngbvj\\n', 'jlefkmoryqutwdpznis\\n', 'fug\\n', 'ijypvkfxhmrqctlwub\\n', 'lwzdfou\\n', 'gnqubjstklxyf\\n', 'lofdzqavgiwkjys\\n', 'tfzmyo\\n', 'gdlmyvsbktfenjwrhz\\n', 'dpsxlnwfjqv\\n', 'lkdaczmitrejhv\\n', 'lmone\\n', 'fiaxtshlod\\n', 'eyszhpl\\n', 'iunswgmfzpkaoqrtxl\\n', 'qwahfsjokbpinvyuge\\n', 'mgncrwjaokdf\\n', 'ghvfrdsexbp\\n', 'oabhzj\\n', 'vdcgxythbrs\\n', 'ysbmzjaxcvnfwuhod\\n', 'jbkfhordyctqmv\\n', 'lowsvjfbc\\n', 'uxjcirwpntmbqvdk\\n', 'vdgj\\n', 'eru\\n', 'tlubzms\\n', 'xfstreay\\n', 'geyazfwum\\n', 'mqkxwdbcgi\\n', 'snyuhkrbfozjtl\\n', 'bxp\\n', 'lsfipwejt\\n', 'ylpzshaerftqciogx\\n', 'psadvultqjzeh\\n', 'laiphmvjrctxe\\n', 'iqzrvksohyabnexw\\n', 'ldpusnrjyiwhxzcmv\\n', 'ljzmxg\\n', 'jvrtaeznoykmiw\\n', 'gnbajivotpezxcrysulh\\n', 'thpfimnvbzusxeog\\n', 'yn\\n', 'svyzmrgxwcohbe\\n', 'aourctlhd\\n', 'tgdxwmvferazjknius\\n', 'nrjcbwfklazxehqp\\n', 'zslx\\n', 'oqpd\\n', 'jorhev\\n', 'rhbjlyecksfvd\\n', 'yopuqfacxdjzrs\\n', 'radbv\\n', 'kjhyvzbofxicqusdw\\n', 'ufhnrq\\n', 'nquibzyjr\\n', 'vdzyiekfh\\n', 'qotiajupgvdz\\n', 'mdlfbgriyowaqhuscj\\n', 'qdiouzmfng\\n', 'jqxtbkreduhzfcl\\n', 'vbszlrmop\\n', 'gpxsdwfbrzcminjaeuy\\n', 'zbm\\n', 'vrlijzaodyc\\n', 'yzpxdafvwbcqohlti\\n', 'ksomdute\\n', 'yclwtxeqr\\n', 'ycu\\n', 'ohirpkczwxlday\\n', 'ysjihrtgucvzednwkxm\\n', 'ietbydwmjlfauxznkpqv\\n', 'aoxjcsvpuytd\\n', 'thfnkrgovxpe\\n', 'jcxntqvohesgflwizm\\n', 'romf\\n', 'lxtmacjfrs\\n', 'mnuvyxf\\n', 'amkcwegrlpsnjh\\n', 'zhygrco\\n', 'zxgrqejuwpvda\\n', 'siobfzgvkc\\n', 'nthufdwp\\n', 'vgwlzqksfipujneo\\n', 'oqcy\\n', 'qgvowfjdnlyhimer\\n', 'fahgcwnokltyu\\n', 'xhvbrmptjqgnfa\\n', 'ukemnyltjoxs\\n', 'rm\\n', 'sqxnezjdugbiofhcmtlk\\n', 'wbalczyqmeot\\n', 'hsmniqotazljwexryvc\\n', 'daul\\n', 'qbr\\n', 'qhjwfoecuvtnarxyslpm\\n', 'vmwfgsknjhpcilxdrtzq\\n', 'jukwdsxfmrq\\n', 'ijlnzmsehptrvb\\n', 'kezfvgowandiphxs\\n', 'pkmtc\\n', 'rjszgidlctvfyp\\n', 'yblw\\n', 'zxhjoqipyvwfadlbr\\n', 'owb\\n', 'uoqhgewbatynmr\\n', 'okztvn\\n', 'fhvakourg\\n', 'mpjezat\\n', 'uydcefhtiam\\n', 'hwpbquvgrlm\\n', 'fwh\\n', 'tgnyxwbqduhm\\n', 'hlywemajgf\\n', 'steznragb\\n', 'iskmcrbptualveqgjwyd\\n', 'jesmwnrkyhqvgacxlzp\\n', 'bsaigo\\n', 'chmiztgfvoldqxuwsbrn\\n', 'wqkbd\\n', 'xenkijydabwtsuqgfpro\\n', 'fyiralnsg\\n', 'uthmocjafwilye\\n', 'bieakz\\n', 'it\\n', 'gnxqwczljrhaey\\n', 'rtkpzoxcbfwyl\\n', 'gtrvuhcybdk\\n', 'pgeyqfd\\n', 'onwxctghjvbsmdauyf\\n', 'jdg\\n', 'ednmcjswqtklfoz\\n', 'yfkmzvwripagobhuqlxc\\n', 'cxqtwueyzfildpv\\n', 'dxbpuy\\n', 'demap\\n', 'bnlcohvsxdgtkemqwfp\\n', 'tzqnvdoegyhm\\n', 'hmpfdikztqejxyg\\n', 'yunqcavslzjwmoehd\\n', 'jqunfwgxrlzo\\n', 'qshkvo\\n', 'qflpt\\n', 'hxbgicwtmre\\n', 'fwqsxeodjznbp\\n', 'uxofd\\n', 'xvafsduibhwtncplz\\n', 'xikfelhngjvdsbmryu\\n', 'hzxobiwcfptuvg\\n', 'kpul\\n', 'emragksjzvuyhqlixntf\\n', 'bqp\\n', 'pblgxied\\n', 'ybjx\\n', 'krnzwgbaolvhcdemuxi\\n', 'hxpbvefcizgdnwsrktl\\n', 'hctgkenudlmivryzajbs\\n', 'rdaqztsep\\n', 'uwkoxpqvfm\\n', 'aw\\n', 'eujrmthi\\n', 'lwpryeouvizsnkfa\\n', 'maphd\\n', 'dsricvap\\n', 'rfnouhvlqcxbyzsajtde\\n', 'diavclz\\n', 'uvdwqmpofahzi\\n', 'mjf\\n', 'gexdskmijfa\\n', 'zfbtpvyoj\\n', 'qyeaspwifotkjvnuc\\n', 'iymwocqzjudxnlhb\\n', 'tdxcwkuofybvhnj\\n', 'jlo\\n', 'udmzx\\n', 'egcvursbhztf\\n', 'rqzmtovwlybaxp\\n', 'zaxfrotishgkqycbpnwe\\n', 'mkhroyfgzndj\\n', 'op\\n', 'cer\\n', 'nblfjazrhsvxugdimey\\n', 'vxcarqowzefusmltgp\\n', 'klocgubwam\\n', 'qngctrobuampvhxled\\n', 'aqrjgco\\n', 'ktaxjegrdvlqspzmwb\\n', 'oywxbgujltdmakeqzc\\n', 'vgfhxuycmk\\n', 'bisztv\\n', 'loajqdfhrcwvztukbygs\\n', 'yvlmihcdwsxefzno\\n', 'kvfgxihjedsmybqur\\n', 'ysnvkwucrtiqagzo\\n', 'lqs\\n', 'dtbq\\n', 'uwdkgcsiotlvfjbzxmpe\\n', 'gyhjpic\\n', 'smxeyzrb\\n', 'peuvkzifrbmhgqydjc\\n', 'zlwptciuesoxfkny\\n', 'wqdtxpjylernvkucgzi\\n', 'askpqwuflnovegbrdj\\n', 'ykxn\\n', 'hpeaulrzjywgq\\n', 'soqblzfarvitknpwegu\\n', 'rneys\\n', 'fdcxrikngbuoajtslez\\n', 'xy\\n', 'rgkvoxuqsmlziwdbcapt\\n', 'ucbfa\\n', 'urdvxfqwkclhjoesyzib\\n', 'bozdpqhgmcitvua\\n', 'iazbtgeos\\n', 'fdj\\n', 'nlxmfkgheducqtsp\\n', 'fvonbhliqu\\n', 'gz\\n', 'nbltopsqhydz\\n', 'nafqprdgehl\\n', 'urogjabsedlv\\n', 'ncazsgx\\n', 'squzdn\\n', 'osaynqbtvlxdmeipg\\n', 'wlujpafhmxrdnkoizqet\\n', 'cmewgxklzjnqf\\n', 'bwvzunhqlpjsmcityeg\\n', 'obflrdew\\n', 'tufexqgolpsinajwkyd\\n', 'emlhdxw\\n', 'thszrdbecnujkwqomg\\n', 'typbhngawedmf\\n', 'hvtdyzgeimqjp\\n', 'xqhwadtrfevionpzcmg\\n', 'zhpeuglmcjxqbkavonfr\\n', 'hiysvebqwcjopuk\\n', 'iouyxtak\\n', 'xtgrjamzuebdqlnow\\n', 'neshx\\n', 'cidkvnps\\n', 'pjiaxthbumwfsec\\n', 'sfctnoyqakudjp\\n', 'glcdeijhonbvqsmyfz\\n', 'xa\\n', 'dyxbkqjhwaisct\\n', 'pnjvwhqkgfuycst\\n', 'luiefgrna\\n', 'dklxymcga\\n', 'naxrekwisb\\n', 'ibeag\\n', 'ljfxryh\\n', 'nhuzjtkpylf\\n', 'ugeikqhamcfvdlztprx\\n', 'vokixa\\n', 'xlrzkqfsdivjtnehyg\\n', 'rn\\n', 'oexjdisfubywamztlc\\n', 'gfnikxsaeojyrtpv\\n', 'mkg\\n', 'zp\\n', 'hanomsjtzlvcgiqpr\\n', 'jipqrfekbgtvlyms\\n', 'iyjamlwtcxzopgs\\n', 'icrelzpdsgtq\\n', 'qmiwxyagtj\\n', 'mtxcfgvyuk\\n', 'nzeqptvmibjskxwlragh\\n', 'fledhnjkoiuasvcgm\\n', 'yaqbign\\n', 'uowexyjmftvkqdgbsc\\n', 'yogzrmvhc\\n', 'rvjobdlcpigtaysuhkx\\n', 'cjo\\n', 'myvwakgu\\n', 'wslfkrhbxgpnaiez\\n', 'hpgmol\\n', 'wvkyjnxmapfdcb\\n', 'rpwhmkjzoulegdfnis\\n', 'rjkaodmpnb\\n', 'kqovsmawrnugctjxlhyp\\n', 'lojah\\n', 'srbtdfyznoqxphm\\n', 'bcmw\\n', 'xasjorve\\n', 'ohjars\\n', 'cugposylwdqjnm\\n', 'zuegohlxmywspnkidfc\\n', 'argyupxhmitzdjvfowkq\\n', 'kmiubdzganljtcsfq\\n', 'kgipulfvnrhdcajeqzyw\\n', 'iunqlrtvfamywzxcsk\\n', 'ecnly\\n', 'htpmbscq\\n', 'uadzfqgkpwjvycnom\\n', 'yfkwtgdmjsupliavhnqr\\n', 'tuswangbmfpdzqlky\\n', 'misdkqzetbgplnyvru\\n', 'tpbliqmcdgswaeok\\n', 'lk\\n', 'uvmgowxshiyekbld\\n', 'tdjlxm\\n', 'cuy\\n', 'vqscwdypgnhoazxm\\n', 'antko\\n', 'klcx\\n', 'ntxalfdru\\n', 'xijk\\n', 'qbwurgyphjoi\\n', 'fua\\n', 'pbhjruwsdnmfoxiakylv\\n', 'rwxntusabl\\n', 'spho\\n', 'ygevrfjnuombhdp\\n', 'vnemjtqsyixbzhlpocwd\\n', 'pydfkqocaejwrtmzv\\n', 'mtdnrxk\\n', 'kfhnaz\\n', 'lvuewkzdmsih\\n', 'fhutpewovqlcgkbams\\n', 'zpjgoirh\\n', 'buhpenifz\\n', 'dctbnsauzqomkperfv\\n', 'wzmhuyvrjegqbinas\\n', 'nfjpgtezdauhvrwbs\\n', 'cmrxdjsbaveiy\\n', 'bgdxzswiojrfuqyavhl\\n', 'ijzcqmrsyxlphkbedfv\\n', 'bjwdp\\n', 'kicvpezstjnrm\\n', 'ogathybmldsrqwfvjn\\n', 'nriehwzmvtdlscp\\n', 'fqkbrysxztepmna\\n', 'alyqchebozkgp\\n', 'ergvsdfyanbwoxizpckm\\n', 'inyaoefswj\\n', 'yxipzslvobqkchwr\\n', 'ejcobfynvzugsmt\\n', 'rxhjqdby\\n', 'xtbqw\\n', 'cqxuwlnmyz\\n', 'odzyuxnqvchfe\\n', 'rmegidtacpqhzvlo\\n', 'hed\\n', 'dhxjfqoystb\\n', 'ngpksyawchdb\\n', 'akmtsegzlxqdh\\n', 'tmsnleyrxcafguo\\n', 'hqcbzklmgone\\n', 'lumf\\n', 'yxdsakwpqlnihmru\\n', 'oabfuxzjw\\n', 'qlygdwtusxcehkjmvo\\n', 'hrlz\\n', 'hdkrgmsltvznqxbyj\\n', 'mxcljfgqkdztiynu\\n', 'jxcgkpwdoayb\\n', 'kmge\\n', 'pasenjlkf\\n', 'eakmgzhwbqvp\\n', 'uytq\\n', 'zpelfkobaxmnuhq\\n', 'pbaesmqj\\n', 'gkdtemjhuyclz\\n', 'wlkrsiqnvejazom\\n', 'ecdbi\\n', 'hptonwdebsizgkcfylq\\n', 'otysuiaxcdlwpqe\\n', 'dtyhquackewosl\\n', 'msgdyzxqlv\\n', 'ahtcbpiml\\n', 'nucfhybaes\\n', 'kpdqwhxjzcfvgrma\\n', 'ktbryscaeqingj\\n', 'onaiezhuspcgrwdfjmx\\n', 'zavmhnujoexpcdkirglq\\n', 'ulczvidpr\\n', 'qhviwlmjsbfkdrctap\\n', 'fklsixmzotrwadyenj\\n', 'odjhtma\\n', 'frydwjhlbeqigav\\n', 'wsugmvdtyazr\\n', 'aktdeiursqlowc\\n', 'pxflbundwqihjkvrt\\n', 'iafkqx\\n', 'ab\\n', 'xsomgwhnlrbaftjk\\n', 'buo\\n', 'rkfgmbwni\\n', 'tdxbuzanhls\\n', 'jns\\n', 'kjruoywthxi\\n', 'unzahjkdviwrgtqfoys\\n', 'hnuowbzmjgfyskliavt\\n', 'sirzwvt\\n', 'ouvlqcgdtrwyknx\\n', 'cgthnrekazxdf\\n', 'qi\\n', 'bzqgxpu\\n', 'wgspuqdva\\n', 'tjycnsvphmardq\\n', 'jxlkrafyvmdwn\\n', 'cvjpm\\n', 'qfvogkzyb\\n', 'mzowtherpg\\n', 'auhzcop\\n', 'fsxtejwmzgik\\n', 'fzoq\\n', 'xqjdhpgyolwuisbt\\n', 'uwjbvyni\\n', 'jinvdufrgcpythzxba\\n', 'njqfstbedxcwyavru\\n', 'vxbpyrqn\\n', 'lzfwkxhsgvbrnqtjoi\\n', 'kfernhvxtgmzs\\n', 'qrvkjudcbleasnfg\\n', 'avezlu\\n', 'aqy\\n', 'wbagtkeicjphvqdf\\n', 'olqu\\n', 'osm\\n', 'nehfiupzgmajolxcrv\\n', 'wl\\n', 'sucyfb\\n', 'cmsxbhv\\n', 'zlykhujtxndw\\n', 'vilumakamuliv\\n', 'jimenokonemij\\n', 'polimerremilop\\n', 'otcvnqpjksaw\\n', 'tqcdkjb\\n', 'yegsrkw\\n', 'rsqngafyk\\n', 'ctxajnmsoqyghelzdi\\n', 'icxgth\\n', 'xcdhafwyrblkiv\\n', 'aihbjgtwd\\n', 'blraoqxjifkytdecnhu\\n', 'lgxkvafszudmrhn\\n', 'hv\\n', 'gy\\n', 'vhtxieznbacgdyspqrml\\n', 'shwmlcbdnaeutorfxk\\n', 'ckhwnsoigquyzvprlfe\\n', 'qwfutcyknvpighdlxrs\\n', 'oxzercihyw\\n', 'mwdgexyfzulbahstr\\n', 'sdmvbcutwnozkxjhgep\\n', 'tqwolebmjipxugyv\\n', 'gwknpvoxjucdf\\n', 'yfhamitoqs\\n', 'fvepijgchl\\n', 'jeqhgstcui\\n', 'dnhzegofikv\\n', 'mlczbneajudrvhfwixko\\n', 'wpnftxomgezd\\n', 'lrozbfjnydpcsagt\\n', 'xypqavbrjeogd\\n', 'sagendylwfhtxu\\n', 'dbmthzu\\n', 'ufwzhynemacjl\\n', 'fwkegyjnamszt\\n', 'yarlmfxo\\n', 'dcgkpxhmsn\\n', 'ro\\n', 'xsedlqbzrau\\n', 'rgwdhuzbms\\n', 'bnmietcxrdsflyquov\\n', 'ptoradj\\n', 'qtvpfkawigelbzsj\\n', 'miq\\n', 'cdgwxbej\\n', 'xgmyzfvnicdkolbspau\\n', 'pwdaz\\n', 'dfoehpwq\\n', 'ypu\\n', 'dyzvif\\n', 'lhmq\\n', 'yoavl\\n', 'dfmqvpkosuayhltxie\\n', 'btxvuk\\n', 'eytqbckajuxovzlihg\\n', 'sl\\n', 'slt\\n', 'oyrbq\\n', 'sdubqakgemfoc\\n', 'lnmhbepa\\n', 'ixdfpvrjebcgt\\n', 'gujeviwqysoz\\n', 'ofhbdspwyiqjck\\n', 'ldexqvszcy\\n', 'iuhjz\\n', 'rgqdwzlupoxstyanbvj\\n', 'sq\\n', 'geaktlrmwxvy\\n', 'lkfsptrjuheg\\n', 'frudhqxkw\\n', 'bxiufz\\n', 'voasjizx\\n', 'xodkpunb\\n', 'scynagr\\n', 'tiq\\n', 'tvwmpqqpmwvt\\n', 'iwzmgjnqeao\\n', 'omaicudxzrkbqyehflp\\n', 'hit\\n', 'wxdcs\\n', 'uhaqdrcztjl\\n', 'zfuymisrkdjxv\\n', 'xygofnkzqrcvajuse\\n', 'zgeshtrcmjwlbfaui\\n', 'pgeorjysbduzcnxlmk\\n', 'stmbkhuizdelyavqpgwx\\n', 'bckyvjphiaqfgedsuzw\\n', 'nvjoiastzfhkymrpwde\\n', 'cdolkwgex\\n', 'rjxuiqabsecwnghlk\\n', 'hrvfczpnwajd\\n', 'cg\\n', 'kqi\\n', 'gsoxeytjkbhlid\\n', 'ogtjkemydpvnhfxbla\\n', 'ahzdy\\n', 'gbwrpv\\n', 'qdysflkrwvcontbzuh\\n', 'muexqrhcivofg\\n', 'qkfuw\\n', 'fhnvlzuy\\n', 'dnqwhsylugvajimpxrck\\n', 'ojwbqdmigxpue\\n', 'vgnzbjkdusxiylh\\n', 'evwjxpncdh\\n', 'qwjhfzoilbxtuv\\n', 'shfdajpi\\n', 'bqavsdczlnefjrgtikph\\n', 'fozigvmqt\\n', 'jkvfymoiuxpbg\\n', 'wvhzosaeuxqpcd\\n', 'jwokgplbsadizvhxm\\n', 'ndfeutprcyzgwmaxo\\n', 'goxzbjminlcdyswqpa\\n', 'irdmtcnq\\n', 'xybqhatszjc\\n', 'jdz\\n', 'vekspnjcaxmo\\n', 'dloingcmh\\n', 'xumczpebtkdn\\n', 'rwazusfeqkvmtno\\n', 'hldt\\n', 'mageyhjdpw\\n', 'bewzvarhym\\n', 'oniwepaz\\n', 'qpzdhjyg\\n', 'xdgvtamjbzpn\\n', 'epdjlufbknot\\n', 'emhkrnvfpxldgj\\n', 'kozvbmyrplujfqsixeth\\n', 'znjsglordytvh\\n', 'vkfoba\\n', 'kxnaepvdobrwyfjhsi\\n', 'nuzwdxolhpv\\n', 'jsbpwlmrh\\n', 'rqd\\n', 'ehzifbkvjw\\n', 'arcwngjv\\n', 'cbdaugnoylftrw\\n', 'wxeocqiah\\n', 'ifzr\\n', 'tgiuqeyolz\\n', 'etkuxvlnprqwj\\n', 'umejqv\\n', 'hgltujeakvrcpmiwy\\n', 'lqfn\\n', 'inkh\\n', 'jwqkifrcpzg\\n', 'hjkcmzvnlearbidw\\n', 'zyrwvjgifbputxmlhadk\\n', 'pflj\\n', 'jh\\n', 'jwkvsirfl\\n', 'napezuflcyrixkdg\\n', 'uxrywcivhgkbnpm\\n', 'rpwysabvxjizloqeuk\\n', 'iphjqxyaltsev\\n', 'osfurez\\n', 'xyj\\n', 'ysndpcaurmkzifjw\\n', 'nkoasmczv\\n', 'aszudmgwjfi\\n', 'zwmpngelkji\\n', 'nlevzwxh\\n', 'fzx\\n', 'lkzhsxqauborfgnwj\\n', 'wkg\\n', 'ztflr\\n', 'egqsydhbwnk\\n', 'ugfpojk\\n', 'rxikmwvygef\\n', 'ktnpe\\n', 'xjhe\\n', 'gnhlfyjdtewsu\\n', 'klwoycadjsui\\n', 'ovn\\n', 'akutsrvnhpjefxg\\n', 'lurnofdviybawqpkhc\\n', 'prquzbhckelm\\n', 'riynjfvuqbw\\n', 'rz\\n', 'spuegx\\n', 'xdmefyswaviulb\\n', 'hgoxvufsb\\n', 'vmuwyefqrblnjp\\n', 'rfkwonmgihdzjsecbqp\\n', 'oekrzdcbtjfwqh\\n', 'dmeorcphk\\n', 'tkrpjuwdfqoghvnaib\\n', 'tsrfmydklxczvgnejpuo\\n', 'ibspdlzckenxfqtv\\n', 'pyhtf\\n', 'zskeujhirdfavqlcy\\n', 'gbdkicfpzehxtmyrw\\n', 'qe\\n', 'qltysufewaxgvjc\\n', 'ibshzxlrjegwomvyucp\\n', 'dtqm\\n', 'tguiaczqlkyvdr\\n', 'isdrkzclotuhfgpy\\n', 'vmd\\n', 'etcdzbmvgsuiwoh\\n', 'rtxuckemhpqvw\\n', 'fjwtmiaulekd\\n', 'wlkbsoacgfinytq\\n', 'mhcwjbysigpof\\n', 'zpkclvuixgjanmtsw\\n', 'njlhpdqkrfaxetyvims\\n', 'okb\\n', 'csqv\\n', 'lza\\n', 'kchoqxrpysmdzibfateu\\n', 'ihgqematvonxcrwufd\\n', 'aetnmgioyfjdhxzqlwur\\n', 'gdvsjqxuhim\\n', 'igte\\n', 'pnwrfa\\n', 'xuqvsblezyjconaikfh\\n', 'ievhaqdjorsbzkp\\n', 'xmswobltz\\n', 'ouifkmhqjebrstpgdyx\\n', 'uhnmqsgldkf\\n', 'wsdgtlnepikzhqcux\\n', 'njkzd\\n', 'mop\\n', 'barymigp\\n', 'rosnfvakmehgq\\n', 'xqoacrteufsvbidypkm\\n', 'etyodb\\n', 'bywp\\n', 'drwhuzl\\n', 'ybnlrfwtgiesocpjzukm\\n', 'ndw\\n', 'ws\\n', 'cnzwkeuh\\n', 'pco\\n', 'matbzsqxnduc\\n', 'rpbowlniy\\n', 'ulcrmhgwpyzbodnsefqt\\n', 'hbigjlqtn\\n', 'junbtcskxzmd\\n', 'kuhozdabynpx\\n', 'zfcavdqyokiwtespjlh\\n', 'nbsqlfevzm\\n', 'wjfmophlnduaegx\\n', 'ymtbahwzksdcqp\\n', 'zxcjkwb\\n', 'foiyusxdhwk\\n', 'wjfkrshb\\n', 'tagbnjoxmfdsklvewc\\n', 'abmyg\\n', 'dwlsvip\\n', 'sgnberzktcovwpqhy\\n', 'ipcldn\\n', 'zyrscphtljmdeaf\\n', 'qwmfdv\\n', 'fbhkqslmjundzayw\\n', 'edxwyanvctfbhzkgjlu\\n', 'ylohtrxuqpd\\n', 'vhijnymgaowe\\n', 'oiztanqsdrcehljvy\\n', 'zdatgbifynwvpcqlemj\\n', 'jrshmwnv\\n', 'zustcfhkqlnbmdpjgx\\n', 'uowifqxjgycekhzrbndt\\n', 'hsmwexg\\n', 'egstcp\\n', 'kfcxlsahudzwebqj\\n', 'vqasnzkhetpbimrlow\\n', 'sj\\n', 'tqwzbgxr\\n', 'luhwm\\n', 'bantfhldxyworzp\\n', 'czgdulamntkievjswxb\\n', 'oquvs\\n', 'neridgtfa\\n', 'sa\\n', 'oalmnrduiepkhsjzyvbx\\n', 'qbirwvjcandfohs\\n', 'zd\\n', 'zktvufrxq\\n', 'hmqibnog\\n', 'kwdnyohjfz\\n', 'rhscmqfxnyetvubpw\\n', 'tzpraouwlfn\\n', 'thinkg\\n', 'bpofvtejdnzrihucm\\n', 'nexriu\\n', 'xovbksmy\\n', 'aflos\\n', 'kdmj\\n', 'gljtv\\n', 'bctadfnwumoirx\\n', 'nxwsb\\n', 'qmatykvrnzue\\n', 'gpcw\\n', 'lgbmsnk\\n', 'yblojknudtzpqwmerciv\\n', 'sodgmwf\\n', 'ptcekiaqfv\\n', 'xktjmnupqyailcsvhofd\\n', 'tcdy\\n', 'otyksmuapbnqjfrdeh\\n', 'zpsafjicklbguroh\\n', 'wtvbh\\n', 'lmhfdpgnovzqwixse\\n', 'dvcbjnqig\\n', 'cdthgxrbv\\n', 'hzwyex\\n', 'rpmdcgnikjlhzqxbo\\n', 'fnilomzkwg\\n', 'tvfhwnpg\\n', 'plucgexjhaq\\n', 'mcwrvqtuzdelgxb\\n', 'izgdnlvafbqeujtsk\\n', 'qievafro\\n', 'ndhylivxqwebmtgp\\n', 'sco\\n', 'ch\\n', 'rxqzjliefmbocuw\\n', 'nvp\\n', 'xobiqnctmkaw\\n', 'ycdbfijunhlpovmx\\n', 'bou\\n', 'udyoxzrnw\\n', 'cejahfxbtkuovrg\\n', 'sdnfczlqxmbo\\n', 'wvrdlyumxczjhoantgpi\\n', 'jgrmyvf\\n', 'zictvg\\n', 'uhezqsytjlpicbg\\n', 'npgmj\\n', 'fidcmvonwstkypzjabxe\\n', 'ihjfymnklgo\\n', 'uvtfqnewmohzgadkcj\\n', 'bpqkv\\n', 'kfgqtlzvdweh\\n', 'kyxuliaqopmd\\n', 'ivgpyls\\n', 'cqfnweoypkr\\n', 'jhyagfcb\\n', 'kcoyfdzthxnlpbviwuq\\n', 'uohvmjrsgntlaebc\\n', 'fjsnhatvkw\\n', 'tzjwhcygdls\\n', 'hock\\n', 'areltjukbghp\\n', 'kjzrvfpdlgtwcqh\\n', 'sjclyfkqpvrizgbd\\n', 'czbw\\n', 'rpbqlfmxdy\\n', 'iuc\\n', 'uhqjctgakfpmyoxnzs\\n', 'qnamjseipzyfxduvlt\\n', 'yfvptmegrnaizsq\\n', 'pokfim\\n', 'slphnjdbkoaquvigecmy\\n', 'vnuzhqxcdwgme\\n', 'yqawnucre\\n', 'ynqgvbfp\\n', 'kaoe\\n', 'qygcbidjpsmhounvraxf\\n', 'eodayurikcvlhwsmt\\n', 'rphzkunbsgoec\\n', 'smqf\\n', 'zkiv\\n', 'pdfyblqnvmtgzurcs\\n', 'ypa\\n', 'qcsuvh\\n', 'xvqpdzgwhaflcims\\n', 'htsmwix\\n', 'czgpeiu\\n', 'hqowfpnksldmuei\\n', 'cgame\\n', 'sfgjlrbtpidkv\\n', 'iuygfzptboxwhvnej\\n', 'wzmrbgdxcis\\n', 'mfovpqdtjz\\n', 'mrxd\\n', 'nhdpvoqe\\n', 'fdgj\\n', 'skzegt\\n', 'ncsvhaz\\n', 'tvkdxgycjzsnule\\n', 'jsihtmorupzcdxfenvkq\\n', 'knjfarismvwqx\\n', 'bdgytfercwlao\\n', 'lapxqsierzdn\\n', 'rxmhkebitnv\\n', 'fhqekwsxaovij\\n', 'rkstjufmhozewliax\\n', 'balz\\n', 'hznoqaykmcxwvt\\n', 'ukp\\n', 'fwvzhu\\n', 'elhgxpybcoqsi\\n', 'qmaltebguchdnoi\\n', 'dawzcifukehj\\n', 'uz\\n', 'vhtknciygsuofzpqj\\n', 'pyglvfietacmhrs\\n', 'avcinjyemd\\n', 'hojtcirwmsa\\n', 'rvuszbwdlhkecymp\\n', 'zv\\n', 'ztmfhoqxwdasg\\n', 'gprsytkzq\\n', 'pimfqnowj\\n', 'xicgarv\\n', 'aebmruc\\n', 'fzrkqvidhgcx\\n', 'xaqpcgisdkmhn\\n', 'inmwfclopevq\\n', 'joaep\\n', 'othxeabyqnw\\n', 'oxvhbtaselq\\n', 'mahj\\n', 'blywgnmfo\\n', 'edwlmsirkhuzofy\\n', 'wovgnscyxahdifrmpe\\n', 'uyomvxwcdzplqf\\n', 'lu\\n', 'gpcbeodhlxqjwusktiry\\n', 'qrzopj\\n', 'hoguczatvifdb\\n', 'xigtzkndl\\n', 'yzblserjtpx\\n', 'nsjckqw\\n', 'zwruthxfyoq\\n', 'rfzitwxjuayhenoq\\n', 'uzpd\\n', 'jwyvuzedmntihlorkqc\\n', 'qmrniujwtpdfsk\\n', 'ho\\n', 'dbvyiufranoc\\n', 'gvlceoqnisupzthdkwa\\n', 'mei\\n', 'zme\\n', 'lbyj\\n', 'fj\\n', 'tcqrlusaxovfpbyzi\\n', 'akerl\\n', 'ienfvdwjbmqk\\n', 'yjfdgt\\n', 'ezmfaqnc\\n', 'iorwguqxajpecn\\n', 'qmgdihyzvkrljxsbo\\n', 'hmfsweybjrzkapotldcx\\n', 'blzi\\n', 'aqbxgrnwvkojecdhui\\n', 'jylargodbqwmes\\n', 'icvlkfgeutomsy\\n', 'pbuztkyhrgfwla\\n', 'iuqvmkg\\n', 'rdgbpftkcsunlmia\\n', 'wpoikefndrxhczgtvbau\\n', 'wikqujl\\n', 'qfgiavznrowykd\\n', 'dmpuqtcovflwxbihe\\n', 'fpqmytkedovxsah\\n', 'ptagcdxmluz\\n', 'vziu\\n', 'ohytjexkuvfdm\\n', 'vki\\n', 'bkiysceptg\\n', 'irlfqzkwnohajvydc\\n', 'omaqgvrscuwtpbfkxd\\n', 'tufyjik\\n', 'dsiaywvxprfohmqbje\\n', 'xjlr\\n', 'nlxthmdwuegazi\\n', 'cfwdm\\n', 'gxpafqtrhbywevndkc\\n', 'um\\n', 'eiytomvabxpzh\\n', 'chfetx\\n', 'uedcixmnvaqpotj\\n', 'rjedwtsgbyoipxv\\n', 'hycerxgv\\n', 'ifcobkxhwtajrlgpqnu\\n', 'bypljnhtq\\n', 'lkzyatxjvbgsfhec\\n', 'vfauywmdrehckislgxtp\\n', 'ikbsqxlurzdwemgto\\n', 'qmidcjyzxltpgs\\n', 'rva\\n', 'uomhwyibqvtaxl\\n', 'ke\\n', 'qagosemtyilxhn\\n', 'jzimwfpaylsgvckrt\\n', 'bfpzamcdt\\n', 'ztr\\n', 'ehjpzluknb\\n', 'jdmblzhfqs\\n', 'lhnfxws\\n', 'zsvqfcxpt\\n', 'fmziulgaophxywsctdk\\n', 'pvyljcdbthok\\n', 'euhwobs\\n', 'xepmtok\\n', 'jbnugezcalm\\n', 'spdiktunfqlc\\n', 'vdtjozwreslhkcfpax\\n', 'leviwny\\n', 'wgjs\\n', 'xnphabegv\\n', 'cflskbqinew\\n', 'eycxqlavhksuw\\n', 'zganokxilphbts\\n', 'ypkwzbmtfrcxsni\\n', 'ywstkruxdzgcnvfilmoa\\n', 'oaugdqwlievhncjtyzkb\\n', 'adcz\\n', 'xqidjgtukbfoslhpvrwe\\n', 'omjhx\\n', 'zgnxkmr\\n', 'lg\\n', 'fnkutqeoxiszlm\\n', 'djweslpmykfagnho\\n', 'tilmfrauhzcqn\\n', 'gkcdajfnuvtlh\\n', 'takqubfynlp\\n', 'htczsmridbwnvlo\\n', 'qdsxgnrtch\\n', 'evgxknouft\\n', 'fbapgexyhzkmctl\\n', 'ifdhqvbkpnjylwctgsro\\n', 'epaqn\\n', 'sldemiwkprt\\n', 'ngvtrbk\\n', 'vwosqzlmgjcnbitdre\\n', 'pe\\n', 'tv\\n', 'tlf\\n', 'mlzqvcshgjyiaef\\n', 'ifauencbsphyz\\n', 'sgu\\n', 'nthkscmplzoj\\n', 'rjqf\\n', 'vuigletdxwqcyjkonsf\\n', 'gu\\n', 'rqebowfmsdxvtlpji\\n', 'dygpjqoni\\n', 'atoqel\\n', 'ayvtkhzcwd\\n', 'vgzxqjotdbpkslunf\\n', 'wxfcmrdbz\\n', 'vpbftay\\n', 'cixovgdm\\n', 'hdmnwgslzo\\n', 'zqntlypkujcr\\n', 'blsgdpnecjzkfmhrxtou\\n', 'hgjzyqskrimxtdp\\n', 'wxjr\\n', 'lg\\n', 'rebajhiocsxmvqlyduw\\n', 'hknyliejgxoqsf\\n', 'tsaqph\\n', 'adlfcjoxkrsgyhb\\n', 'ievko\\n', 'hkizxosfnjbtcrlqaw\\n', 'quncesjbpfxvitlykzmg\\n', 'onltrfpxhgsjuc\\n', 'pdoyrjumwzclk\\n', 'qwknusthjfvmoxzra\\n', 'stbfhkpwxnzvdy\\n', 'numvjfkgrldqwayc\\n', 'wymejazhngkt\\n', 'vf\\n', 'kzgfd\\n', 'exvunki\\n', 'qfarhm\\n', 'dgx\\n', 'krgvqjoythsicw\\n', 'otifckvnuhjayw\\n', 'abnwmjhzsd\\n', 'kriomfza\\n', 'jsqgifwthrepxo\\n', 'jqfdz\\n', 'ldfnjystowigceuvx\\n', 'bsojp\\n', 'gqovmawbpd\\n', 'zmghtqxlsvuwofypa\\n', 'bjpoiwv\\n', 'uhfdyeqas\\n', 'fxqclhnduizjrwg\\n', 'dxzsgbcmlky\\n', 'xcdv\\n', 'xbnvruhwtdlf\\n', 'hjxgmdnasvcuerliqfw\\n', 'jfwubhxo\\n', 'rewjlo\\n', 'ibnsk\\n', 'ry\\n', 'mlnyigzhwfvje\\n', 'brzmhgfavdqpkxln\\n', 'mekhzblscvrixotypg\\n', 'siwfyphcoxqamjnlrgze\\n', 'tnmezkwqorxdcyula\\n', 'svwndt\\n', 'ckiaydoxfuveqbst\\n', 'uogyizqrvswhdptbjfm\\n', 'uxvczqlf\\n', 'poydkemav\\n', 'ftwsplreyqzia\\n', 'ugdeijcam\\n', 'hiby\\n', 'phswoeldrux\\n', 'gyq\\n', 'wjmuecl\\n', 'gilrsnd\\n', 'mswjpncxduqvgakretiy\\n', 'vnbzkejafrphdxgl\\n', 'vhzksmcgy\\n', 'qcjoifdrvnxlgpwzthys\\n', 'hfwbvgzemskupca\\n', 'kimdwv\\n', 'kiercp\\n', 'jib\\n', 'roiav\\n', 'dqtvwnask\\n', 'ugnoisweymktaqvpb\\n', 'jmrktz\\n', 'hmkowljfqvtpebg\\n', 'hyoxrbufqwmzvnsagcd\\n', 'iayhlpcjnzmbqgxrst\\n', 'wsopmzcyjiaxebntlvh\\n', 'mbxiaukf\\n', 'oxfbdzeasgurtvcq\\n', 'bikxhsoamzfdtqwvglcy\\n', 'afzytospnwejbrg\\n', 'wolk\\n', 'ahgpkfdxbylerniowtmc\\n', 'buorvislzkefxj\\n', 'jzpbogec\\n', 'mxkeqydzwf\\n', 'cmatswfnhy\\n', 'vqwkjpafiz\\n', 'rohkbjcmvtsax\\n', 'qdcjeaxotrmyfulkshb\\n', 'ug\\n', 'nbjtkpcfegxzyoms\\n', 'ewrcljztfnqsgpouyavi\\n', 'dgymnkfbw\\n', 'tmy\\n', 'jw\\n', 'lbtzprvoedygm\\n', 'ldsgxzfbke\\n', 'exdfpkiscy\\n', 'smrizwdbklnfyxqec\\n', 'remshavxcnzp\\n', 'dsgjycqxzrkluovt\\n', 'zwcxp\\n', 'sjefkulbahmqyxi\\n', 'rsatfwubnqyl\\n', 'mnxoizau\\n', 'iwtqznbrekjsylucgoh\\n', 'ylqom\\n', 'bzyojrfvcdipuemga\\n', 'qisjpmrou\\n', 'gztefv\\n', 'wmsqpdocjelig\\n', 'tolpdfum\\n', 'balkscgtn\\n', 'jlaybwsmdvxuhcgkr\\n', 'npteswfdxrkz\\n', 'wujszxkevlopqbthad\\n', 'citfvedzknlxruoqbh\\n', 'isnvpayromhxwdcjkgz\\n', 'hryyetshgaaghsteyyrh\\n', 'uag\\n', 'gjvsrycwmofexh\\n', 'lrvpwjgqnzxf\\n', 'hgfanlrzpdiqj\\n', 'zsimw\\n', 'nsmie\\n', 'zqhwygr\\n', 'ztqnxvfkgsce\\n', 'fzjcbworuvnkxeli\\n', 'wqmysnfjicd\\n', 'lgwciokdpq\\n', 'yajcxqlrnvwzbu\\n', 'iuyqfgkm\\n', 'odrp\\n', 'wrulabdksezmnq\\n', 'wrd\\n', 'ucvzxjb\\n', 'vtb\\n', 'zflvj\\n', 'dai\\n', 'pmjqbgrsvkdetlwxfyu\\n', 'ozfdlvmbxnip\\n', 'azeujlqkvr\\n', 'jp\\n', 'wkvngilrtdsxe\\n', 'ckirqalx\\n', 'aztsqfv\\n', 'ziubpkmyoqrda\\n', 'fqzvxgswpmltbho\\n', 'asqhip\\n', 'foa\\n', 'vkatomzf\\n', 'xjismvgwzuapdcknrleo\\n', 'munqwvcgsbayikfp\\n', 'usv\\n', 'eompjn\\n', 'tkoerlcjhmwnzb\\n', 'zhqgsyx\\n', 'yuojsncelagwiftq\\n', 'osvtylrj\\n', 'phsmavckbj\\n', 'wbrfakedipcxhmq\\n', 'jylnaxedpmtgs\\n', 'bhmyu\\n', 'xskcfqrywgdiphvz\\n', 'iwasqnpgtylvxcfzud\\n', 'dyzgjcvlsp\\n', 'lropfkzitnsxcg\\n', 'egvhakjsdy\\n', 'pijnlvmqgbkcfh\\n', 'awf\\n', 'dafyqtmxvlrbkpwi\\n', 'nqrjdv\\n', 'pcixlonakdsqreufbtgm\\n', 'virgau\\n', 'peflsxaw\\n', 'hdu\\n', 'ghoaurvcnq\\n', 'nbzcut\\n', 'mndirjzoqcuewsvtb\\n', 'lwhocivqzsdxj\\n', 'hsbncqufjoweltpaxk\\n', 'tlqbafyjxsoru\\n', 'ufyontihljdzbkwrma\\n', 'zkcelyr\\n', 'xkeubw\\n', 'ngoeusazl\\n', 'lmiraqyhfgszdvk\\n', 'osatkqdmzrplgf\\n', 'kwyvparuzon\\n', 'ijsxuvoprzlaedwtcfnb\\n', 'ue\\n', 'xmdjnrwyibovquhtfsk\\n', 'uxvqkymazefdosr\\n', 'jylxophcmsgzdvrenkw\\n', 'ary\\n', 'whmejazuqsnb\\n', 'ujgfqwi\\n', 'aqyglesthkocwmfdv\\n', 'nfxoepglzsw\\n', 'cqfjlthxrwkedzvsaupi\\n', 'zbdkawulfpvit\\n', 'yuhjbxop\\n', 'gwpnhymo\\n', 'wnxlsgrakjvymedpouh\\n', 'ipdvfzyejqlc\\n', 'ifwkehsumd\\n', 'wahglnrojkmusxdqpy\\n', 'ryxfdkhnuopvi\\n', 'luh\\n', 'xltmyvgdzrknohaqefjp\\n', 'owrsdxafgyhbuvmez\\n', 'dmjcszqgpxiovnybwaht\\n', 'hbcranxljf\\n', 'nzlvgmqaxjud\\n', 'injlog\\n', 'skpyznwvgrqutlhajom\\n', 'ickqhnjpvmado\\n', 'xzymif\\n', 'sywmk\\n', 'pxj\\n', 'aglmwruit\\n', 'whxjyaivzldcrktep\\n', 'zyfnblehkcwamgtpvro\\n', 'pwrhgqksuvdmfzjynxt\\n', 'nyrhljmdqbktaguiv\\n', 'rqdgzfimbvue\\n', 'vkjnslfhbcaiuxetz\\n', 'irhvnpfqdtsyzeabmo\\n', 'vcrgekzwjhdstx\\n', 'mqbnu\\n', 'jhdnvtxqmprusyblw\\n', 'prjmtxlgowidbkcqsaez\\n', 'pgqrmwvzkechjbnu\\n', 'sr\\n', 'kwmay\\n', 'wtafvieno\\n', 'klyc\\n', 'abcba\\n', 'tkpumchjvesfwal\\n', 'qhmlbiec\\n', 'ictnsdqw\\n', 'cxuptgwzadfb\\n', 'gyfihpldxqj\\n', 'iljtcwrf\\n', 'yolbhquemprgvifdwca\\n', 'yexozwsdtpgijqhbkrm\\n', 'mcaiqu\\n', 'lghzjfnckax\\n', 'lhtozxpwcfij\\n', 'velytnri\\n', 'pjfdlakcnsqmy\\n', 'exiwndkrbtmuoy\\n', 'cmosazdlvuktpjwyfgn\\n', 'wptumesaivzolfdkjxgr\\n', 'ukpy\\n', 'dqerslun\\n', 'cpafhkqvozlsgmunrjtd\\n', 'yuqgiaf\\n', 'qowsdlfatgxmvceyibr\\n', 'pfkctvdoqiy\\n', 'pyqxeosdabuwnz\\n', 'lozvbex\\n', 'uosjvfkwmcxpdhlgea\\n', 'xcmivfjzr\\n', 'jel\\n', 'lmxv\\n', 'ineosgavrdjuxzp\\n', 'tyoiwzlqf\\n', 'bhifalm\\n', 'wf\\n', 'hisbtygxwfdomevlk\\n', 'vhpqbtkimznf\\n', 'lzu\\n', 'zxoicukv\\n', 'qdemizospgyblhrc\\n', 'fwoexit\\n', 'hvgtc\\n', 'ycvhwjnau\\n', 'gak\\n', 'fhjslbkoivpwrnq\\n', 'ksizlq\\n', 'gywxvaqnr\\n', 'fz\\n', 'stnflgqmupjav\\n', 'dkgsnbvtqzcu\\n', 'vrckxbndg\\n', 'yxoivhec\\n', 'inwervgxzodhsu\\n', 'uaglvczrfwyopqixmjk\\n', 'vhjxzie\\n', 'ykjnrqoid\\n', 'hpavksczqboeg\\n', 'ioefywlz\\n', 'pkfhqdwbclextjo\\n', 'afbhiydk\\n', 'wzedvmnljyris\\n', 'nfarlujgmvcb\\n', 'svjfwedh\\n', 'cgxmlupikhnzeojd\\n', 'oktjnbcufvm\\n', 'cqgytkvjdswx\\n', 'bpixacewgdulth\\n', 'pqa\\n', 'lkaypcjzowrnutx\\n', 'ang\\n', 'fgqdkn\\n', 'qwytakfbldemic\\n', 'gvxupe\\n', 'nbqyd\\n', 'tdjlovkwsphei\\n', 'gfpoclzdbxawtsihruy\\n', 'phqnjiwyomfkxvrdt\\n', 'wyranvbdtg\\n', 'wkmilthejsd\\n', 'mcwvebpslfk\\n', 'wyodgbpmzqn\\n', 'fezvpoclhmryuwk\\n', 'xopycsqn\\n', 'bdwqgjv\\n', 'langjir\\n', 'infdklmzxjbtvrhesapy\\n', 'jotcwixmdzesrlbfk\\n', 'qchpftauwd\\n', 'luybmancjfhisvwo\\n', 'qsxbe\\n', 'yhqtvo\\n', 'iabrhquengwpmvsfx\\n', 'vqjlk\\n', 'lgibzocadrsvkehn\\n', 'cbhijers\\n', 'nxphwsg\\n', 'psgoqfid\\n', 'dy\\n', 'disatb\\n', 'biqtdpfhrekyzluv\\n', 'huzrevnaitcyjoxbglsf\\n', 'lrnesqbhaxdumwftzgcp\\n', 'zdrhstfvwb\\n', 'ur\\n', 'dxcmytgekfhuqovlijrz\\n', 'fwdbvxylons\\n', 'rlxymtpeujdoazhn\\n', 'vfkumte\\n', 'agybfhclenkzdw\\n', 'znefgtxulam\\n', 'skboewjgit\\n', 'kichuebwpdjqgmn\\n', 'xigrvsfqkjhnpcuadlb\\n', 'ibwdna\\n', 'viqgtcnyjrebpso\\n', 'vncgzlexjis\\n', 'kyiawzfopd\\n', 'icpt\\n', 'iymwpjcfauothldnrb\\n', 'rphijka\\n', 'epkvtfgnd\\n', 'xvwabgi\\n', 'onhp\\n', 'qzvwfisn\\n', 'odehnl\\n', 'ks\\n', 'fisvwauotnrlpkqhzc\\n', 'kgmbesfpjxchqnrdwztu\\n', 'rnauzwgsldy\\n', 'fkmwiujybpaoslhx\\n', 'inyzera\\n', 'sgfacqwjhptoxz\\n', 'usjetaycdzmr\\n', 'ayicwrnjpxsmlbhdzoq\\n', 'onzclebwtgrixqyfj\\n', 'cyplmdxavieks\\n', 'ur\\n', 'ifytsnarje\\n', 'zjcuevdx\\n', 'kcijdagx\\n', 'jkyngdi\\n', 'cg\\n', 'rzmtojiawd\\n', 'ykpsqjtbuziv\\n', 'at\\n', 'biskzocgmnwpaxu\\n', 'zysncvlxitujwr\\n', 'bypeasui\\n', 'cmkfoasyvwlgu\\n', 'rvtdoxw\\n', 'txfkrchswj\\n', 'vetalbxmsroyjfuwc\\n', 'krvqxfihmzoey\\n', 'jobnqfdivcxrsh\\n', 'azciofs\\n', 'pmzuvo\\n', 'dayinwtjsvkph\\n', 'nziusgwtoyaxhqpbvrl\\n', 'rdwuxlptngfkvqashiyz\\n', 'kqbmuplhegndafrcoiw\\n', 'wunyztgdcqavbe\\n', 'sfehngjpbuokz\\n', 'dujfbalgqhp\\n', 'aimyosxnurbftdhpl\\n', 'udgjbhziqarvcy\\n', 'hwsbnex\\n', 'bmscivrpwujxal\\n', 'atbgrywzimqdfhujensx\\n', 'ql\\n', 'ygrkvc\\n', 'suztdoblemwvghnfjcx\\n', 'uatxzdjwsplnib\\n', 'ewngabjuofcizshvdm\\n', 'ehkxtqjdnypiofza\\n', 'pqxzb\\n', 'jkietxvqfdghnmusc\\n', 'plvmukrztxwhi\\n', 'riepfqngzjwlhsudatm\\n', 'xef\\n', 'kculqtdxjhg\\n', 'crht\\n', 'ipkxaqymjfwuvgde\\n', 'mjnxrszyufvblocakhiw\\n', 'lyacqpjhexwn\\n', 'hgfwkia\\n', 'vt\\n', 'qb\\n', 'hkbrpvwysj\\n', 'kwvprx\\n', 'wbjipmngalotcuyf\\n', 'tbf\\n', 'kocuxmtvwlqfazs\\n', 'uznoiprwlabfsydmet\\n', 'ycgjbnasprfzlmkquhto\\n', 'jyhiuzdkg\\n', 'ueihtka\\n', 'px\\n', 'uvfxeqajiwkplrc\\n', 'hpwyukicgdlezbr\\n', 'prgqsbkwfy\\n', 'zfikqyhstgna\\n', 'eobcuyma\\n', 'qzjxbiyloemfktdr\\n', 'elbfriut\\n', 'hsfbrqgya\\n', 'mrfonptbhsa\\n', 'zjeapbwkmvonhi\\n', 'nhtjrcwfmayxdqop\\n', 'wntyolcifpjd\\n', 'gv\\n', 'lpet\\n', 'tpsmd\\n', 'ixdfygerwqmoavnp\\n', 'vgfpdojrixuebtaycsm\\n', 'iso\\n', 'lmbhrqgjxkwpiy\\n', 'cshaxvpniklje\\n', 'zwfaljhq\\n', 'jfywpvqhgckumers\\n', 'nlwdsogkvr\\n', 'wxtbypegfkrjn\\n', 'rzvnkfmutsjwlheiyd\\n', 'scmpkldergnujywbva\\n', 'axzldkyonehvmibc\\n', 'wdhnmkgxcq\\n', 'hkeapsyj\\n', 'zyvogmc\\n', 'gdtzqlkv\\n', 'hkjoqdyawfrbpmszvtlu\\n', 'fdxjgia\\n', 'tbokpimalhe\\n', 'xirptqes\\n', 'odztleibmjxk\\n', 'pagu\\n', 'eh\\n', 'xgptvukmchyajfiqde\\n', 'lapweki\\n', 'lwmtegkxivjcy\\n', 'xfmlqnpkgecbws\\n', 'kildzype\\n', 'pvhskxbwzaf\\n', 'physikmundaql\\n', 'gwxemjqbnfkdy\\n', 'wuzkmfdaot\\n', 'aohftc\\n', 'drwyjnehvb\\n', 'opfubrensh\\n', 'kmjwoltqg\\n', 'qshxkvrzy\\n', 'dwqfst\\n', 'lwcgj\\n', 'tvhibsnlyzxeqdrgfko\\n', 'wjbgtmrcksxoezindph\\n', 'tjx\\n', 'lqdkchgaxmuveynpswt\\n', 'eadfxskyro\\n', 'ourcaimxtpzskwyvdjbq\\n', 'symltoeqanck\\n', 'kzsoguwlrjvcmiq\\n', 'redci\\n', 'axmk\\n', 'sjxpq\\n', 'zsnyokqptbjr\\n', 'pnfeidwgjybht\\n', 'wogetkjquhfrvmps\\n', 'ezbvnajshtlrcpyouikf\\n', 'lhvadfxm\\n', 'azgithdo\\n', 'knbhvszjp\\n', 'zdnvy\\n', 'ehvsictxl\\n', 'ehslivcxbmkuat\\n', 'hxkrwfoevmqiyunpsc\\n', 'gxsfrk\\n', 'vlcgszwijqxumkneta\\n', 'wsmxkfrjhoctvayiq\\n', 'td\\n', 'kglbmnwxyuiadvzjqtc\\n', 'ojfyphulkegqib\\n', 'rvzombu\\n', 'qizdbauohjrylsgktwp\\n', 'rctiveobgwldm\\n', 'cdrqfeu\\n', 'epkiouwscgxlyvzrq\\n', 'piekutxnyfaglr\\n', 'nwjfyma\\n', 'owxgrtv\\n', 'mc\\n', 'bkmauzofqgtxp\\n', 'oeh\\n', 'dlpbjhinmsxwygruof\\n', 'swnajyfrtko\\n', 'dxmknalqervsbzj\\n', 'efztdracmglpxkojyn\\n', 'psbythoqz\\n', 'jza\\n', 'pkaltvuqborcxdizegf\\n', 'uxzamocerijdgbwy\\n', 'kavqf\\n', 'aujbcmzgoslpnr\\n', 'ztnyeqwvrxfplmdksi\\n', 'phbrayvokln\\n', 'smrygb\\n', 'dpolhfxtug\\n', 'cqb\\n', 'yvloqbxrzutw\\n', 'arqugixoedjtkhlz\\n', 'wdxhgrsmn\\n', 'msyxpbedz\\n', 'od\\n', 'bkx\\n', 'bztwmvfhsuepyqgxkri\\n', 'vmek\\n', 'tpfivxgejqrom\\n', 'mwcyupbnazhj\\n', 'mxhksionrzlvbfautwq\\n', 'wlzqmfu\\n', 'keaqbrhoucwjpf\\n', 'qvnsigfkzt\\n', 'ydhneroubsgp\\n', 'hjwlyavfbocnxspi\\n', 'rgdekxfvhio\\n', 'biw\\n', 'efuxydizlhgkacbt\\n', 'zynu\\n', 'lxedguambvpwth\\n', 'kycxlnpjgqm\\n', 'qciwrbzogdtankejumx\\n', 'mnwd\\n', 'qythzwoedg\\n', 'osbmctqu\\n', 'ucsaym\\n', 'ehwbigolprkyzvjcadxm\\n', 'dwqtgyom\\n', 'yjqhdgf\\n', 'mhuzsxfcgtwerljikon\\n', 'urtpxvhe\\n', 'fiplwxcgvqnyur\\n', 'beyvxqtadlnjkusphrmf\\n', 'fclabjrzxevupkdqg\\n', 'xkmalsqdpczhiuefvn\\n', 'kbcvsmtqplwryduxoaeh\\n', 'tqckpg\\n', 'udoeazikfbmtgh\\n', 'ndokef\\n', 'mdgiqzntkcsry\\n', 'ujgkdhnvabsiftrleomz\\n', 'fpjkycarvzitldng\\n', 'ujldabcgwokim\\n', 'xzosinruldcygpea\\n', 'gvmjfid\\n', 'qxnzt\\n', 'elzovtxhgwa\\n', 'bojyknfgdwica\\n', 'rfkalsmhyzqcpxjo\\n', 'uwatmqjcenskxyfr\\n', 'ezqym\\n', 'rkbqspwviznoahdjm\\n', 'tbshrojupvzindae\\n', 'peuko\\n', 'fapyecmgdqsxhjt\\n', 'niorjlswvhgmfbzp\\n', 'jadtsoxufchq\\n', 'imfjcpkrwvbqtya\\n', 'ldyasxnzqo\\n', 'fepciqrno\\n', 'ruoytjvqwkzdsci\\n', 'cmgwvq\\n', 'onrtlfxmivucpeqzsjdh\\n', 'kvgwydtneuoxjqbs\\n', 'jnyzvltse\\n', 'bnzfkhwyegrstxmjd\\n', 'xqvygfrmknsictdoah\\n', 'kosrqlg\\n', 'hlxvefqkowitj\\n', 'xh\\n', 'xvzkwubtdsirochlp\\n', 'yekdsrqjnvuwgizoaxlp\\n', 'kjdotlqbnpewuc\\n', 'mgvifxylzjdwtuqkb\\n', 'frzokuysxb\\n', 'fhun\\n', 'vznskrqe\\n', 'qpkyeoscxu\\n', 'vtgijx\\n', 'nrosqldti\\n', 'lmcfioydwbtqsnxgruk\\n', 'edwf\\n', 'ksumxwyb\\n', 'hjkrzcdsxui\\n', 'arwfv\\n', 'lyt\\n', 'xpzdchsemguovfiynkj\\n', 'nspyxcoivef\\n', 'kjogymtvlsbefhdn\\n', 'sgwtyce\\n', 'cypd\\n', 'wfbmezxgospac\\n', 'taxopsvgmqcikeyhbdw\\n', 'cvsalwbue\\n', 'bjyektrmzif\\n', 'dwyufsmkpanthx\\n', 'hdozujpsrxlibmavwfeg\\n', 'vgye\\n', 'jgesdwcozthu\\n', 'zqfdcvrapjebxko\\n', 'buzk\\n', 'maton\\n', 'aiefkwzovlcsmupdb\\n', 'rkwbjfyhx\\n', 'bonseicvrhqjktgp\\n', 'yzveuochbkfnsxgma\\n', 'fc\\n', 'sixnu\\n', 'ptsbmfwilzhden\\n', 'utqnfjoibceyarm\\n', 'agljntvibkd\\n', 'fiudhejbovpg\\n', 'gzltximh\\n', 'yginduprolckjhwxzeqa\\n', 'eq\\n', 'bzcav\\n', 'ukdcrtgqvnzhoj\\n', 'xlpbdfu\\n', 'aeylzsirkmvnwxctb\\n', 'yiduvfg\\n', 'bsudjveixf\\n', 'pygemvdcnfj\\n', 'hnbpkmfcjqe\\n', 'utpwzyevng\\n', 'xiyajd\\n', 'it\\n', 'ptwfhcodzyeuxirjvgna\\n', 'btk\\n', 'xovalmk\\n', 'adwcsvhyjegnxz\\n', 'btuynxgcvmlhos\\n', 'spdqjrxybfaoc\\n', 'vrh\\n', 'ov\\n', 'fknrywdvogbamqzpius\\n', 'ryib\\n', 'otyfukpszdcnjbv\\n', 'bqjtenzhcsmwda\\n', 'prkdgtbhvnmwy\\n', 'agowdctmvlkpy\\n', 'jxvdrtzyokwa\\n', 'yiosgbcqrwemtafhjdpv\\n', 'iqhceljdauytmznoxwfv\\n', 'ezcwbkhgptjrnuqli\\n', 'ftozsavwimhebuj\\n', 'godmjcnzkeplast\\n', 'dfsi\\n', 'pbfnuvgy\\n', 'xowgzk\\n', 'kl\\n', 'jabpfqdvmi\\n', 'mho\\n', 'wsky\\n', 'khjyzqbernaidsfltwu\\n', 'mgkfnhdoaeurp\\n', 'zuiofm\\n', 'selrqap\\n', 'qg\\n', 'ezdskviwhxq\\n', 'fwyskaqjnelrzp\\n', 'dtwuogqkeh\\n', 'wgucoarp\\n', 'aywjzufnlipg\\n', 'vpxmafzshjuldi\\n', 'xzrpiuqvmsjydg\\n', 'xnvuocitkrfl\\n', 'jhreqobxcflvumt\\n', 'cqxumwkdavjblgepifr\\n', 'ai\\n', 'mrivywpghnjclf\\n', 'zfvowpyghkuqldbsxct\\n', 'jizmebrndsx\\n', 'sh\\n', 'xklozs\\n', 'usmaxvekyjl\\n', 'veuahjgtidbslpy\\n', 'itlcoqe\\n', 'mknxvhq\\n', 'evdjkwcylitszgurao\\n', 'zwxlhumopyidgrt\\n', 'gmhkdawsipcbjnutlyvq\\n', 'lh\\n', 'cnjdhsmvbwrpxkfatl\\n', 'vxwcefnqpahmrzdiobjg\\n', 'bkfwvoxpjacudqglezt\\n', 'yirtvowmflcxazhdgps\\n', 'dspgleyqwtijhn\\n', 'grxslaoeubyhvkidcnw\\n', 'tcphmdqgklizbrn\\n', 'tja\\n', 'waxqbznstmufdpkljg\\n', 'ilxchjsurftondvpzyk\\n', 'rmcepbfv\\n', 'msfxewagjqyl\\n', 'vyrzmgftnxqjbhadok\\n', 'wxfui\\n', 'cnfdzvxwg\\n', 'ctkurmzoxlgqeyhdpv\\n', 'pwio\\n', 'aigd\\n', 'udinyojrxbcavqmglpsf\\n', 'xs\\n', 'xsegohvazbkmf\\n', 'ztworjcqufybgse\\n', 'tbpoejiurmgdlwnxk\\n', 'nxvlgydjcsiuh\\n', 'ev\\n', 'xuecbi\\n', 'gscdvrzijnufhk\\n', 'lvwzghuqcrf\\n', 'worcul\\n', 'cferkwsdjboxutv\\n', 'ylzmjrqvtdson\\n', 'wkxln\\n', 'avntqwighdsuxb\\n', 'pbrhjduaqg\\n', 'rbfuahwcgpsoyz\\n', 'ytcpqwmnivg\\n', 'oxpusbwlntayz\\n', 'xmpzlhrbjtkgnefw\\n', 'amzfosieqthxpuvdn\\n', 'ojfskurcpyb\\n', 'ikxyuboqjtwcmn\\n', 'vwsi\\n', 'dqmyejzovfcgrxwk\\n', 'edxofsz\\n', 'hcduvrbmgpzxnjs\\n', 'gtmpfloiqukeah\\n', 'ibockhpntsgaxywlzmd\\n', 'guhozasvywl\\n', 'lmihpew\\n', 'dvazhjbsqitgrnkc\\n', 'vzbohejatnukpqdfrmgy\\n', 'kuycgdobrvlpqt\\n', 'lsafxtowprnzhv\\n', 'jedzhkb\\n', 'jqksogbihpucatdyfm\\n', 'tdwosnejpzbuylkirhvg\\n', 'iajkrzsxomednfvt\\n', 'yxperztwquhsiknmcbjv\\n', 'zw\\n', 'hruanltvjzpsmfxcg\\n', 'wcupnbisygfaojkhdel\\n', 'yzdgbvqucemhaplij\\n', 'erwbvz\\n', 'dqivuk\\n', 'yvwjrscniokghq\\n', 'vufwbeqrlazitgp\\n', 'fs\\n', 'vlboxwjkrsegihanpd\\n', 'fcokltnd\\n', 'juxor\\n', 'abcba\\n', 'wucdvqp\\n', 'zfjopkciteba\\n', 'lkuqagozefbrhtpjn\\n', 'hrkczb\\n', 'ktjedzurmcvso\\n', 'pibnwcyrxqlvgsojkf\\n', 'fglzuyksmwavqjophdx\\n', 'byqxmatvronuw\\n', 'ocznyvf\\n', 'habdvkmx\\n', 'dunckzwrbeqihtoxs\\n', 'ulcey\\n', 'otxajmpfsvicrgzhk\\n', 'vj\\n', 'ilnxgbr\\n', 'eilzgjfwdstqmup\\n', 'bvoyd\\n', 'jvg\\n', 'hztaq\\n', 'svl\\n', 'fc\\n', 'ntjqiorphxkyebmsfcua\\n', 'fnp\\n', 'tovs\\n', 'nbmazhyfwxvi\\n', 'sjxdfolrhkgwta\\n', 'hutwx\\n', 'crngis\\n', 'hryyetshgaaghsteyyrh\\n', 'rzdtngwqamsfb\\n', 'oqbltgmjpraidv\\n', 'yjqxmovnaheckzip\\n', 'ziyanw\\n', 'jbdtmayp\\n', 'nkqeciyj\\n', 'sadbfujzrvi\\n', 'zr\\n', 'dhiqcuoyez\\n', 'xyrdlmubaipjwtk\\n', 'jgzh\\n', 'tvuqiplrmbj\\n', 'jrsfz\\n', 'dkin\\n', 'pthiz\\n', 'hofvpzaymtlc\\n', 'ji\\n', 'ugtkozeynbsvjld\\n', 'lczhvgxpq\\n', 'vxn\\n', 'vr\\n', 'jgulyftnh\\n', 'qcgzmspxuolnifebh\\n', 'zjpwnucdabltoerfx\\n', 'zobmpnvj\\n', 'xuoaghscvqetrdibzflk\\n', 'ralmeuvjoftxydgswqkp\\n', 'lzckb\\n', 'yrxqpubad\\n', 'ymkuhrbex\\n', 'bhjoxmpznqteyl\\n', 'oxcpmzisjahwb\\n', 'by\\n', 'puswj\\n', 'njhsctqrax\\n', 'serzxck\\n', 'odkjzt\\n', 'pakhvrw\\n', 'fkvehlcypjagtbm\\n', 'hbfoti\\n', 'tshmgjerfdbxk\\n', 'xivgmt\\n', 'hyoa\\n', 'qasdwxjpm\\n', 'edlsaxht\\n', 'wni\\n', 'tcyjhmdxaielrzskngf\\n', 'lkpuov\\n', 'ygpnwbolfztv\\n', 'zuekhfpsnqbaydcj\\n', 'yk\\n', 'bfyxehlcg\\n', 'hotpfksmrlbqgeaxiuv\\n', 'hwzymcpjxge\\n', 'ypjtlbwnakvhzfe\\n', 'pnyxqtijehvfoak\\n', 'gplyfuqstmokh\\n', 'gjfrliocbvsxnekw\\n', 'euljsbntqd\\n', 'ernamuqgpjkyhwxo\\n', 'ypnadbqwlujfsch\\n', 'wfumye\\n', 'lapzhvmswe\\n', 'irzxkgwbmfvychl\\n', 'ovnaekzhwxg\\n', 'erqwpgyivaslukdn\\n', 'ypbjgmrtkiaohvdqx\\n', 'gnc\\n', 'tyvushgpbloir\\n', 'wuv\\n', 'rikyzwgupml\\n', 'vlqsczkpt\\n', 'iehut\\n', 'ld\\n', 'tzgekdonqbmcwfrxal\\n', 'rhdki\\n', 'apbxqf\\n', 'cismh\\n', 'makjscehlxyqvpi\\n', 'yudvcajl\\n', 'pskoydzncwfq\\n', 'nozd\\n', 'rufgdemwtsbpcliyxjao\\n', 'ldqrswekbazhpmvti\\n', 'bj\\n', 'cpjmyqebginlzrwk\\n', 'azbr\\n', 'hurmitlopynjk\\n', 'lnfceiqztwbvhopax\\n', 'rbaxpwsqeih\\n', 'hcxwmzgs\\n', 'kexrusptiw\\n', 'fjcqguerpsdmwoyk\\n', 'csomqixzlek\\n', 'zdorljubhifpx\\n', 'lmvfbczauhj\\n', 'qibjxylnodrec\\n', 'hjilxsprvn\\n', 'hfbagyqxvjnrltopkciu\\n', 'vrckgaixmyf\\n', 'objwhgctykriqun\\n', 'qyxnvdhjbfl\\n', 'oldqarhtznvyg\\n', 'ro\\n', 'cioplen\\n', 'snvkwfpt\\n', 'yujkcrdxvz\\n', 'sh\\n', 'qupgdejwtsbrkov\\n', 'dkqyslnzaotehix\\n', 'icnpblhydqufvzrgek\\n', 'neptbmzafclvjou\\n', 'gwnldvyeboujrqtsh\\n', 'hkozgwuifs\\n', 'damhf\\n', 'jxapsioyngercqdvk\\n', 'hsyrbt\\n', 'bkfigvqmszoulwe\\n', 'wnrlamuq\\n', 'flqdz\\n', 'ibuntzdhpeoaclwq\\n', 'einljudatxfkpwbozvy\\n', 'rvenmlzbshwyqxij\\n', 'ziukynxhojvma\\n', 'xycuvtaqwkzor\\n', 'rsigkbhjepu\\n', 'fibrmnpulsjay\\n', 'sjwechyiqz\\n', 'cyfdijqhkztmse\\n', 'twpuvdboxzlifqjh\\n', 'hfmpvbsuezd\\n', 'nctflxhipkgyjvdobs\\n', 'pqsntmlvifwjhy\\n', 'hkpclrgmauveotb\\n', 'fxwyjegnspazortilqc\\n', 'rfnmhzd\\n', 'exwmjalogchzkuvy\\n', 'uxfnytjcphwl\\n', 'vpdxnyuhjo\\n', 'xqz\\n', 'bxymgzeqjhpwoadvsl\\n', 'ejcipvou\\n', 'sgzmajxfewrynhkc\\n', 'fmbuqcdi\\n', 'xuqk\\n', 'uylcvmtwrxpnbaqsgf\\n', 'qzb\\n', 'xskzyrehwptoi\\n', 'gvswbxehqtdnomurzfk\\n', 'nxlqe\\n', 'fpdqy\\n', 'nqaxbfckegjvsod\\n', 'tzyhfxw\\n', 'zrucl\\n', 'yiflxmqvou\\n', 'txecawjlqf\\n', 'urhcbn\\n', 'uzrwscgvxdmpyikj\\n', 'zcqb\\n', 'iahfjqek\\n', 'wdgbhkafj\\n', 'eszymg\\n', 'ajzuhw\\n', 'qybsu\\n', 'yjrocienwgxkquml\\n', 'oqfad\\n', 'kepah\\n', 'vfjecnogubdmxkla\\n', 'otgxj\\n', 'qj\\n', 'vtrqdgsza\\n', 'uljxn\\n', 've\\n', 'iqtjfzxsv\\n', 'ax\\n', 'vkbridmwqz\\n', 'emwit\\n', 'ucy\\n', 'twdoyplmikcjz\\n', 'hpjxotyczfdrwue\\n', 'pcsiunyg\\n', 'yaz\\n', 'bxamypwlvhnqcsezijk\\n', 'lnbsxpemutdvorgfq\\n', 'qyhjamxsrdobl\\n', 'qdpahefsob\\n', 'wdecjug\\n', 'mu\\n', 'xlzfohpsqewvjtdak\\n', 'lqskveayoriwun\\n', 'ohtsezcipyxbl\\n', 'gmatvsl\\n', 'egospqrxj\\n', 'zhdkbnv\\n', 'dqkgby\\n', 'hndvrsafkwb\\n', 'kbeyhxgjr\\n', 'saiuhljbw\\n', 'cwismdexf\\n', 'lbthrvefksc\\n', 'hwunxqvoafstjmcgdl\\n', 'qnbzsuygxwcftak\\n', 'nzvugjhfmk\\n', 'kwsayzfbvcgpmedhiotj\\n', 'gqtwljmacryofbeu\\n', 'efadku\\n', 'nopghwiurqcmxe\\n', 'imcybhnxqrw\\n', 'ziyuvcaerbmw\\n', 'jogzfadk\\n', 'xanguifplsq\\n', 'jasyomdw\\n', 'fpc\\n', 'xuwchrtomfzneqkl\\n', 'yrluxtfhjqipobwksecz\\n', 'vefhiwpbsdygzaxmko\\n', 'opemlhqnusjyakidrgcv\\n', 'vicdqnyg\\n', 'etchwmlixspnzyuoa\\n', 'jm\\n', 'trhwdvposcmnfjxaq\\n', 'bwyerdgpoxlsni\\n', 'pwxakefnqbg\\n', 'qduyjvmkslxro\\n', 'yipazg\\n', 'tnvxpzgcluyr\\n', 'htuqbzey\\n', 'orvhktnyl\\n', 'awoiygumnrfqct\\n', 'ynzdvjasfruchlmkw\\n', 'idtvaenkbogpq\\n', 'qsyvltzphegwcubfmk\\n', 'tdnjsxwrkfbvgyeliqp\\n', 'bpexsqkfuidcn\\n', 'vsfzukidxygolmcwbnt\\n', 'rtvyhn\\n', 'adzpjstgq\\n', 'hsmionpyfvrwzt\\n', 'udbncxsfmhkt\\n', 'nzhivujw\\n', 'hdzyrvctel\\n', 'zpomgwakyqubvxie\\n', 'yz\\n', 'xrsj\\n', 'lnzftsrhxiy\\n', 'eqchxozdi\\n', 'dvwjgmbuykilqtxcnoe\\n', 'egqybroknpmdf\\n', 'vmbo\\n', 'nomzfegav\\n', 'xlbusmackidvjr\\n', 'geibfzplsturqdajwnm\\n', 'pwf\\n', 'fxhypdlvrjognsemiq\\n', 'vniqaulrt\\n', 'ov\\n', 'lzbqn\\n', 'jtlqwpibfokuenx\\n', 'pafsxvncquyhz\\n', 'lwzorn\\n', 'sqgindxelpzvocmkf\\n', 'dkcnugjorxtwqafsl\\n', 'emvpkbyx\\n', 'uopqemz\\n', 'jzfuaovgmxk\\n', 'sjhemavwbzydiuqnro\\n', 'azxwjitnpvkrhu\\n', 'hkyo\\n', 'gzrxjtqvnwe\\n', 'jtlhyrf\\n', 'jvmipyqaorzbnetchslx\\n', 'aqei\\n', 'auwcsbh\\n', 'av\\n', 'woxdbasr\\n', 'laovp\\n', 'gblqsxdfkzjavyimwnpr\\n', 'txqo\\n', 'edpzm\\n', 'jyostlgxabrhmz\\n', 'iykzsjtlvqedpb\\n', 'wipsxzfjoqnlakt\\n', 'cbghikl\\n', 'chxtkqg\\n', 'muekfxo\\n', 'tgaxryskcb\\n', 'zedugmkvyw\\n', 'yk\\n', 'vynrtawgzeujb\\n', 'jknvfbmgazercdstpyu\\n', 'dserymg\\n', 'bqmrtglhokszfcv\\n', 'wskcnxoteypm\\n', 'lmvyth\\n', 'gpywfocukqsbealrxznj\\n', 'ezksrixfmbcgpywhlnq\\n', 'azi\\n', 'dstkglvoypirxnhcaj\\n', 'itqgxvoepnyjbwlfc\\n', 'ymeulbqkstg\\n', 'betdqfolrcgxkyuzjws\\n', 'ypsvzbwujionht\\n', 'zascfqobjd\\n', 'kvyraqmdeotbxjuwnhsz\\n', 'kp\\n', 'tjisomya\\n', 'tswymjilzq\\n', 'bufvsqelarnzh\\n', 'ofyntjs\\n', 'ngmivybopxchuwkr\\n', 'mgjecsd\\n', 'havjxiqlstbuoc\\n', 'kxjzrqdtufaec\\n', 'lszhot\\n', 'vlhbnkmsg\\n', 'iawngtmec\\n', 'dqcpzwrtlbn\\n', 'ltvercpgxf\\n', 'xq\\n', 'xatcjnkowqmbdyr\\n', 'oqyvbsifwhkrezx\\n', 'ignysjpdrvu\\n', 'ycexbrntagoldfjsh\\n', 'pikevrxotbluywmhgnsf\\n', 'ndiabcgezhotwlspyu\\n', 'mvjaepdfshnqr\\n', 'hznujbgyfeaswpom\\n', 'omvigypqstcjb\\n', 'nqdxkpaebsco\\n', 'lesptquabizkhdx\\n', 'avzfkgscltjqxmoiwd\\n', 'pigxlmecqu\\n', 'xgnrfewkyhjzlpubv\\n', 'rubj\\n', 'geqvnolmxdhkfaus\\n', 'kvhwzg\\n', 'lwoexmsthiyzkdv\\n', 'yevd\\n', 'ybsgrlz\\n', 'vehfwjqdiby\\n', 'uztlnyobkfxpqjrwa\\n', 'lzrcwk\\n', 'wnrmphvqoue\\n', 'mf\\n', 'mdwuraxolgfnpy\\n', 'feqbyjdupmlnvcx\\n', 'qbrgjncvakeuipy\\n', 'nsoibclwhmkrfedpyv\\n', 'gwjcvbkyqazui\\n', 'sawgliqcmepkzubjty\\n', 'woptlz\\n', 'shzcafywxqgbretpdj\\n', 'rpnuyvi\\n', 'oytbqngaeiswxf\\n', 'iuylzosh\\n', 'gziamxbdtvslq\\n', 'vgweasdzqylpt\\n', 'aeso\\n', 'tjwrilfv\\n', 'vzjksy\\n', 'aceimknj\\n', 'kdomufzj\\n', 'hb\\n', 'blwiycoxvz\\n', 'eaugmdviwychrnlfsp\\n', 'wzrjpihksuoaextblgy\\n', 'mfdwrvenib\\n', 'hgv\\n', 'nfudolpjtavwmhs\\n', 'rbpkcsomh\\n', 'jcsmiobrkwpfuv\\n', 'oyeapshuvgfnwr\\n', 'svwuh\\n', 'jwmnehs\\n', 'qofygrecpkn\\n', 'taureylzxsnmcpwjkvb\\n', 'qyaiswh\\n', 'podtwzblg\\n', 'csyv\\n', 'opqahimefzlwbjksu\\n', 'smwzueoqvrchxaktlgp\\n', 'dzsnprofkhquaxiecmt\\n', 'pmu\\n', 'go\\n', 'iekutbyshljfnqovmdpa\\n', 'feyjvndztksaq\\n', 'vptbiqnoaczl\\n', 'obqdglazfewxivhj\\n', 'coafbleqrjk\\n', 'bfu\\n', 'kgbxhqolmnspifc\\n', 'ufblsnyiawkcvhrjzo\\n', 'ojilvfczrh\\n', 'emhyckdprftwxjln\\n', 'ohmqreyvzfxtsupaic\\n', 'nuqxfj\\n', 'mazvxtldckqnjrh\\n', 'bgczhmfquidlnex\\n', 'ikhvwzlrepomcuja\\n', 'visrtokqdfhamcn\\n', 'yu\\n', 'zcfqgte\\n', 'pqfcjnugbviyzsxe\\n', 'uf\\n', 'xcsajtmfieyzkwqlor\\n', 'prknuehwdcx\\n', 'tfqkcnra\\n', 'khusibltpar\\n', 'rfxi\\n', 'gvowcmdhr\\n', 'vkcnqotedfg\\n', 'kmcsjlegprdyabfnqvt\\n', 'kqbijmdt\\n', 'olrnmgk\\n', 'skfgltdvxjuwo\\n', 'hzapgmrtvqdwklcbo\\n', 'hfs\\n', 'furnctybgpxqdhesjv\\n', 'icmtzydx\\n', 'exf\\n', 'aegrlviunxtqykfw\\n', 'mevonxwzufg\\n', 'lyktfdavn\\n', 'gmwoqfauy\\n', 'temxznkldpa\\n', 'dwzhkbqpsailrct\\n', 'hwmruviyfgq\\n', 'sjkguqxp\\n', 'imhdufaylw\\n', 'wezmgvbnhoicapujkq\\n', 'gjykdi\\n', 'ojeknihacg\\n', 'xtw\\n', 'uepzhbjvtra\\n', 'tzafrsqvuw\\n', 'adhsowgqi\\n', 'qdgo\\n', 'ngfljdhremiqtvcyozw\\n', 'gakeuszfm\\n', 'jtfaqubihmezcrnsl\\n', 'dizlnr\\n', 'ivtay\\n', 'fytuernlcmsxvqow\\n', 'oqh\\n', 'iwakmqoglvepscxnuhzd\\n', 'cylefgnpwsbhroa\\n', 'tpymajknhiglsvdqro\\n', 'dbajlmwpuzivcrofkneq\\n', 'utqxb\\n', 'jezutkrhxmng\\n', 'un\\n', 'pgvbfni\\n', 'yio\\n', 'sazgnluqvhetjxyf\\n', 'vfypgbqnjtxs\\n', 'jqp\\n', 'jrdby\\n', 'yobilfmcdksjnvqzg\\n', 'zrmgqxh\\n', 'mxoflvnpytju\\n', 'mzjycngqvtrklpusdhf\\n', 'xobdlaqecu\\n', 'pe\\n', 'wtrneulbcgakodfijhs\\n', 'ayrvfp\\n', 'lktgxmcjfonezu\\n', 'kfpqzbjdygrxlim\\n', 'mtcuhlsgwojnbfydz\\n', 'kzimgtprbcdaqs\\n', 'wiaxlnkstg\\n', 'lkvgxezcn\\n', 'uxzhpor\\n', 'evbhixpwqsflanmrzoy\\n', 'mrjbzpsyhiqtcenfvkdw\\n', 'btzmyngjrcaw\\n', 'dfmgxqjo\\n', 'cmag\\n', 'iqgohmzw\\n', 'qavhfgusmln\\n', 'syhldecrpqatmvgk\\n', 'rf\\n', 'hclzfnivtwe\\n', 'olwgvcsqhbxmirzun\\n', 'xtwprnai\\n', 'nvwxrezk\\n', 'puocrwmqylb\\n', 'lsnzpwyhu\\n', 'rahfdxw\\n', 'drikwxvgjh\\n', 'qpnbdurhgviycwskz\\n', 'xnhifwkzdyqb\\n', 'wotnabzpeqrs\\n', 'zjbenaigwukfo\\n', 'neluvpsitrfckymgadwj\\n', 'hdm\\n', 'cvhkpaxsrmjyz\\n', 'dlpbymnwgkcfrj\\n', 'inxfayuptjdlbqmowk\\n', 'spobydwaikhfez\\n', 'hfbsvyawpiue\\n', 'oubzjrmndcf\\n', 'pvesfoaduxqczhmltg\\n', 'vudpgqctjoswze\\n', 'hfbzryaxsiowkegm\\n', 'xdqfezcuomy\\n', 'gejvx\\n', 'mcpnofbrkqwevhzax\\n', 'dexsqojrp\\n', 'sgqerbvdhztaynilfomx\\n', 'xnbcwoesmkylquitpv\\n', 'yrao\\n', 'mqyejltp\\n', 'umhskpyd\\n', 'wghf\\n', 'ornyiqlh\\n', 'dpbals\\n', 'tfrsdu\\n', 'vqkloywfbtnxadhs\\n', 'djvcrqnemlbusgxpfy\\n', 'zqcej\\n', 'lm\\n', 'korcvbysin\\n', 'vjmgbroci\\n', 'cnjmprah\\n', 'szkcdy\\n', 'xiblpyrhzftsadge\\n', 'dlkapzcwn\\n', 'pzglxv\\n', 'kvgpu\\n', 'ajhirvpstfukznyqx\\n', 'axve\\n', 'vzrbesdjm\\n', 'iqcxfrwuzhonvystlbk\\n', 'dztvqmhbnfelijkxur\\n', 'fbdmwhrlik\\n', 'iznbwdymxfvglj\\n', 'tyoewxcaljgp\\n', 'sfiwmbyuqp\\n', 'eorufvymglczjnxs\\n', 'hysvtjqfkw\\n', 'xvfe\\n', 'pmbeiwlck\\n', 'jhoqelwdbpa\\n', 'ylvtxfkpjhm\\n', 'pfjomysabxnkgiqule\\n', 'cs\\n', 'difqkgncjb\\n', 'hofkgtd\\n', 'idkxn\\n', 'bmknxalv\\n', 'mbhujagpekqzdcl\\n', 'qojgvkhnief\\n', 'rlnykqzbvdpswauefi\\n', 'mocwbghfl\\n', 'xhmnzqk\\n', 'hl\\n', 'slmouqy\\n', 'ihvpazuxemrsbqnwlj\\n', 'ukd\\n', 'athivxqfbejdrps\\n', 'uqsfvzpnjlmihxercw\\n', 'bxglhmtf\\n', 'ibwqktcxz\\n', 'ndtimqlsw\\n', 'urfkny\\n', 'es\\n', 'gbpmwnjayfcudltohz\\n', 'vf\\n', 'ismpxuyaw\\n', 'zohpaijvwkdxqycn\\n', 'wvxuctayobzspgfnmekd\\n', 'wmtphikvgesarunfq\\n', 'wdpfucsqhmiybxgrovj\\n', 'qkejmrxuvlg\\n', 'jrkpeuotbgad\\n', 'jfkshcmrbnvdtwugpio\\n', 'gqjmk\\n', 'ltjxsvgkfi\\n', 'nfgjqb\\n', 'nuatrice\\n', 'zp\\n', 'qk\\n', 'rmqkplca\\n', 'vxgchpjqlwbfndi\\n', 'civm\\n', 'dkwgtpesoa\\n', 'nqvritxylpozdfmba\\n', 'mpdkuzwvfqx\\n', 'azvsdjlgkmqb\\n', 'qhvunts\\n', 'yrogjm\\n', 'nxyukqzcorigf\\n', 'dckrzbm\\n', 'zcswrqhkevaign\\n', 'cryikmupvftjznhagw\\n', 'qn\\n', 'zjxulcyantkwgievso\\n', 'zjmeidhfosvyprkc\\n', 'igvebomxwlcnyjqt\\n', 'byqhnzw\\n', 'sgrfiqhmjbdv\\n', 'iceaz\\n', 'bazyehn\\n', 'ifsqmjblkowrhuae\\n', 'wvpr\\n', 'ofqgumlenjpv\\n', 'bxc\\n', 'scwakyzduli\\n', 'mhkaxocpsdtzgqv\\n', 'lontukimrvxjfwscezbg\\n', 'mfqidenvxrt\\n', 'lixqjdcwsezarkngmyhp\\n', 'mikazcxgeuswhvrjl\\n', 'akwrqci\\n', 'bxcvzmy\\n', 'snr\\n', 'hjmylgeorczswnkadv\\n', 'bfehdilrowcukzystg\\n', 'ebondvxcmyslfuhqgai\\n', 'kecqxmjyzgrhbl\\n', 'xaquwpbtenoy\\n', 'szfqmxa\\n', 'jxgcmrtloa\\n', 'bvwjugfrdsiyx\\n', 'zinolaxscrpgbwuk\\n', 'jlhqxdptubmzs\\n', 'dgmu\\n', 'jvohbqwyslxfukrt\\n', 'gk\\n', 'oermbzptsjuad\\n', 'icxafdwklujnh\\n', 'dvmkb\\n', 'tms\\n', 'tpgmwaxedonzhfily\\n', 'stzka\\n', 'vhlpucjqzxkf\\n', 'ghsvcuzefljardtwqn\\n', 'stcvlnywuozqfr\\n', 'baiyjoek\\n', 'jzaqw\\n', 'gnota\\n', 'dlvoqb\\n', 'bxw\\n', 'sazgiuem\\n', 'gidyufxwazev\\n', 'reouhmwsqxkilnybaz\\n', 'pzjis\\n', 'sxeaozwt\\n', 'gh\\n', 'bus\\n', 'guljwqrycts\\n', 'ufgaxbelqschkpvdn\\n', 'bdueozsmgnlipvqcfa\\n', 'rqcshufelb\\n', 'uzpdmohsrwnevitlbxy\\n', 'xdibu\\n', 'qfysconxeikpbjl\\n', 'qyoptsbzhgr\\n', 'pdmerkgtibcxowjfsyla\\n', 'fnwd\\n', 'pgjynfzlqbotixaesu\\n', 'nqcbmr\\n', 'jzu\\n', 'ohrvsapmd\\n', 'nqmwaykbsjgcplhr\\n', 'hykcmesrpjxzdwfgq\\n', 'vdkgzrbfamlnctye\\n', 'xwj\\n', 'ownx\\n', 'gipzamekj\\n', 'dgrsiln\\n', 'czrsxhdymq\\n', 'scqgewflz\\n', 'bdlxnvrjophu\\n', 'lzstubokig\\n', 'vyxuntb\\n', 'fzbtyndsqahgpewio\\n', 'sqralemwdujvnzotbky\\n', 'xmzjwrtoafpslquykc\\n', 'rbayj\\n', 'mubpjrxfci\\n', 'dcblaoqev\\n', 'vtilmcbgspyfkdajz\\n', 'zecjaqikg\\n', 'bdpowicesyjnfzxqm\\n', 'nwytzrpqvaomcb\\n', 'foikayslxqvmpnj\\n', 'piqealuzovjdr\\n', 'orxuhgjnb\\n', 'gaqhwxnekmb\\n', 'odqvjmicrxzgkets\\n', 'tqceupwvamn\\n', 'cs\\n', 'hqkdjzwivs\\n', 'qwnmrtvup\\n', 'prk\\n', 'yglnovdfs\\n', 'dao\\n', 'ji\\n', 'jnmsxytr\\n', 'tzbpwhqdeagcjk\\n', 'gniqepkwcshou\\n', 'vpnzsgcd\\n', 'hqzkrwplgocami\\n', 'nzbxkhtgcimvre\\n', 'fx\\n', 'jekrcmg\\n', 'mvsijhg\\n', 'qz\\n', 'rkwcsn\\n', 'ucandjgzrhmb\\n', 'kthspqdb\\n', 'fncwp\\n', 'wsfvq\\n']\n"
     ]
    }
   ],
   "source": [
    "with open('data/palindromi.txt', 'r') as file:\n",
    "    lines = file.readlines()\n",
    "    print(lines)"
   ]
  },
  {
   "cell_type": "code",
   "execution_count": 2,
   "metadata": {},
   "outputs": [],
   "source": [
    "lines_no_newline = []\n",
    "for line in lines:\n",
    "    lines_no_newline.append(line[:-1]) # moguće i line.strip()"
   ]
  },
  {
   "cell_type": "code",
   "execution_count": 3,
   "metadata": {},
   "outputs": [],
   "source": [
    "palindromi = []\n",
    "for line in lines_no_newline:\n",
    "    if line == line[::-1] and len(line) > 10:\n",
    "        palindromi.append(line)"
   ]
  },
  {
   "cell_type": "code",
   "execution_count": 4,
   "metadata": {},
   "outputs": [],
   "source": [
    "lista = []\n",
    "for p in palindromi:\n",
    "    rijecnik = {}\n",
    "    for i in p:\n",
    "        rijecnik[i] = 0\n",
    "    for i in p:\n",
    "        rijecnik[i] += 1\n",
    "    lista.append(rijecnik)"
   ]
  },
  {
   "cell_type": "code",
   "execution_count": 5,
   "metadata": {},
   "outputs": [],
   "source": [
    "nova_lista = []\n",
    "for i in lista:\n",
    "    vise_od_2_u_rijecniku = False\n",
    "    for k in i.values():\n",
    "        if k > 2:\n",
    "            vise_od_2_u_rijecniku = True\n",
    "    if vise_od_2_u_rijecniku:\n",
    "        continue\n",
    "    nova_lista.append(i)"
   ]
  },
  {
   "cell_type": "code",
   "execution_count": 6,
   "metadata": {},
   "outputs": [
    {
     "name": "stdout",
     "output_type": "stream",
     "text": [
      "Rješenje: 5\n"
     ]
    }
   ],
   "source": [
    "print(f'Rješenje: {len(nova_lista)}')"
   ]
  },
  {
   "cell_type": "markdown",
   "metadata": {},
   "source": [
    "## Rješenje - GPT"
   ]
  },
  {
   "cell_type": "code",
   "execution_count": 7,
   "metadata": {},
   "outputs": [
    {
     "name": "stdout",
     "output_type": "stream",
     "text": [
      "Broj posebnih palindroma: 5\n"
     ]
    }
   ],
   "source": [
    "def is_palindrome(s):\n",
    "    return s == s[::-1]\n",
    "\n",
    "def has_unique_chars(s):\n",
    "    # Provjerava je li svaki znak u stringu prisutan najviše dva puta\n",
    "    from collections import Counter\n",
    "    char_count = Counter(s)\n",
    "    return all(count <= 2 for count in char_count.values())\n",
    "\n",
    "def count_special_palindromes(file_path):\n",
    "    count = 0\n",
    "    with open(file_path, 'r') as file:\n",
    "        for line in file:\n",
    "            line = line.strip()  # Ukloni praznine s početka i kraja\n",
    "            if len(line) > 10 and is_palindrome(line) and has_unique_chars(line):\n",
    "                count += 1\n",
    "    return count\n",
    "\n",
    "# Putanja do datoteke palindromi.txt\n",
    "file_path = 'data/palindromi.txt'\n",
    "print(\"Broj posebnih palindroma:\", count_special_palindromes(file_path))\n"
   ]
  },
  {
   "cell_type": "markdown",
   "metadata": {},
   "source": [
    "# Zadatak 2C\n",
    " U datoteci sifre.txt nalazi se niz stringova koji se sastoje samo od malih slova. Te\n",
    " stringove treba transformirati na sljedeći način: ASCII kood svakog slova treba umanjiti\n",
    " za 10. Ako je rezultat manji od 97 (malo slovo 'a') onda treba umanjivanje nastaviti od\n",
    " kraja (to jest, od slova 'z'). Na primjer, slovo 'e' umanjeno za 10 daje slovo 'u'.\n",
    " Napišite program u Pythonu koji će dati odgovor na sljedeće pitanje: Koliko stringova u\n",
    " datoteci sifre.txt nakon transformacije sadrži barem jedno od slova a, e, i, o ili u?"
   ]
  },
  {
   "cell_type": "markdown",
   "metadata": {},
   "source": [
    "### Util funkcije"
   ]
  },
  {
   "cell_type": "code",
   "execution_count": 8,
   "metadata": {},
   "outputs": [],
   "source": [
    "def prep_data(name: str) -> list:\n",
    "    def file_to_list(name: str) -> list:\n",
    "        with open(f\"data/{name}.txt\",\"r\") as file:\n",
    "            return file.readlines()\n",
    "        \n",
    "    def strip_newlines(lst: list) -> list:\n",
    "        new_list = []\n",
    "        for e in lst:\n",
    "            new_list.append(e.strip())\n",
    "        return new_list\n",
    "    \n",
    "    return strip_newlines(file_to_list(name))"
   ]
  },
  {
   "cell_type": "code",
   "execution_count": 9,
   "metadata": {},
   "outputs": [],
   "source": [
    "def promijeni(lista: list) -> list:\n",
    "    new_list = []\n",
    "    for element in lista:\n",
    "        novi_element = ''\n",
    "        for e in element:\n",
    "            razlika = ord(e) - 10\n",
    "            prag = ord('a')\n",
    "            if razlika < prag:\n",
    "                vrijednost = (prag - razlika - 1)\n",
    "                rez = ord('z') - vrijednost\n",
    "            else:\n",
    "                rez = razlika\n",
    "            novi_element += chr(rez)\n",
    "        new_list.append(novi_element)\n",
    "    return new_list"
   ]
  },
  {
   "cell_type": "code",
   "execution_count": 10,
   "metadata": {},
   "outputs": [],
   "source": [
    "lista = promijeni(prep_data(\"sifre\"))"
   ]
  },
  {
   "cell_type": "code",
   "execution_count": 11,
   "metadata": {},
   "outputs": [
    {
     "data": {
      "text/plain": [
       "['kymwjrntrzx',\n",
       " 'qadjgaocj',\n",
       " 'jsuipsaem',\n",
       " 'dxfkuvjhwmgxm',\n",
       " 'ieifbfnncdgenhunrvq']"
      ]
     },
     "execution_count": 11,
     "metadata": {},
     "output_type": "execute_result"
    }
   ],
   "source": [
    "lista[:5]"
   ]
  },
  {
   "cell_type": "code",
   "execution_count": 12,
   "metadata": {},
   "outputs": [
    {
     "data": {
      "text/plain": [
       "3000"
      ]
     },
     "execution_count": 12,
     "metadata": {},
     "output_type": "execute_result"
    }
   ],
   "source": [
    "len(lista)"
   ]
  },
  {
   "cell_type": "markdown",
   "metadata": {},
   "source": [
    "#### Koristeći any"
   ]
  },
  {
   "cell_type": "code",
   "execution_count": 13,
   "metadata": {},
   "outputs": [
    {
     "name": "stdout",
     "output_type": "stream",
     "text": [
      "Rješenje: 2694\n"
     ]
    }
   ],
   "source": [
    "nova_lista = []\n",
    "samoglasnici = {'a','e','i','o','u'}\n",
    "for l in lista:\n",
    "    if any(char in samoglasnici for char in l):\n",
    "        nova_lista.append(l)\n",
    "print(f'Rješenje: {len(nova_lista)}')"
   ]
  },
  {
   "cell_type": "markdown",
   "metadata": {},
   "source": [
    "#### Koristeći presjek setova"
   ]
  },
  {
   "cell_type": "code",
   "execution_count": 14,
   "metadata": {},
   "outputs": [
    {
     "name": "stdout",
     "output_type": "stream",
     "text": [
      "Rješenje: 2694\n"
     ]
    }
   ],
   "source": [
    "nova_lista_2 = []\n",
    "samoglasnici = {'a','e','i','o','u'}\n",
    "for l in lista:\n",
    "    if(set(l) & samoglasnici):\n",
    "        nova_lista_2.append(l)\n",
    "print(f'Rješenje: {len(nova_lista_2)}')"
   ]
  },
  {
   "cell_type": "markdown",
   "metadata": {},
   "source": [
    "# Rješenje - GPT"
   ]
  },
  {
   "cell_type": "code",
   "execution_count": 15,
   "metadata": {},
   "outputs": [
    {
     "name": "stdout",
     "output_type": "stream",
     "text": [
      "Broj stringova s barem jednim vokalom nakon transformacije: 2694\n"
     ]
    }
   ],
   "source": [
    "def transform_string(s):\n",
    "    transformed = \"\"\n",
    "    for char in s:\n",
    "        new_ascii = ord(char) - 10\n",
    "        # Ako je novi ASCII kod manji od 97, nastavljamo od 'z'\n",
    "        if new_ascii < 97:\n",
    "            new_ascii = 123 - (97 - new_ascii)\n",
    "        transformed += chr(new_ascii)\n",
    "    return transformed\n",
    "\n",
    "def count_strings_with_vowels(file_path):\n",
    "    vowel_set = {'a', 'e', 'i', 'o', 'u'}\n",
    "    count = 0\n",
    "    with open(file_path, 'r') as file:\n",
    "        for line in file:\n",
    "            line = line.strip()  # Uklanja praznine s početka i kraja\n",
    "            transformed = transform_string(line)\n",
    "            # Provjera sadrži li transformirani string barem jedno slovo iz skupa vokala\n",
    "            if any(char in vowel_set for char in transformed):\n",
    "                count += 1\n",
    "    return count\n",
    "\n",
    "# Putanja do datoteke sifre.txt\n",
    "file_path = 'data/sifre.txt'\n",
    "print(\"Broj stringova s barem jednim vokalom nakon transformacije:\", count_strings_with_vowels(file_path))"
   ]
  },
  {
   "cell_type": "code",
   "execution_count": 16,
   "metadata": {},
   "outputs": [
    {
     "data": {
      "text/plain": [
       "True"
      ]
     },
     "execution_count": 16,
     "metadata": {},
     "output_type": "execute_result"
    }
   ],
   "source": [
    "# Oba načina rješenja daju isti odgovor\n",
    "promijeni(['uiwgtbxdbjh'])[0] == transform_string('uiwgtbxdbjh')"
   ]
  },
  {
   "cell_type": "markdown",
   "metadata": {},
   "source": [
    "# Zadatak 2D\n",
    " U datoteci intervali.txt nalazi se popis brojeva veličine između 10 i 1000000. Svaki od\n",
    " tih brojeva pripada odgovarajućem intervalu. Interval kojem pripada broj određuje se\n",
    " na osnovu početne znamenke i broja znamenki. Na primjer, broj 529 pripada intervalu\n",
    " 500-599, broj 10209 intervalu 10000-19999, a broj 1618 intervalu 1000-1999.\n",
    " \n",
    " \n",
    " Napišite program u Pythonu koji će dati odgovor na sljedeće pitanje: Koji je ukupan broj\n",
    " intervala kojima pripada više od 100 brojeva?\n",
    " (Točan odgovor je između 5i25)"
   ]
  },
  {
   "cell_type": "code",
   "execution_count": 17,
   "metadata": {},
   "outputs": [],
   "source": [
    "lista = prep_data(\"intervali\")"
   ]
  },
  {
   "cell_type": "code",
   "execution_count": 18,
   "metadata": {},
   "outputs": [
    {
     "data": {
      "text/plain": [
       "str"
      ]
     },
     "execution_count": 18,
     "metadata": {},
     "output_type": "execute_result"
    }
   ],
   "source": [
    "type(lista[0])"
   ]
  },
  {
   "cell_type": "code",
   "execution_count": 19,
   "metadata": {},
   "outputs": [],
   "source": [
    "def create_interval(broj: str) -> tuple:\n",
    "    lower = broj[0]\n",
    "\n",
    "    lower_interval = ''\n",
    "    higher_interval = ''\n",
    "\n",
    "    lower_interval += lower\n",
    "    higher_interval += lower\n",
    "\n",
    "    for i in range(len(broj) - 1):\n",
    "        lower_interval += '0'\n",
    "        higher_interval += '9'\n",
    "        \n",
    "    return (lower_interval, higher_interval)"
   ]
  },
  {
   "cell_type": "code",
   "execution_count": 20,
   "metadata": {},
   "outputs": [
    {
     "data": {
      "text/plain": [
       "('1000', '1999')"
      ]
     },
     "execution_count": 20,
     "metadata": {},
     "output_type": "execute_result"
    }
   ],
   "source": [
    "create_interval('1618')"
   ]
  },
  {
   "cell_type": "code",
   "execution_count": 21,
   "metadata": {},
   "outputs": [
    {
     "data": {
      "text/plain": [
       "{('700000', '799999'): 0,\n",
       " ('100000', '199999'): 0,\n",
       " ('200000', '299999'): 0,\n",
       " ('300000', '399999'): 0,\n",
       " ('800000', '899999'): 0,\n",
       " ('500000', '599999'): 0,\n",
       " ('600000', '699999'): 0,\n",
       " ('900000', '999999'): 0,\n",
       " ('400000', '499999'): 0,\n",
       " ('3000', '3999'): 0,\n",
       " ('10000', '19999'): 0,\n",
       " ('90000', '99999'): 0,\n",
       " ('30000', '39999'): 0,\n",
       " ('40000', '49999'): 0,\n",
       " ('60000', '69999'): 0,\n",
       " ('50000', '59999'): 0,\n",
       " ('80000', '89999'): 0,\n",
       " ('20000', '29999'): 0,\n",
       " ('70000', '79999'): 0,\n",
       " ('200', '299'): 0,\n",
       " ('4000', '4999'): 0,\n",
       " ('400', '499'): 0,\n",
       " ('1000', '1999'): 0,\n",
       " ('50', '59'): 0,\n",
       " ('9000', '9999'): 0}"
      ]
     },
     "execution_count": 21,
     "metadata": {},
     "output_type": "execute_result"
    }
   ],
   "source": [
    "rijecnik = {}\n",
    "\n",
    "for i in lista:\n",
    "    rijecnik[create_interval(i)] = 0\n",
    "\n",
    "rijecnik"
   ]
  },
  {
   "cell_type": "code",
   "execution_count": 22,
   "metadata": {},
   "outputs": [],
   "source": [
    "for i in lista:\n",
    "    rijecnik[create_interval(i)] += 1"
   ]
  },
  {
   "cell_type": "code",
   "execution_count": 23,
   "metadata": {},
   "outputs": [
    {
     "data": {
      "text/plain": [
       "{('700000', '799999'): 110,\n",
       " ('100000', '199999'): 127,\n",
       " ('200000', '299999'): 111,\n",
       " ('300000', '399999'): 115,\n",
       " ('800000', '899999'): 116,\n",
       " ('500000', '599999'): 99,\n",
       " ('600000', '699999'): 115,\n",
       " ('900000', '999999'): 97,\n",
       " ('400000', '499999'): 109,\n",
       " ('3000', '3999'): 2,\n",
       " ('10000', '19999'): 12,\n",
       " ('90000', '99999'): 9,\n",
       " ('30000', '39999'): 9,\n",
       " ('40000', '49999'): 11,\n",
       " ('60000', '69999'): 9,\n",
       " ('50000', '59999'): 7,\n",
       " ('80000', '89999'): 13,\n",
       " ('20000', '29999'): 12,\n",
       " ('70000', '79999'): 9,\n",
       " ('200', '299'): 1,\n",
       " ('4000', '4999'): 2,\n",
       " ('400', '499'): 1,\n",
       " ('1000', '1999'): 1,\n",
       " ('50', '59'): 1,\n",
       " ('9000', '9999'): 2}"
      ]
     },
     "execution_count": 23,
     "metadata": {},
     "output_type": "execute_result"
    }
   ],
   "source": [
    "rijecnik"
   ]
  },
  {
   "cell_type": "code",
   "execution_count": 24,
   "metadata": {},
   "outputs": [
    {
     "name": "stdout",
     "output_type": "stream",
     "text": [
      "Rješenje: 7\n"
     ]
    }
   ],
   "source": [
    "counter = 0\n",
    "for k in rijecnik.values():\n",
    "    if k > 100:\n",
    "        counter += 1\n",
    "print(f'Rješenje: {counter}')"
   ]
  },
  {
   "cell_type": "markdown",
   "metadata": {},
   "source": [
    "## Chatgpt"
   ]
  },
  {
   "cell_type": "code",
   "execution_count": 25,
   "metadata": {},
   "outputs": [
    {
     "name": "stdout",
     "output_type": "stream",
     "text": [
      "Broj intervala s više od 100 brojeva: 7\n"
     ]
    }
   ],
   "source": [
    "from collections import defaultdict\n",
    "\n",
    "def determine_interval(number):\n",
    "    str_num = str(number)\n",
    "    first_digit = int(str_num[0])\n",
    "    num_digits = len(str_num)\n",
    "    \n",
    "    # Određujemo početak intervala na osnovu početne znamenke i broja znamenki\n",
    "    start = first_digit * 10**(num_digits - 1)\n",
    "    end = (first_digit + 1) * 10**(num_digits - 1) - 1\n",
    "    return (start, end)\n",
    "\n",
    "def count_intervals(file_path):\n",
    "    interval_counts = defaultdict(int)\n",
    "\n",
    "    with open(file_path, 'r') as file:\n",
    "        for line in file:\n",
    "            number = int(line.strip())\n",
    "            interval = determine_interval(number)\n",
    "            interval_counts[interval] += 1\n",
    "\n",
    "    # Brojimo intervale s više od 100 brojeva\n",
    "    count_over_100 = sum(1 for count in interval_counts.values() if count > 100)\n",
    "    \n",
    "    return count_over_100\n",
    "\n",
    "# Putanja do datoteke intervali.txt\n",
    "file_path = 'data/intervali.txt'\n",
    "print(\"Broj intervala s više od 100 brojeva:\", count_intervals(file_path))\n"
   ]
  }
 ],
 "metadata": {
  "kernelspec": {
   "display_name": "Python 3",
   "language": "python",
   "name": "python3"
  },
  "language_info": {
   "codemirror_mode": {
    "name": "ipython",
    "version": 3
   },
   "file_extension": ".py",
   "mimetype": "text/x-python",
   "name": "python",
   "nbconvert_exporter": "python",
   "pygments_lexer": "ipython3",
   "version": "3.9.13"
  }
 },
 "nbformat": 4,
 "nbformat_minor": 2
}
