{
 "cells": [
  {
   "cell_type": "code",
   "execution_count": 71,
   "metadata": {},
   "outputs": [],
   "source": [
    "with open(\"data/hex.csv\", 'r', encoding=\"utf-8\") as csv:\n",
    "    csv = [row.strip() for row in csv.readlines()]"
   ]
  },
  {
   "cell_type": "code",
   "execution_count": 72,
   "metadata": {},
   "outputs": [],
   "source": [
    "import re, itertools"
   ]
  },
  {
   "cell_type": "code",
   "execution_count": 73,
   "metadata": {},
   "outputs": [
    {
     "data": {
      "text/plain": [
       "['mbYgiYYrHo,mxqNoOYaUV,HckOhnYnNfHZPFf,HrpjnmmPoETb',\n",
       " 'rbagOTwUYd,fCGUKJOJbc,UcPuNWDWUNRYSLt,iKGqMrjCXwXT',\n",
       " 'AChFXMyIia,VnkaYghBzM,JUvfqvMfSnoIvTU,JxuhOzJTplpT']"
      ]
     },
     "execution_count": 73,
     "metadata": {},
     "output_type": "execute_result"
    }
   ],
   "source": [
    "csv"
   ]
  },
  {
   "cell_type": "code",
   "execution_count": 74,
   "metadata": {},
   "outputs": [
    {
     "name": "stdout",
     "output_type": "stream",
     "text": [
      "50 mbYgiYYrHo,mxqNoOYaUV,HckOhnYnNfHZPFf,HrpjnmmPoETb\n",
      "50 rbagOTwUYd,fCGUKJOJbc,UcPuNWDWUNRYSLt,iKGqMrjCXwXT\n",
      "50 AChFXMyIia,VnkaYghBzM,JUvfqvMfSnoIvTU,JxuhOzJTplpT\n"
     ]
    }
   ],
   "source": [
    "for row in csv:\n",
    "    print(len(row), row)"
   ]
  },
  {
   "cell_type": "code",
   "execution_count": 75,
   "metadata": {},
   "outputs": [
    {
     "data": {
      "text/plain": [
       "'mbYgiYYrHo,mxqNoOYaUV,HckOhnYnNfHZPFf,HrpjnmmPoETb'"
      ]
     },
     "execution_count": 75,
     "metadata": {},
     "output_type": "execute_result"
    }
   ],
   "source": [
    "csv[0]"
   ]
  },
  {
   "cell_type": "code",
   "execution_count": 76,
   "metadata": {},
   "outputs": [],
   "source": [
    "hex_pattern = r'[0-9a-fA-F]+'"
   ]
  },
  {
   "cell_type": "code",
   "execution_count": 77,
   "metadata": {},
   "outputs": [
    {
     "name": "stdout",
     "output_type": "stream",
     "text": [
      "['b', 'a', 'c', 'f', 'Ff', 'E', 'b']\n",
      "['ba', 'd', 'fC', 'bc', 'c', 'D', 'C']\n",
      "['AC', 'F', 'a', 'a', 'B', 'f', 'f']\n"
     ]
    }
   ],
   "source": [
    "lst = []\n",
    "for row in csv:\n",
    "    print(re.findall(hex_pattern, row))\n",
    "    lst.append(re.findall(hex_pattern, row))"
   ]
  },
  {
   "cell_type": "code",
   "execution_count": 78,
   "metadata": {},
   "outputs": [
    {
     "name": "stdout",
     "output_type": "stream",
     "text": [
      "21\n"
     ]
    }
   ],
   "source": [
    "counter = 0\n",
    "for row in lst:\n",
    "    counter += len(row)\n",
    "print(counter)"
   ]
  },
  {
   "cell_type": "code",
   "execution_count": 79,
   "metadata": {},
   "outputs": [
    {
     "name": "stdout",
     "output_type": "stream",
     "text": [
      "b 11\n",
      "a 10\n",
      "c 12\n",
      "f 15\n",
      "Ff 255\n",
      "E 14\n",
      "b 11\n"
     ]
    }
   ],
   "source": [
    "for row in lst[:1]:\n",
    "    for r in row:\n",
    "        print(r + \" \" + str(int(r, 16)))"
   ]
  },
  {
   "cell_type": "code",
   "execution_count": 80,
   "metadata": {},
   "outputs": [
    {
     "data": {
      "text/plain": [
       "'mbYgiYYrHo,mxqNoOYaUV,HckOhnYnNfHZPFf,HrpjnmmPoETb'"
      ]
     },
     "execution_count": 80,
     "metadata": {},
     "output_type": "execute_result"
    }
   ],
   "source": [
    "csv[0]"
   ]
  },
  {
   "cell_type": "code",
   "execution_count": 81,
   "metadata": {},
   "outputs": [
    {
     "data": {
      "text/plain": [
       "['b', 'a', 'c', 'f', 'Ff', 'E', 'b']"
      ]
     },
     "execution_count": 81,
     "metadata": {},
     "output_type": "execute_result"
    }
   ],
   "source": [
    "lst[0]"
   ]
  },
  {
   "cell_type": "code",
   "execution_count": 82,
   "metadata": {},
   "outputs": [
    {
     "name": "stdout",
     "output_type": "stream",
     "text": [
      "['b', 'a', 'c', 'f', 'Ff', 'E', 'b']\n",
      "['ba', 'd', 'fC', 'bc', 'c', 'D', 'C']\n",
      "['AC', 'F', 'a', 'a', 'B', 'f', 'f']\n"
     ]
    }
   ],
   "source": [
    "while True:\n",
    "    for row in lst:\n",
    "        print(row)\n",
    "        for r in row:\n",
    "            csv[0] = csv[0].replace(r, str(int(r, 16)))\n",
    "    break"
   ]
  },
  {
   "cell_type": "code",
   "execution_count": 83,
   "metadata": {},
   "outputs": [
    {
     "name": "stdout",
     "output_type": "stream",
     "text": [
      "3\n"
     ]
    }
   ],
   "source": [
    "csv_2 = []\n",
    "print(len(csv))\n",
    "for i in range(len(csv)):\n",
    "    csv_row = csv[i]\n",
    "    lst_row = lst[i]\n",
    "    for r in lst_row:\n",
    "        csv_row = csv_row.replace(r, str(int(r, 16)))\n",
    "    csv_2.append(csv_row)"
   ]
  },
  {
   "cell_type": "code",
   "execution_count": 84,
   "metadata": {},
   "outputs": [],
   "source": [
    "csv = csv_2"
   ]
  },
  {
   "cell_type": "code",
   "execution_count": 85,
   "metadata": {},
   "outputs": [
    {
     "data": {
      "text/plain": [
       "3"
      ]
     },
     "execution_count": 85,
     "metadata": {},
     "output_type": "execute_result"
    }
   ],
   "source": [
    "len((csv))"
   ]
  },
  {
   "cell_type": "code",
   "execution_count": 86,
   "metadata": {},
   "outputs": [],
   "source": [
    "najduzi = 0\n",
    "for row in csv:\n",
    "    if len(row) > najduzi:\n",
    "        najduzi = len(row)"
   ]
  },
  {
   "cell_type": "code",
   "execution_count": 87,
   "metadata": {},
   "outputs": [
    {
     "name": "stdout",
     "output_type": "stream",
     "text": [
      "Najduzi red ima 58 znakova.\n"
     ]
    }
   ],
   "source": [
    "print(f'Najduzi red ima {najduzi} znakova.')"
   ]
  },
  {
   "cell_type": "code",
   "execution_count": null,
   "metadata": {},
   "outputs": [],
   "source": []
  }
 ],
 "metadata": {
  "kernelspec": {
   "display_name": "Python 3",
   "language": "python",
   "name": "python3"
  },
  "language_info": {
   "codemirror_mode": {
    "name": "ipython",
    "version": 3
   },
   "file_extension": ".py",
   "mimetype": "text/x-python",
   "name": "python",
   "nbconvert_exporter": "python",
   "pygments_lexer": "ipython3",
   "version": "3.9.13"
  }
 },
 "nbformat": 4,
 "nbformat_minor": 2
}
