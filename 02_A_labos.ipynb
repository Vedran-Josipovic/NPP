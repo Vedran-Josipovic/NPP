{
 "cells": [
  {
   "cell_type": "code",
   "execution_count": 14,
   "metadata": {},
   "outputs": [],
   "source": [
    "with open(\"data/test.csv\", 'r', encoding=\"utf-8\") as csv:\n",
    "    csv = [row.strip() for row in csv.readlines()]"
   ]
  },
  {
   "cell_type": "code",
   "execution_count": 15,
   "metadata": {},
   "outputs": [
    {
     "data": {
      "text/plain": [
       "'ime,prezime,telefon,adresa,mjesecna primanja'"
      ]
     },
     "execution_count": 15,
     "metadata": {},
     "output_type": "execute_result"
    }
   ],
   "source": [
    "csv[0]"
   ]
  },
  {
   "cell_type": "markdown",
   "metadata": {},
   "source": []
  },
  {
   "cell_type": "code",
   "execution_count": 41,
   "metadata": {},
   "outputs": [
    {
     "name": "stdout",
     "output_type": "stream",
     "text": [
      "Rows where 'prezime' is 'Ivic' or 'adresa' is 'Savska 14':\n",
      "{'ime': 'Josip', 'prezime': 'Perić', 'telefon': '097 123 4567', 'adresa': 'Savska 14', 'mjesecna primanja': '1298.31'}\n",
      "\n",
      "Values in 'mjesecna primanja' column:\n",
      "1881.45\n",
      "1298.31\n",
      "1555.75\n",
      "2003.22\n",
      "1444.3\n",
      "1789.5\n",
      "1980.4\n",
      "1670.25\n",
      "1234.88\n",
      "1450.6\n"
     ]
    }
   ],
   "source": [
    "class Csv:\n",
    "    def __init__(self, file_path):\n",
    "        self.headers = []\n",
    "        self.data = []\n",
    "        self.ucitaj(file_path)\n",
    "\n",
    "    def ucitaj(self, file_path):\n",
    "        \"\"\"Loads the CSV file and stores headers and rows.\"\"\"\n",
    "        with open(file_path, 'r', encoding=\"utf-8\") as file:\n",
    "            lines = [line.strip() for line in file.readlines()]\n",
    "            self.headers = lines[0].split(\",\")  # Split the first line for headers\n",
    "            self.data = [\n",
    "                self.Row(dict(zip(self.headers, line.split(\",\")))) for line in lines[1:]\n",
    "            ]  # Create a list of Row objects for each row\n",
    "\n",
    "    def nadji(self, condition):\n",
    "        \"\"\"Finds and returns all rows that meet the condition.\"\"\"\n",
    "        return [row for row in self.data if condition(row)]\n",
    "\n",
    "    def stupac_val(self, column):\n",
    "        \"\"\"Prints all values from a specified column if it exists.\"\"\"\n",
    "        if column not in self.headers:\n",
    "            print(f\"Column '{column}' does not exist in the CSV.\")\n",
    "            return\n",
    "        \n",
    "        for row in self.data:\n",
    "            print(row[column])  # Print the value in the specified column\n",
    "\n",
    "    class Row:\n",
    "        \"\"\"Custom row class to allow dictionary-like access.\"\"\"\n",
    "        def __init__(self, data):\n",
    "            self._data = data\n",
    "\n",
    "        def __getitem__(self, key):\n",
    "            return self._data.get(key, None)\n",
    "\n",
    "        def __repr__(self):\n",
    "            \"\"\"For pretty-printing the row.\"\"\"\n",
    "            return str(self._data)\n",
    "\n",
    "\n",
    "# Example usage\n",
    "csv = Csv(\"data/test.csv\")\n",
    "\n",
    "# Find and print rows where 'prezime' is 'Ivic' or 'adresa' is 'Savska 14'\n",
    "print(\"Rows where 'prezime' is 'Ivic' or 'adresa' is 'Savska 14':\")\n",
    "matching_rows = csv.nadji(lambda redak: redak[\"prezime\"] == \"Ivic\" or redak[\"adresa\"] == \"Savska 14\")\n",
    "for row in matching_rows:\n",
    "    print(row)\n",
    "\n",
    "# Print all values from the \"mjesecna primanja\" column\n",
    "print(\"\\nValues in 'mjesecna primanja' column:\")\n",
    "csv.stupac_val(\"mjesecna primanja\")\n"
   ]
  },
  {
   "cell_type": "code",
   "execution_count": 37,
   "metadata": {},
   "outputs": [],
   "source": [
    "csv = Csv(\"data/test.csv\")"
   ]
  },
  {
   "cell_type": "code",
   "execution_count": null,
   "metadata": {},
   "outputs": [
    {
     "name": "stdout",
     "output_type": "stream",
     "text": [
      "Row with 'mjesecna primanja' > 1500:\n"
     ]
    },
    {
     "ename": "TypeError",
     "evalue": "'>' not supported between instances of 'str' and 'int'",
     "output_type": "error",
     "traceback": [
      "\u001b[1;31m---------------------------------------------------------------------------\u001b[0m",
      "\u001b[1;31mTypeError\u001b[0m                                 Traceback (most recent call last)",
      "Cell \u001b[1;32mIn[39], line 2\u001b[0m\n\u001b[0;32m      1\u001b[0m \u001b[38;5;28mprint\u001b[39m(\u001b[38;5;124m\"\u001b[39m\u001b[38;5;124mRow with \u001b[39m\u001b[38;5;124m'\u001b[39m\u001b[38;5;124mmjesecna primanja\u001b[39m\u001b[38;5;124m'\u001b[39m\u001b[38;5;124m > 1500:\u001b[39m\u001b[38;5;124m\"\u001b[39m)\n\u001b[1;32m----> 2\u001b[0m row \u001b[38;5;241m=\u001b[39m \u001b[43mcsv\u001b[49m\u001b[38;5;241;43m.\u001b[39;49m\u001b[43mnadji\u001b[49m\u001b[43m(\u001b[49m\u001b[38;5;28;43;01mlambda\u001b[39;49;00m\u001b[43m \u001b[49m\u001b[43mr\u001b[49m\u001b[43m:\u001b[49m\u001b[43m \u001b[49m\u001b[43m(\u001b[49m\u001b[43mr\u001b[49m\u001b[43m[\u001b[49m\u001b[38;5;124;43m\"\u001b[39;49m\u001b[38;5;124;43mmjesecna primanja\u001b[39;49m\u001b[38;5;124;43m\"\u001b[39;49m\u001b[43m]\u001b[49m\u001b[43m)\u001b[49m\u001b[43m \u001b[49m\u001b[38;5;241;43m>\u001b[39;49m\u001b[43m \u001b[49m\u001b[38;5;241;43m1500\u001b[39;49m\u001b[43m)\u001b[49m\n\u001b[0;32m      3\u001b[0m \u001b[38;5;28mprint\u001b[39m(row)\n",
      "Cell \u001b[1;32mIn[36], line 19\u001b[0m, in \u001b[0;36mCsv.nadji\u001b[1;34m(self, condition)\u001b[0m\n\u001b[0;32m     17\u001b[0m \u001b[38;5;250m\u001b[39m\u001b[38;5;124;03m\"\"\"Finds and returns the first row that meets the condition.\"\"\"\u001b[39;00m\n\u001b[0;32m     18\u001b[0m \u001b[38;5;28;01mfor\u001b[39;00m row \u001b[38;5;129;01min\u001b[39;00m \u001b[38;5;28mself\u001b[39m\u001b[38;5;241m.\u001b[39mdata:\n\u001b[1;32m---> 19\u001b[0m     \u001b[38;5;28;01mif\u001b[39;00m \u001b[43mcondition\u001b[49m\u001b[43m(\u001b[49m\u001b[43mrow\u001b[49m\u001b[43m)\u001b[49m: \n\u001b[0;32m     20\u001b[0m         \u001b[38;5;28;01mreturn\u001b[39;00m row\n\u001b[0;32m     21\u001b[0m \u001b[38;5;28;01mreturn\u001b[39;00m \u001b[38;5;28;01mNone\u001b[39;00m\n",
      "Cell \u001b[1;32mIn[39], line 2\u001b[0m, in \u001b[0;36m<lambda>\u001b[1;34m(r)\u001b[0m\n\u001b[0;32m      1\u001b[0m \u001b[38;5;28mprint\u001b[39m(\u001b[38;5;124m\"\u001b[39m\u001b[38;5;124mRow with \u001b[39m\u001b[38;5;124m'\u001b[39m\u001b[38;5;124mmjesecna primanja\u001b[39m\u001b[38;5;124m'\u001b[39m\u001b[38;5;124m > 1500:\u001b[39m\u001b[38;5;124m\"\u001b[39m)\n\u001b[1;32m----> 2\u001b[0m row \u001b[38;5;241m=\u001b[39m csv\u001b[38;5;241m.\u001b[39mnadji(\u001b[38;5;28;01mlambda\u001b[39;00m r: \u001b[43m(\u001b[49m\u001b[43mr\u001b[49m\u001b[43m[\u001b[49m\u001b[38;5;124;43m\"\u001b[39;49m\u001b[38;5;124;43mmjesecna primanja\u001b[39;49m\u001b[38;5;124;43m\"\u001b[39;49m\u001b[43m]\u001b[49m\u001b[43m)\u001b[49m\u001b[43m \u001b[49m\u001b[38;5;241;43m>\u001b[39;49m\u001b[43m \u001b[49m\u001b[38;5;241;43m1500\u001b[39;49m)\n\u001b[0;32m      3\u001b[0m \u001b[38;5;28mprint\u001b[39m(row)\n",
      "\u001b[1;31mTypeError\u001b[0m: '>' not supported between instances of 'str' and 'int'"
     ]
    }
   ],
   "source": [
    "print(\"Row with 'mjesecna primanja' > 1500:\")\n",
    "row = csv.nadji(lambda r: float(r[\"mjesecna primanja\"]) > 1500)\n",
    "print(row)"
   ]
  },
  {
   "cell_type": "code",
   "execution_count": 7,
   "metadata": {},
   "outputs": [
    {
     "data": {
      "text/plain": [
       "'ime,prezime,telefon,adresa,mjesecna primanja'"
      ]
     },
     "execution_count": 7,
     "metadata": {},
     "output_type": "execute_result"
    }
   ],
   "source": [
    "csv.headers"
   ]
  },
  {
   "cell_type": "code",
   "execution_count": 8,
   "metadata": {},
   "outputs": [
    {
     "data": {
      "text/plain": [
       "['Iva,Ivić,098 877 6555,Ilica 25,1881.45',\n",
       " 'Josip,Perić,097 123 4567,Savska 14,1298.31',\n",
       " 'Ana,Horvat,091 112 3344,Trg bana Jelačića 2,1555.75',\n",
       " 'Marko,Kovač,092 223 4455,Vukovarska 10,2003.22',\n",
       " 'Lucija,Marić,093 334 5566,Zagrebačka 5,1444.3',\n",
       " 'Petar,Barić,095 445 6677,Frankopanska 16,1789.5',\n",
       " 'Marija,Jurić,099 556 7788,Gundulićeva 8,1980.4',\n",
       " 'Ivana,Novak,097 667 8899,Dubravka 12,1670.25',\n",
       " 'Tomislav,Rendić,098 778 9900,Ribnjak 3,1234.88',\n",
       " 'Nina,Radić,091 889 0011,Maksimirska 15,1450.6']"
      ]
     },
     "execution_count": 8,
     "metadata": {},
     "output_type": "execute_result"
    }
   ],
   "source": [
    "csv.data"
   ]
  },
  {
   "cell_type": "code",
   "execution_count": 9,
   "metadata": {},
   "outputs": [
    {
     "data": {
      "text/plain": [
       "function"
      ]
     },
     "execution_count": 9,
     "metadata": {},
     "output_type": "execute_result"
    }
   ],
   "source": [
    "type(lambda redak: redak[\"mjesecna primanja\"])# > 1500)"
   ]
  },
  {
   "cell_type": "code",
   "execution_count": 11,
   "metadata": {},
   "outputs": [
    {
     "ename": "TypeError",
     "evalue": "string indices must be integers",
     "output_type": "error",
     "traceback": [
      "\u001b[1;31m---------------------------------------------------------------------------\u001b[0m",
      "\u001b[1;31mTypeError\u001b[0m                                 Traceback (most recent call last)",
      "Cell \u001b[1;32mIn[11], line 1\u001b[0m\n\u001b[1;32m----> 1\u001b[0m p \u001b[38;5;241m=\u001b[39m \u001b[43mcsv\u001b[49m\u001b[38;5;241;43m.\u001b[39;49m\u001b[43mnadji\u001b[49m\u001b[43m(\u001b[49m\u001b[38;5;28;43;01mlambda\u001b[39;49;00m\u001b[43m \u001b[49m\u001b[43mredak\u001b[49m\u001b[43m:\u001b[49m\u001b[43m \u001b[49m\u001b[43mredak\u001b[49m\u001b[43m[\u001b[49m\u001b[38;5;124;43m\"\u001b[39;49m\u001b[38;5;124;43mmjesecna primanja\u001b[39;49m\u001b[38;5;124;43m\"\u001b[39;49m\u001b[43m]\u001b[49m\u001b[43m \u001b[49m\u001b[38;5;241;43m>\u001b[39;49m\u001b[43m \u001b[49m\u001b[38;5;241;43m1500\u001b[39;49m\u001b[43m)\u001b[49m\n",
      "Cell \u001b[1;32mIn[5], line 15\u001b[0m, in \u001b[0;36mCsv.nadji\u001b[1;34m(self, condition)\u001b[0m\n\u001b[0;32m     13\u001b[0m \u001b[38;5;28;01mdef\u001b[39;00m \u001b[38;5;21mnadji\u001b[39m(\u001b[38;5;28mself\u001b[39m, condition):\n\u001b[0;32m     14\u001b[0m     \u001b[38;5;28;01mfor\u001b[39;00m row \u001b[38;5;129;01min\u001b[39;00m \u001b[38;5;28mself\u001b[39m\u001b[38;5;241m.\u001b[39mdata:\n\u001b[1;32m---> 15\u001b[0m         \u001b[38;5;28;01mif\u001b[39;00m \u001b[43mcondition\u001b[49m\u001b[43m(\u001b[49m\u001b[43mrow\u001b[49m\u001b[43m)\u001b[49m: \n\u001b[0;32m     16\u001b[0m             \u001b[38;5;28;01mreturn\u001b[39;00m row\n",
      "Cell \u001b[1;32mIn[11], line 1\u001b[0m, in \u001b[0;36m<lambda>\u001b[1;34m(redak)\u001b[0m\n\u001b[1;32m----> 1\u001b[0m p \u001b[38;5;241m=\u001b[39m csv\u001b[38;5;241m.\u001b[39mnadji(\u001b[38;5;28;01mlambda\u001b[39;00m redak: \u001b[43mredak\u001b[49m\u001b[43m[\u001b[49m\u001b[38;5;124;43m\"\u001b[39;49m\u001b[38;5;124;43mmjesecna primanja\u001b[39;49m\u001b[38;5;124;43m\"\u001b[39;49m\u001b[43m]\u001b[49m \u001b[38;5;241m>\u001b[39m \u001b[38;5;241m1500\u001b[39m)\n",
      "\u001b[1;31mTypeError\u001b[0m: string indices must be integers"
     ]
    }
   ],
   "source": [
    "p = csv.nadji(lambda redak: redak[\"mjesecna primanja\"] > 1500)"
   ]
  },
  {
   "cell_type": "code",
   "execution_count": null,
   "metadata": {},
   "outputs": [
    {
     "name": "stdout",
     "output_type": "stream",
     "text": [
      "\"Iva\", \"Ivić\", \"098 877 6555\", \"Ilica 25\", \"1881.45\"\n",
      "\"Ana\", \"Horvat\", \"091 112 3344\", \"Trg bana Jelačića 2\", \"1555.75\"\n",
      "\"Marko\", \"Kovač\", \"092 223 4455\", \"Vukovarska 10\", \"2003.22\"\n",
      "\"Petar\", \"Barić\", \"095 445 6677\", \"Frankopanska 16\", \"1789.5\"\n",
      "\"Marija\", \"Jurić\", \"099 556 7788\", \"Gundulićeva 8\", \"1980.4\"\n",
      "\"Ivana\", \"Novak\", \"097 667 8899\", \"Dubravka 12\", \"1670.25\"\n",
      "\"Iva\", \"Ivić\", \"098 877 6555\", \"Ilica 25\", \"1881.45\"\n",
      "\"Josip\", \"Perić\", \"097 123 4567\", \"Savska 14\", \"1298.31\"\n"
     ]
    }
   ],
   "source": []
  },
  {
   "cell_type": "code",
   "execution_count": null,
   "metadata": {},
   "outputs": [],
   "source": []
  }
 ],
 "metadata": {
  "kernelspec": {
   "display_name": "Python 3",
   "language": "python",
   "name": "python3"
  },
  "language_info": {
   "codemirror_mode": {
    "name": "ipython",
    "version": 3
   },
   "file_extension": ".py",
   "mimetype": "text/x-python",
   "name": "python",
   "nbconvert_exporter": "python",
   "pygments_lexer": "ipython3",
   "version": "3.9.13"
  }
 },
 "nbformat": 4,
 "nbformat_minor": 2
}
