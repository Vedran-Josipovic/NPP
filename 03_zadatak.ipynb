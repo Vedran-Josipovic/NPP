{
 "cells": [
  {
   "cell_type": "markdown",
   "metadata": {},
   "source": [
    "### Zadatak: Ravnanje Niza\n",
    "\n",
    "Napišite iterator `RavnanjeNiza` koji će omogućiti prolazak kroz niz vrijednosti, ali takav da može sadržavati i podnizove. \n",
    "\n",
    "Primjer za niz `[1, [[[2, 3], 4]], 5, [[[6]]]]`:\n",
    "\n",
    "Iterator treba generirati vrijednosti: 1, 2, 3, 4, 5, 6\n",
    "\n",
    "\n",
    "#### Demonstracija:\n",
    "```python\n",
    ">>> niz = [1, [[[2, 3], 4]], 5, [[[6]]]]\n",
    ">>> p = RavnanjeNiza(niz)\n",
    ">>> for e in p: print(e)\n",
    "1\n",
    "2\n",
    "3\n",
    "4\n",
    "5\n",
    "6\n",
    "```\n",
    "\n",
    "##### Iterator ne smije unaprijed pripremiti sve elemente niza, nego ih generirati po potrebi.\n",
    "\n",
    "\n",
    "### Zadatak riješite na dva načina:\n",
    "Iterator kao klasa s metodama prema iteratorskom protokolu.\n",
    "Iterator kao generator, odnosno uz pomoć naredbe yield."
   ]
  },
  {
   "cell_type": "markdown",
   "metadata": {},
   "source": [
    "#### 1.) Iterator kao klasa s metodama potrebnim prema iteratorskom protokolu"
   ]
  },
  {
   "cell_type": "code",
   "execution_count": 132,
   "metadata": {},
   "outputs": [],
   "source": [
    "class RavnanjeNiza:\n",
    "    def __init__(self, niz):\n",
    "        self.niz = niz\n",
    "        self.stack = [(self.niz, 0)]\n",
    "    \n",
    "    def __iter__(self):\n",
    "        return self\n",
    "    \n",
    "    def __next__(self):\n",
    "        while self.stack:\n",
    "            trenutni, index = self.stack.pop()\n",
    "            if index < len(trenutni):\n",
    "                self.stack.append((trenutni, index + 1))\n",
    "                element = trenutni[index]\n",
    "                if isinstance(element, list):\n",
    "                    self.stack.append((element, 0))\n",
    "                else:\n",
    "                    return element\n",
    "        raise StopIteration"
   ]
  },
  {
   "cell_type": "code",
   "execution_count": 133,
   "metadata": {},
   "outputs": [],
   "source": [
    "niz = [1, [[[2, 3], 4]], 5, [[[6]]]]"
   ]
  },
  {
   "cell_type": "code",
   "execution_count": 134,
   "metadata": {},
   "outputs": [],
   "source": [
    "p = RavnanjeNiza(niz)"
   ]
  },
  {
   "cell_type": "code",
   "execution_count": 135,
   "metadata": {},
   "outputs": [
    {
     "name": "stdout",
     "output_type": "stream",
     "text": [
      "1\n",
      "2\n",
      "3\n",
      "4\n",
      "5\n",
      "6\n"
     ]
    }
   ],
   "source": [
    "for e in p:\n",
    "    print(e)"
   ]
  },
  {
   "cell_type": "markdown",
   "metadata": {},
   "source": [
    "#### 2.) Iterator kao generator pomoću yield"
   ]
  },
  {
   "cell_type": "code",
   "execution_count": 143,
   "metadata": {},
   "outputs": [],
   "source": [
    "niz = [1, [[[[2, 3], 4]]], [5, [[[6]]]]]"
   ]
  },
  {
   "cell_type": "code",
   "execution_count": 144,
   "metadata": {},
   "outputs": [],
   "source": [
    "def RavnanjeNiza(niz):\n",
    "    for element in niz:\n",
    "        if type(element) == list:\n",
    "            yield from RavnanjeNiza(element)\n",
    "        else: \n",
    "            yield element"
   ]
  },
  {
   "cell_type": "code",
   "execution_count": 145,
   "metadata": {},
   "outputs": [
    {
     "data": {
      "text/plain": [
       "generator"
      ]
     },
     "execution_count": 145,
     "metadata": {},
     "output_type": "execute_result"
    }
   ],
   "source": [
    "type(RavnanjeNiza(niz))"
   ]
  },
  {
   "cell_type": "code",
   "execution_count": 146,
   "metadata": {},
   "outputs": [
    {
     "data": {
      "text/plain": [
       "<generator object RavnanjeNiza at 0x000001846CCE0120>"
      ]
     },
     "execution_count": 146,
     "metadata": {},
     "output_type": "execute_result"
    }
   ],
   "source": [
    "RavnanjeNiza(niz)"
   ]
  },
  {
   "cell_type": "code",
   "execution_count": 147,
   "metadata": {},
   "outputs": [
    {
     "name": "stdout",
     "output_type": "stream",
     "text": [
      "1\n",
      "2\n",
      "3\n",
      "4\n",
      "5\n",
      "6\n"
     ]
    }
   ],
   "source": [
    "for i in RavnanjeNiza(niz):\n",
    "    print(i)"
   ]
  },
  {
   "cell_type": "code",
   "execution_count": 148,
   "metadata": {},
   "outputs": [],
   "source": [
    "def RavnanjeNiza(niz):\n",
    "    for element in niz:\n",
    "        if isinstance(element, list):  # Ako je element lista, rekurzivno iteriramo\n",
    "            for sub_element in RavnanjeNiza(element):  # Ručno iteriramo kroz podniz\n",
    "                yield sub_element\n",
    "        else:\n",
    "            yield element  # Vraćamo trenutni element\n"
   ]
  },
  {
   "cell_type": "code",
   "execution_count": 149,
   "metadata": {},
   "outputs": [
    {
     "name": "stdout",
     "output_type": "stream",
     "text": [
      "1\n",
      "2\n",
      "3\n",
      "4\n",
      "5\n",
      "6\n"
     ]
    }
   ],
   "source": [
    "for i in RavnanjeNiza(niz):\n",
    "    print(i)"
   ]
  },
  {
   "cell_type": "code",
   "execution_count": null,
   "metadata": {},
   "outputs": [],
   "source": []
  }
 ],
 "metadata": {
  "kernelspec": {
   "display_name": "Python 3",
   "language": "python",
   "name": "python3"
  },
  "language_info": {
   "codemirror_mode": {
    "name": "ipython",
    "version": 3
   },
   "file_extension": ".py",
   "mimetype": "text/x-python",
   "name": "python",
   "nbconvert_exporter": "python",
   "pygments_lexer": "ipython3",
   "version": "3.9.13"
  }
 },
 "nbformat": 4,
 "nbformat_minor": 2
}
