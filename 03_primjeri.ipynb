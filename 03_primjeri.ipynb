{
 "cells": [
  {
   "cell_type": "markdown",
   "metadata": {},
   "source": [
    "__iter__() vraća iterator objekta\n",
    "\n",
    "__next__() vraća sljedeću vrijednost\n",
    "\n",
    "StopIteration se diže kada nema više elemenata\n",
    "\n",
    "Moguće je koristiti i kroz for petlju i ručno pomoću next()"
   ]
  },
  {
   "cell_type": "code",
   "execution_count": 1,
   "metadata": {},
   "outputs": [
    {
     "name": "stdout",
     "output_type": "stream",
     "text": [
      "Iteracija kroz for petlju:\n",
      "0\n",
      "1\n",
      "2\n",
      "3\n",
      "4\n",
      "\n",
      "Ručno korištenje iteratora:\n",
      "0\n",
      "1\n",
      "2\n",
      "3\n",
      "4\n",
      "Kraj iteracije\n"
     ]
    }
   ],
   "source": [
    "# Primjer implementacije iteratora\n",
    "\n",
    "class MojBrojnikIterator:\n",
    "    def __init__(self, limit):\n",
    "        self.limit = limit\n",
    "        self.trenutni = 0\n",
    "    \n",
    "    def __iter__(self):\n",
    "        # Vraća sam sebe kao iterator\n",
    "        return self\n",
    "    \n",
    "    def __next__(self):\n",
    "        # Provjerava je li dostignut limit\n",
    "        if self.trenutni < self.limit:\n",
    "            # Vraća trenutnu vrijednost i povećava je\n",
    "            vrijednost = self.trenutni\n",
    "            self.trenutni += 1\n",
    "            return vrijednost\n",
    "        else:\n",
    "            # Kada nema više elemenata, diže StopIteration\n",
    "            raise StopIteration()\n",
    "\n",
    "# Demonstracija korištenja\n",
    "class MojBrojnik:\n",
    "    def __init__(self, limit):\n",
    "        self.limit = limit\n",
    "    \n",
    "    def __iter__(self):\n",
    "        # Vraća novi iterator svaki put\n",
    "        return MojBrojnikIterator(self.limit)\n",
    "\n",
    "# Primjer upotrebe\n",
    "# Kreiranje objekta\n",
    "brojevi = MojBrojnik(5)\n",
    "\n",
    "# Korištenje u for petlji\n",
    "print(\"Iteracija kroz for petlju:\")\n",
    "for x in brojevi:\n",
    "    print(x)\n",
    "\n",
    "# Ručno korištenje iteratora\n",
    "print(\"\\nRučno korištenje iteratora:\")\n",
    "iterator = iter(brojevi)\n",
    "try:\n",
    "    while True:\n",
    "        print(next(iterator))\n",
    "except StopIteration:\n",
    "    print(\"Kraj iteracije\")"
   ]
  },
  {
   "cell_type": "code",
   "execution_count": 2,
   "metadata": {},
   "outputs": [],
   "source": [
    "import random\n",
    "\n",
    "\n",
    "class MojIterator:\n",
    "    def __init__(self):\n",
    "        self._n = 5\n",
    "        self._brojac = 0\n",
    "\n",
    "    def __next__(self):\n",
    "        if self._brojac < self._n:\n",
    "            self._brojac += 1\n",
    "            return random.randint(0,1000)\n",
    "        else:\n",
    "            raise StopIteration()"
   ]
  },
  {
   "cell_type": "code",
   "execution_count": 3,
   "metadata": {},
   "outputs": [],
   "source": [
    "class MojiPodaci:\n",
    "    def __iter__(self):\n",
    "        return MojIterator()"
   ]
  },
  {
   "cell_type": "code",
   "execution_count": null,
   "metadata": {},
   "outputs": [],
   "source": []
  },
  {
   "cell_type": "code",
   "execution_count": 4,
   "metadata": {},
   "outputs": [],
   "source": [
    "i = MojiPodaci()"
   ]
  },
  {
   "cell_type": "code",
   "execution_count": 5,
   "metadata": {},
   "outputs": [
    {
     "name": "stdout",
     "output_type": "stream",
     "text": [
      "<class '__main__.MojiPodaci'>\n",
      "<class '__main__.MojIterator'>\n"
     ]
    }
   ],
   "source": [
    "print(type(i))\n",
    "print(type(MojIterator()))"
   ]
  },
  {
   "cell_type": "code",
   "execution_count": 6,
   "metadata": {},
   "outputs": [
    {
     "name": "stdout",
     "output_type": "stream",
     "text": [
      "538\n",
      "132\n",
      "841\n",
      "13\n",
      "413\n"
     ]
    }
   ],
   "source": [
    "for x in i: print(x)"
   ]
  },
  {
   "cell_type": "code",
   "execution_count": 7,
   "metadata": {},
   "outputs": [
    {
     "data": {
      "text/plain": [
       "343"
      ]
     },
     "execution_count": 7,
     "metadata": {},
     "output_type": "execute_result"
    }
   ],
   "source": [
    "next(MojIterator())"
   ]
  },
  {
   "cell_type": "code",
   "execution_count": 8,
   "metadata": {},
   "outputs": [
    {
     "name": "stdout",
     "output_type": "stream",
     "text": [
      "644 345\n",
      "644 947\n",
      "644 338\n",
      "644 692\n",
      "644 257\n",
      "172 543\n",
      "172 722\n",
      "172 155\n",
      "172 184\n",
      "172 712\n",
      "391 494\n",
      "391 156\n",
      "391 587\n",
      "391 640\n",
      "391 330\n",
      "223 23\n",
      "223 854\n",
      "223 964\n",
      "223 940\n",
      "223 941\n",
      "889 851\n",
      "889 680\n",
      "889 381\n",
      "889 12\n",
      "889 256\n"
     ]
    }
   ],
   "source": [
    "# Ovaj kod prolazi kroz sve kombinacije elemenata u listi 'i'.\n",
    "# Vanjska petlja iterira kroz svaki element 'x' u listi 'i'.\n",
    "# Unutarnja petlja iterira kroz svaki element 'y' u istoj listi 'i'.\n",
    "# Za svaku kombinaciju 'x' i 'y', ispisuje se par (x, y).\n",
    "for x in i:\n",
    "    for y in i:\n",
    "        print(x, y)"
   ]
  },
  {
   "cell_type": "markdown",
   "metadata": {},
   "source": [
    "Generator"
   ]
  },
  {
   "cell_type": "code",
   "execution_count": 9,
   "metadata": {},
   "outputs": [],
   "source": [
    "def generator():\n",
    "    for i in range(3):\n",
    "        yield i"
   ]
  },
  {
   "cell_type": "code",
   "execution_count": 51,
   "metadata": {},
   "outputs": [
    {
     "name": "stdout",
     "output_type": "stream",
     "text": [
      "<class 'generator'>\n"
     ]
    }
   ],
   "source": [
    "print(type(generator))"
   ]
  },
  {
   "cell_type": "code",
   "execution_count": 10,
   "metadata": {},
   "outputs": [
    {
     "name": "stdout",
     "output_type": "stream",
     "text": [
      "0\n",
      "1\n",
      "2\n"
     ]
    }
   ],
   "source": [
    "for i in generator(): print(i)"
   ]
  },
  {
   "cell_type": "code",
   "execution_count": 11,
   "metadata": {},
   "outputs": [
    {
     "name": "stdout",
     "output_type": "stream",
     "text": [
      "0\n",
      "1\n",
      "2\n"
     ]
    }
   ],
   "source": [
    "for i in range(3): print(i)"
   ]
  },
  {
   "cell_type": "code",
   "execution_count": 12,
   "metadata": {},
   "outputs": [
    {
     "name": "stdout",
     "output_type": "stream",
     "text": [
      "0\n",
      "1\n",
      "2\n",
      "Greška\n"
     ]
    }
   ],
   "source": [
    "gen = generator()\n",
    "print(next(gen))\n",
    "print(next(gen))\n",
    "print(next(gen))\n",
    "try:\n",
    "    print(next(gen))\n",
    "except StopIteration:\n",
    "    print(\"Greška\")"
   ]
  },
  {
   "cell_type": "markdown",
   "metadata": {},
   "source": [
    "Generator fibonacci brojeva"
   ]
  },
  {
   "cell_type": "code",
   "execution_count": 13,
   "metadata": {},
   "outputs": [
    {
     "name": "stdout",
     "output_type": "stream",
     "text": [
      "0\n",
      "1\n",
      "1\n",
      "2\n",
      "3\n",
      "5\n",
      "8\n",
      "13\n",
      "21\n",
      "34\n"
     ]
    }
   ],
   "source": [
    "def fibonacci():\n",
    "    a, b = 0, 1\n",
    "    while True: #Beskonačan niz\n",
    "        yield a\n",
    "        a, b = b, a + b\n",
    "\n",
    "gen = fibonacci()\n",
    "for i in range(10): print(next(gen))\n",
    "gen.close()"
   ]
  },
  {
   "cell_type": "code",
   "execution_count": 14,
   "metadata": {},
   "outputs": [
    {
     "name": "stdout",
     "output_type": "stream",
     "text": [
      "2\n",
      "4\n",
      "6\n"
     ]
    }
   ],
   "source": [
    "def even_nums(numbers):\n",
    "    for num in numbers:\n",
    "        if num % 2 == 0:\n",
    "            yield num\n",
    "\n",
    "nums = [1, 2, 3, 4, 5, 6]\n",
    "\n",
    "for even in even_nums(nums): print(even)"
   ]
  },
  {
   "cell_type": "code",
   "execution_count": 52,
   "metadata": {},
   "outputs": [
    {
     "name": "stdout",
     "output_type": "stream",
     "text": [
      "<class 'function'>\n"
     ]
    }
   ],
   "source": [
    "print(type(even_nums))"
   ]
  },
  {
   "cell_type": "code",
   "execution_count": 15,
   "metadata": {},
   "outputs": [],
   "source": [
    "def zbroj():\n",
    "    ukupno = 0\n",
    "    while True:\n",
    "        n = yield ukupno\n",
    "        if n is not None:\n",
    "            ukupno += n"
   ]
  },
  {
   "cell_type": "code",
   "execution_count": 16,
   "metadata": {},
   "outputs": [
    {
     "data": {
      "text/plain": [
       "generator"
      ]
     },
     "execution_count": 16,
     "metadata": {},
     "output_type": "execute_result"
    }
   ],
   "source": [
    "gen = zbroj()\n",
    "type(gen)"
   ]
  },
  {
   "cell_type": "code",
   "execution_count": 17,
   "metadata": {},
   "outputs": [
    {
     "name": "stdout",
     "output_type": "stream",
     "text": [
      "0\n"
     ]
    }
   ],
   "source": [
    "print(next(gen))"
   ]
  },
  {
   "cell_type": "code",
   "execution_count": 18,
   "metadata": {},
   "outputs": [
    {
     "name": "stdout",
     "output_type": "stream",
     "text": [
      "0\n"
     ]
    }
   ],
   "source": [
    "print(next(gen))"
   ]
  },
  {
   "cell_type": "code",
   "execution_count": 19,
   "metadata": {},
   "outputs": [
    {
     "name": "stdout",
     "output_type": "stream",
     "text": [
      "10\n"
     ]
    }
   ],
   "source": [
    "print(gen.send(10))"
   ]
  },
  {
   "cell_type": "code",
   "execution_count": 20,
   "metadata": {},
   "outputs": [
    {
     "name": "stdout",
     "output_type": "stream",
     "text": [
      "15\n"
     ]
    }
   ],
   "source": [
    "print(gen.send(5)) "
   ]
  },
  {
   "cell_type": "code",
   "execution_count": 21,
   "metadata": {},
   "outputs": [
    {
     "name": "stdout",
     "output_type": "stream",
     "text": [
      "18\n"
     ]
    }
   ],
   "source": [
    "print(gen.send(3))"
   ]
  },
  {
   "cell_type": "markdown",
   "metadata": {},
   "source": [
    "#### Generatorski izrazi\n",
    "\n",
    "Python ima i kraći način pisanja iteratora\n",
    "\n",
    " (izraz for varijabla in kolekcija if uvjet)  # if dio je opcionalan"
   ]
  },
  {
   "cell_type": "code",
   "execution_count": 22,
   "metadata": {},
   "outputs": [
    {
     "name": "stdout",
     "output_type": "stream",
     "text": [
      "<generator object <genexpr> at 0x000001BAD3FF2890>\n",
      "\n",
      "********************\n",
      "\n",
      "[1, 4, 9, 16, 25]\n"
     ]
    }
   ],
   "source": [
    "generator = (x**2 for x in range(1,6))\n",
    "print(generator)\n",
    "print(\"\\n********************\\n\")\n",
    "print(list(generator))"
   ]
  },
  {
   "cell_type": "code",
   "execution_count": 23,
   "metadata": {},
   "outputs": [
    {
     "name": "stdout",
     "output_type": "stream",
     "text": [
      "55\n"
     ]
    }
   ],
   "source": [
    "zbroj_kvadrata = sum(x**2 for x in range(1,6))\n",
    "print(zbroj_kvadrata)"
   ]
  },
  {
   "cell_type": "code",
   "execution_count": 24,
   "metadata": {},
   "outputs": [],
   "source": [
    "def zbroj_kvadrata_f(lower, upper):\n",
    "    sum = 0\n",
    "    for i in range(lower, upper):\n",
    "        sum += i**2\n",
    "    return sum"
   ]
  },
  {
   "cell_type": "code",
   "execution_count": 25,
   "metadata": {},
   "outputs": [
    {
     "data": {
      "text/plain": [
       "55"
      ]
     },
     "execution_count": 25,
     "metadata": {},
     "output_type": "execute_result"
    }
   ],
   "source": [
    "zbroj_kvadrata_f(1,6)"
   ]
  },
  {
   "cell_type": "markdown",
   "metadata": {},
   "source": [
    "Kombinacija generatorskih izraza\n",
    "\n",
    "Generatorske izraze možemo umetati jedan u drugi"
   ]
  },
  {
   "cell_type": "code",
   "execution_count": 26,
   "metadata": {},
   "outputs": [
    {
     "name": "stdout",
     "output_type": "stream",
     "text": [
      "<class 'generator'>\n",
      "[(1, 4), (1, 5), (1, 6), (2, 4), (2, 5), (2, 6), (3, 4), (3, 5), (3, 6)]\n"
     ]
    }
   ],
   "source": [
    "brojevi1 = [1, 2, 3]\n",
    "brojevi2 = [4, 5, 6]\n",
    "\n",
    "kombinacije = ((x, y) for x in brojevi1 for y in brojevi2)\n",
    "\n",
    "print(type(kombinacije))\n",
    "print(list(kombinacije))"
   ]
  },
  {
   "cell_type": "code",
   "execution_count": 27,
   "metadata": {},
   "outputs": [
    {
     "name": "stdout",
     "output_type": "stream",
     "text": [
      "0\n"
     ]
    }
   ],
   "source": [
    "# Kombinacije je generator (funkcija) pa stoga se ništa ne pohranjuje, ništa se ne sprema jer nije varijabla\n",
    "# Svaki puta se dinamički računa\n",
    "lst = list(kombinacije)\n",
    "print(len(lst))"
   ]
  },
  {
   "cell_type": "markdown",
   "metadata": {},
   "source": [
    "Kombinacija generatorskih izraza i funkcija"
   ]
  },
  {
   "cell_type": "code",
   "execution_count": 28,
   "metadata": {},
   "outputs": [
    {
     "name": "stdout",
     "output_type": "stream",
     "text": [
      "[2, 3, 5, 7, 11, 13, 17, 19]\n"
     ]
    }
   ],
   "source": [
    "def je_prost(n):\n",
    "    if n < 2:\n",
    "        return False\n",
    "    for i in range(2, int(n**0.5) + 1):\n",
    "        if n % i == 0:\n",
    "            return False\n",
    "    return True\n",
    "\n",
    "prost_brojevi = (x for x in range(1,20) if je_prost(x))\n",
    "print(list(prost_brojevi))"
   ]
  },
  {
   "cell_type": "markdown",
   "metadata": {},
   "source": [
    "itertools"
   ]
  },
  {
   "cell_type": "markdown",
   "metadata": {},
   "source": [
    "● Modul **`itertools`** nudi puno korisnih funkcija za rad s iteratorima i generatorima.\n",
    "\n",
    "\n",
    "● Funkcije modula **`itertools`** često se koriste za kombiniranje, filtriranje, transformiranje i proširivanje iteratora, a idealne su za rad s velikim nizovima podataka jer omogućuju **\"lijenu evaluaciju\"**, odnosno evaluaciju po potrebi."
   ]
  },
  {
   "cell_type": "code",
   "execution_count": 29,
   "metadata": {},
   "outputs": [
    {
     "name": "stdout",
     "output_type": "stream",
     "text": [
      "10\n",
      "12\n",
      "14\n",
      "16\n",
      "18\n"
     ]
    }
   ],
   "source": [
    "import itertools\n",
    "#Stvara beskonačni iterator koji generira brojeve počevši od start i povećava ih za step.\n",
    "itertools.count(start=0, step=1)\n",
    "\n",
    "brojevi = itertools.count(10, 2)\n",
    "for i in range(5):\n",
    "    print(next(brojevi))"
   ]
  },
  {
   "cell_type": "code",
   "execution_count": 30,
   "metadata": {},
   "outputs": [
    {
     "name": "stdout",
     "output_type": "stream",
     "text": [
      "crvena\n",
      "zelena\n",
      "plava\n",
      "crvena\n",
      "zelena\n",
      "plava\n"
     ]
    }
   ],
   "source": [
    "# Stvara beskonačni iterator koji ponavlja elemente iz danog iterabilnog objekta.\n",
    "# itertools.cycle(iterable)\n",
    "\n",
    "boje = itertools.cycle(['crvena', 'zelena', 'plava'])\n",
    "for _ in range(6):\n",
    "    print(next(boje))"
   ]
  },
  {
   "cell_type": "markdown",
   "metadata": {},
   "source": [
    "itertools.repeat(object, times=None)"
   ]
  },
  {
   "cell_type": "code",
   "execution_count": 31,
   "metadata": {},
   "outputs": [
    {
     "name": "stdout",
     "output_type": "stream",
     "text": [
      "['Python', 'Python', 'Python']\n",
      "<class 'itertools.repeat'>\n"
     ]
    }
   ],
   "source": [
    "ponavljanja = itertools.repeat(\"Python\", 3)\n",
    "print(list(ponavljanja))\n",
    "print(type(ponavljanja))"
   ]
  },
  {
   "cell_type": "markdown",
   "metadata": {},
   "source": [
    "itertools.accumulate(iterable, func=operator.add)\n",
    "\n",
    "Vraća iterator koji akumulira vrijednosti iz iterabilnog objekta. Po defaultu radi zbrajanje, ali može se koristiti s drugim binarnim funkcijama."
   ]
  },
  {
   "cell_type": "code",
   "execution_count": 32,
   "metadata": {},
   "outputs": [
    {
     "name": "stdout",
     "output_type": "stream",
     "text": [
      "[1, 3, 6, 10, 15]\n",
      "[1, 2, 6, 24, 120]\n"
     ]
    }
   ],
   "source": [
    "import operator\n",
    "\n",
    "brojevi = [1, 2, 3, 4, 5]\n",
    "zbroj = itertools.accumulate(brojevi)\n",
    "print(list(zbroj))\n",
    "\n",
    "proizvod = itertools.accumulate(brojevi, operator.mul)\n",
    "print(list(proizvod))"
   ]
  },
  {
   "cell_type": "markdown",
   "metadata": {},
   "source": [
    "itertools.chain(*iterables)\n",
    "\n",
    "Stvara iterator koji \"spaja\" više iterabilnih objekata u jedan."
   ]
  },
  {
   "cell_type": "code",
   "execution_count": 33,
   "metadata": {},
   "outputs": [
    {
     "name": "stdout",
     "output_type": "stream",
     "text": [
      "[1, 2, 3, 4, 5, 6]\n"
     ]
    }
   ],
   "source": [
    "lista1 = [1, 2, 3]\n",
    "lista2 = [4, 5, 6]\n",
    "sve_skupa = itertools.chain(lista1, lista2)\n",
    "print(list(sve_skupa))"
   ]
  },
  {
   "cell_type": "markdown",
   "metadata": {},
   "source": [
    "itertools.compress(data, selectors)\n",
    "\n",
    "Vraća samo one elemente iz data za koje je odgovarajući element u  selectors True."
   ]
  },
  {
   "cell_type": "code",
   "execution_count": 34,
   "metadata": {},
   "outputs": [
    {
     "name": "stdout",
     "output_type": "stream",
     "text": [
      "['A', 'C']\n"
     ]
    }
   ],
   "source": [
    "data = ['A', 'B', 'C', 'D']\n",
    "selectors = [True, False, True, False]\n",
    "\n",
    "filtrirano = itertools.compress(data, selectors)\n",
    "print(list(filtrirano))"
   ]
  },
  {
   "cell_type": "markdown",
   "metadata": {},
   "source": [
    "itertools.dropwhile(predicate, iterable)\n",
    "\n",
    "Preskače elemente sve dok predicate vraća True, a zatim vraća ostatak elemenata (ne vraća samo elemente koji NE zadovoljavaju uvjet)"
   ]
  },
  {
   "cell_type": "code",
   "execution_count": 35,
   "metadata": {},
   "outputs": [
    {
     "name": "stdout",
     "output_type": "stream",
     "text": [
      "[3, 4, 5]\n"
     ]
    }
   ],
   "source": [
    "brojevi = [1, 2, 3, 4, 5]\n",
    "rezultat = itertools.dropwhile(lambda x: x < 3, brojevi)\n",
    "print(list(rezultat))"
   ]
  },
  {
   "cell_type": "markdown",
   "metadata": {},
   "source": [
    "itertools.takewhile(predicate, iterable)\n",
    "\n",
    "Vraća elemente sve dok je predicate True, zatim zaustavlja iteraciju."
   ]
  },
  {
   "cell_type": "code",
   "execution_count": 36,
   "metadata": {},
   "outputs": [
    {
     "name": "stdout",
     "output_type": "stream",
     "text": [
      "[1, 2, 3]\n"
     ]
    }
   ],
   "source": [
    "brojevi = [1, 2, 3, 4, 5]\n",
    "rezultat = itertools.takewhile(lambda x: x < 4, brojevi)\n",
    "print(list(rezultat))"
   ]
  },
  {
   "cell_type": "markdown",
   "metadata": {},
   "source": [
    "itertools.product(*iterables, repeat=1)\n",
    "\n",
    "Stvara kartezijev produkt (sve kombinacije) danih iterabilnih objekata."
   ]
  },
  {
   "cell_type": "code",
   "execution_count": 37,
   "metadata": {},
   "outputs": [
    {
     "name": "stdout",
     "output_type": "stream",
     "text": [
      "[('crvena', 'S'), ('crvena', 'M'), ('plava', 'S'), ('plava', 'M')]\n"
     ]
    }
   ],
   "source": [
    "boje = ['crvena', 'plava']\n",
    "velicine = ['S', 'M']\n",
    "kombinacije = itertools.product(boje, velicine)\n",
    "print(list(kombinacije))"
   ]
  },
  {
   "cell_type": "markdown",
   "metadata": {},
   "source": [
    "itertools.permutations(iterable, r=None)\n",
    "\n",
    "Vraća sve moguće permutacije elemenata u iterabilnom objektu dužine r. Ako r nije naveden, koristi dužinu iterabilnog objekta."
   ]
  },
  {
   "cell_type": "code",
   "execution_count": 38,
   "metadata": {},
   "outputs": [
    {
     "name": "stdout",
     "output_type": "stream",
     "text": [
      "[('a', 'b'), ('a', 'c'), ('b', 'a'), ('b', 'c'), ('c', 'a'), ('c', 'b')]\n"
     ]
    }
   ],
   "source": [
    "slova = ['a', 'b', 'c']\n",
    "perm = itertools.permutations(slova, 2)\n",
    "print(list(perm))"
   ]
  },
  {
   "cell_type": "markdown",
   "metadata": {},
   "source": [
    "$$\n",
    "P(n, r) = \\frac{n!}{(n - r)!}\n",
    "$$"
   ]
  },
  {
   "cell_type": "code",
   "execution_count": 39,
   "metadata": {},
   "outputs": [
    {
     "name": "stdout",
     "output_type": "stream",
     "text": [
      "[('a', 'b', 'c'), ('a', 'c', 'b'), ('b', 'a', 'c'), ('b', 'c', 'a'), ('c', 'a', 'b'), ('c', 'b', 'a')]\n"
     ]
    }
   ],
   "source": [
    "slova = ['a', 'b', 'c']\n",
    "perm = itertools.permutations(slova)\n",
    "print(list(perm))"
   ]
  },
  {
   "cell_type": "code",
   "execution_count": 40,
   "metadata": {},
   "outputs": [
    {
     "name": "stdout",
     "output_type": "stream",
     "text": [
      "[('A', 'B'), ('A', 'C'), ('B', 'C')]\n"
     ]
    }
   ],
   "source": [
    "slova = ['A', 'B', 'C']\n",
    "kombinacije = itertools.combinations(slova, 2)\n",
    "print(list(kombinacije))"
   ]
  },
  {
   "cell_type": "code",
   "execution_count": 41,
   "metadata": {},
   "outputs": [
    {
     "name": "stdout",
     "output_type": "stream",
     "text": [
      "[('A', 'B', 'C')]\n"
     ]
    }
   ],
   "source": [
    "slova = ['A', 'B', 'C']\n",
    "kombinacije = itertools.combinations(slova, 3)\n",
    "print(list(kombinacije))"
   ]
  },
  {
   "cell_type": "code",
   "execution_count": 42,
   "metadata": {},
   "outputs": [
    {
     "name": "stdout",
     "output_type": "stream",
     "text": [
      "[('A',), ('B',), ('C',)]\n"
     ]
    }
   ],
   "source": [
    "slova = ['A', 'B', 'C']\n",
    "kombinacije = itertools.combinations(slova, 1)\n",
    "print(list(kombinacije))"
   ]
  },
  {
   "cell_type": "markdown",
   "metadata": {},
   "source": [
    "itertools.combinations_with_replacement(iterable, r)\n",
    "\n",
    "Vraća kombinacije s ponavljanjem."
   ]
  },
  {
   "cell_type": "code",
   "execution_count": 43,
   "metadata": {},
   "outputs": [
    {
     "name": "stdout",
     "output_type": "stream",
     "text": [
      "[('A', 'A'), ('A', 'B'), ('B', 'B')]\n"
     ]
    }
   ],
   "source": [
    "slova = ['A', 'B']\n",
    "kombinacije = itertools.combinations_with_replacement(slova, 2)\n",
    "print(list(kombinacije))"
   ]
  },
  {
   "cell_type": "markdown",
   "metadata": {},
   "source": [
    "itertools.groupby(iterable, key=None)\n",
    "\n",
    "Grupira susjedne elemente koji imaju istu vrijednost key funkcije."
   ]
  },
  {
   "cell_type": "code",
   "execution_count": 44,
   "metadata": {},
   "outputs": [
    {
     "name": "stdout",
     "output_type": "stream",
     "text": [
      "<class 'itertools.groupby'>\n",
      "A [('A', 1), ('A', 2)]\n",
      "B [('B', 3), ('B', 4)]\n",
      "C [('C', 5)]\n"
     ]
    }
   ],
   "source": [
    "data = [('A', 1), ('A', 2), ('B', 3), ('B', 4), ('C', 5)]\n",
    "data.sort(key=lambda x: x[0]) # Sortira po ključu\n",
    "grupe = itertools.groupby(data, key=lambda x: x[0])\n",
    "\n",
    "print(type(grupe))\n",
    "\n",
    "for ključ, grupa in grupe:\n",
    "    print(ključ, list(grupa))"
   ]
  },
  {
   "cell_type": "markdown",
   "metadata": {},
   "source": [
    "itertools.islice(iterable, start, stop, step=1)\n",
    "\n",
    "Omogućava “rezanje” iteratora, vraćajući elemente od start do stop s opcionalnim korakom step"
   ]
  },
  {
   "cell_type": "code",
   "execution_count": 45,
   "metadata": {},
   "outputs": [
    {
     "name": "stdout",
     "output_type": "stream",
     "text": [
      "[2, 4, 6]\n"
     ]
    }
   ],
   "source": [
    "brojevi = range(10)\n",
    "izrez = itertools.islice(brojevi, 2, 8, 2)\n",
    "print(list(izrez))"
   ]
  },
  {
   "cell_type": "markdown",
   "metadata": {},
   "source": [
    "itertools.starmap(function, iterable)\n",
    "\n",
    "Primjenjuje function na elemente iterabilnog objekta, gdje se svaki element prosljeđuje kao argument funkciji."
   ]
  },
  {
   "cell_type": "code",
   "execution_count": 46,
   "metadata": {},
   "outputs": [
    {
     "name": "stdout",
     "output_type": "stream",
     "text": [
      "[6, 12, 20]\n"
     ]
    }
   ],
   "source": [
    "parovi = [(2, 3), (3, 4), (4, 5)]\n",
    "rezultat = itertools.starmap(lambda x, y: x * y, parovi)\n",
    "print(list(rezultat))"
   ]
  },
  {
   "cell_type": "markdown",
   "metadata": {},
   "source": [
    "List comprehension"
   ]
  },
  {
   "cell_type": "code",
   "execution_count": 47,
   "metadata": {},
   "outputs": [
    {
     "data": {
      "text/plain": [
       "[0, 2, 4, 6, 8]"
      ]
     },
     "execution_count": 47,
     "metadata": {},
     "output_type": "execute_result"
    }
   ],
   "source": [
    "[x * 2 for x in range(5)]"
   ]
  },
  {
   "cell_type": "code",
   "execution_count": 48,
   "metadata": {},
   "outputs": [
    {
     "data": {
      "text/plain": [
       "{'a': 97, 'b': 98, 'c': 99}"
      ]
     },
     "execution_count": 48,
     "metadata": {},
     "output_type": "execute_result"
    }
   ],
   "source": [
    "{x: ord(x) for x in 'abc'}"
   ]
  },
  {
   "cell_type": "code",
   "execution_count": 50,
   "metadata": {},
   "outputs": [
    {
     "data": {
      "text/plain": [
       "{'a', 'b', 'c'}"
      ]
     },
     "execution_count": 50,
     "metadata": {},
     "output_type": "execute_result"
    }
   ],
   "source": [
    "{x for x in 'cba'}"
   ]
  },
  {
   "cell_type": "code",
   "execution_count": null,
   "metadata": {},
   "outputs": [],
   "source": []
  }
 ],
 "metadata": {
  "kernelspec": {
   "display_name": "Python 3",
   "language": "python",
   "name": "python3"
  },
  "language_info": {
   "codemirror_mode": {
    "name": "ipython",
    "version": 3
   },
   "file_extension": ".py",
   "mimetype": "text/x-python",
   "name": "python",
   "nbconvert_exporter": "python",
   "pygments_lexer": "ipython3",
   "version": "3.9.13"
  }
 },
 "nbformat": 4,
 "nbformat_minor": 2
}
