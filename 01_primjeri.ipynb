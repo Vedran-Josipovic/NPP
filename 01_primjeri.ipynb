{
 "cells": [
  {
   "cell_type": "markdown",
   "metadata": {},
   "source": [
    "# Primjer 1\n",
    "\n",
    "Za zadanu listu znakovnih nizova (stringova) potrebno je napraviti novu listu koja se sastoji samo od znakovnih nizova koji sadrže znamenku 1."
   ]
  },
  {
   "cell_type": "code",
   "execution_count": 1,
   "metadata": {},
   "outputs": [],
   "source": [
    "lst_str = [\"123\", \"456\", \"789\", \"101\", \"202\", \"303\"]"
   ]
  },
  {
   "cell_type": "markdown",
   "metadata": {},
   "source": [
    "## Pr. 1: Moj način"
   ]
  },
  {
   "cell_type": "code",
   "execution_count": 2,
   "metadata": {},
   "outputs": [
    {
     "data": {
      "text/plain": [
       "['123', '101']"
      ]
     },
     "execution_count": 2,
     "metadata": {},
     "output_type": "execute_result"
    }
   ],
   "source": [
    "res_lst = []\n",
    "for e in lst_str:\n",
    "    if '1' in e:\n",
    "        res_lst.append(e)\n",
    "\n",
    "res_lst"
   ]
  },
  {
   "cell_type": "markdown",
   "metadata": {},
   "source": [
    "## Pr. 1: Skripta"
   ]
  },
  {
   "cell_type": "code",
   "execution_count": 3,
   "metadata": {},
   "outputs": [
    {
     "name": "stdout",
     "output_type": "stream",
     "text": [
      "['123', '101']\n"
     ]
    }
   ],
   "source": [
    "rezultat = []\n",
    "for s in lst_str:\n",
    "    if s.find('1') > -1:\n",
    "        rezultat += [s]\n",
    "\n",
    "print(rezultat)"
   ]
  },
  {
   "cell_type": "markdown",
   "metadata": {},
   "source": [
    "# Primjer 2\n",
    "\n",
    "Neka je zadana lista telefonskih brojeva u obliku znakovnog niza u formatu \n",
    "xxx-xxx-xxxx. Napišite program koji će izdvojiti samo one telefonske brojeve \n",
    "kojima je pozivni broj 099 (prvi dio xxx) i to bez pozivnog broja.\n"
   ]
  },
  {
   "cell_type": "code",
   "execution_count": 4,
   "metadata": {},
   "outputs": [],
   "source": [
    "lista_br = [\"099-123-4567\", \"098-765-4321\", \"099-234-5678\", \"097-345-6789\", \"099-345-6789\"]"
   ]
  },
  {
   "cell_type": "markdown",
   "metadata": {},
   "source": [
    "## Pr. 2: Moj način"
   ]
  },
  {
   "cell_type": "code",
   "execution_count": 5,
   "metadata": {},
   "outputs": [
    {
     "data": {
      "text/plain": [
       "['123-4567', '234-5678', '345-6789']"
      ]
     },
     "execution_count": 5,
     "metadata": {},
     "output_type": "execute_result"
    }
   ],
   "source": [
    "lst_099 = []\n",
    "for e in lista_br:\n",
    "    if(e[0:3]) == \"099\":\n",
    "        lst_099.append(e[4:])\n",
    "\n",
    "lst_099"
   ]
  },
  {
   "cell_type": "markdown",
   "metadata": {},
   "source": [
    "## Pr. 2: Skripta"
   ]
  },
  {
   "cell_type": "code",
   "execution_count": 6,
   "metadata": {},
   "outputs": [
    {
     "name": "stdout",
     "output_type": "stream",
     "text": [
      "['123-4567', '234-5678', '345-6789']\n"
     ]
    }
   ],
   "source": [
    "rez_099 = []\n",
    "\n",
    "for s in lista_br:\n",
    "    if(s[:3]) == '099':\n",
    "        rez_099 += [s[4:]]\n",
    "\n",
    "print(rez_099)"
   ]
  },
  {
   "cell_type": "markdown",
   "metadata": {},
   "source": [
    "# Primjer 3\n",
    "\n",
    "U zadanom tekstu treba izdvojiti parne znamenke, znamenku 0 i velika slova, \n",
    "zajedno s položajima (indeksima) u tekstu na kojima se nalaze. Rezultat treba \n",
    "biti lista parova oblika (indeks, znamenka)."
   ]
  },
  {
   "cell_type": "code",
   "execution_count": 7,
   "metadata": {},
   "outputs": [],
   "source": [
    "tekst = '''\n",
    "Temperatura ce dosegnuti vise od 30 stupnjeva i trajat ce barem 4 dana. Osjetno zahladnjenje nastupit ce 7. rujna.'''"
   ]
  },
  {
   "cell_type": "markdown",
   "metadata": {},
   "source": [
    "## Pr. 3: Moj način"
   ]
  },
  {
   "cell_type": "code",
   "execution_count": 8,
   "metadata": {},
   "outputs": [
    {
     "data": {
      "text/plain": [
       "[(1, 'T'), (35, '0'), (65, '4'), (73, 'O')]"
      ]
     },
     "execution_count": 8,
     "metadata": {},
     "output_type": "execute_result"
    }
   ],
   "source": [
    "lista_listi = []\n",
    "for i in range(len(tekst)):\n",
    "    if (tekst[i].isdigit() and int(tekst[i]) % 2 == 0) or tekst[i].isupper():\n",
    "        lista_listi.append((i, tekst[i]))\n",
    "lista_listi"
   ]
  },
  {
   "cell_type": "markdown",
   "metadata": {},
   "source": [
    "## Pr. 3: Skripta"
   ]
  },
  {
   "cell_type": "code",
   "execution_count": 9,
   "metadata": {},
   "outputs": [
    {
     "data": {
      "text/plain": [
       "[(1, 'T'), (35, '0'), (65, '4'), (73, 'O')]"
      ]
     },
     "execution_count": 9,
     "metadata": {},
     "output_type": "execute_result"
    }
   ],
   "source": [
    "znamenke = []\n",
    "for index, znak in enumerate(tekst):\n",
    "    if znak in '02468' or znak.isupper():\n",
    "        znamenke += [(index,znak)]\n",
    "znamenke"
   ]
  },
  {
   "cell_type": "markdown",
   "metadata": {},
   "source": [
    "# Primjer 4\n",
    "\n",
    "Napišite funkciju poravnaj koja će za zadanu listu (koja može sadržavati i druge \n",
    "liste kao elemente) vratiti novu listu gdje su svi elementi na istoj, najvišoj \n",
    "razini. Na primjer, za listu [1, 2, [3, [4]], 5] treba dobiti listu [1, 2, 3, 4, 5]."
   ]
  },
  {
   "cell_type": "code",
   "execution_count": 10,
   "metadata": {},
   "outputs": [],
   "source": [
    "lista = [1, [2, 3, [4, [5, 6]], [7, 8]], 9, 10]"
   ]
  },
  {
   "cell_type": "markdown",
   "metadata": {},
   "source": [
    "## Pr. 4: Moj način"
   ]
  },
  {
   "cell_type": "code",
   "execution_count": 11,
   "metadata": {},
   "outputs": [],
   "source": [
    "def poravnaj(lista):\n",
    "    rez = []\n",
    "    def _poravnaj(lista):\n",
    "        if len(lista) == 0:\n",
    "            return\n",
    "        if type(lista[0]) == list:\n",
    "            _poravnaj(lista[0])\n",
    "            _poravnaj(lista[1:])\n",
    "        else:\n",
    "            rez.append(lista[0])\n",
    "            _poravnaj(lista[1:])\n",
    "    _poravnaj(lista)\n",
    "    return rez"
   ]
  },
  {
   "cell_type": "code",
   "execution_count": 12,
   "metadata": {},
   "outputs": [
    {
     "data": {
      "text/plain": [
       "[1, 2, 3, 4, 5, 6, 7, 8, 9, 10]"
      ]
     },
     "execution_count": 12,
     "metadata": {},
     "output_type": "execute_result"
    }
   ],
   "source": [
    "poravnaj(lista)"
   ]
  },
  {
   "cell_type": "markdown",
   "metadata": {},
   "source": [
    "## Pr. 4: ChatGPT"
   ]
  },
  {
   "cell_type": "code",
   "execution_count": 13,
   "metadata": {},
   "outputs": [
    {
     "name": "stdout",
     "output_type": "stream",
     "text": [
      "Rezultat: [1, 2, 3, 4, 5, 6, 7, 8, 9, 10]\n"
     ]
    }
   ],
   "source": [
    "def poravnaj(lista):\n",
    "    rez = []\n",
    "    for element in lista:\n",
    "        if isinstance(element, list):  # Provjeri je li element lista\n",
    "            rez.extend(poravnaj(element))  # Rekurzivno obradi podlistu i dodaj sve elemente\n",
    "        else:\n",
    "            rez.append(element)  # Dodaj element u konačan rezultat\n",
    "    return rez\n",
    "\n",
    "# Testiraj funkciju\n",
    "rezultat = poravnaj([1, [2, 3, [4, [5, 6]], [7, 8]], 9, 10])\n",
    "print(\"Rezultat:\", rezultat)"
   ]
  },
  {
   "cell_type": "markdown",
   "metadata": {},
   "source": [
    "## Pr. 4: Skripta"
   ]
  },
  {
   "cell_type": "code",
   "execution_count": 14,
   "metadata": {},
   "outputs": [
    {
     "data": {
      "text/plain": [
       "[1, 2, 3, 4, 5, 6, 7, 8, 9, 10]"
      ]
     },
     "execution_count": 14,
     "metadata": {},
     "output_type": "execute_result"
    }
   ],
   "source": [
    "def poravnaj(lista):\n",
    "    def _poravnanje(p, rezultat):\n",
    "        for e in p:\n",
    "            if isinstance(e, list):\n",
    "                _poravnanje(e, rezultat)\n",
    "            else:\n",
    "                rezultat += [e]\n",
    "        return rezultat\n",
    "    return _poravnanje(lista, [])\n",
    "\n",
    "poravnaj(lista)"
   ]
  },
  {
   "cell_type": "markdown",
   "metadata": {},
   "source": [
    "# Primjer 5\n",
    "\n",
    "Napišite funkciju palindromi koja za zadane znakovne nizove vraća True ako su \n",
    "svi nizovi palindromi (isti i s lijeva i s desna). Ta funkcija treba prihvaćati \n",
    "neograničeni broj argumenata."
   ]
  },
  {
   "cell_type": "markdown",
   "metadata": {},
   "source": [
    "## Pr. 5: Moj način i Skripta"
   ]
  },
  {
   "cell_type": "code",
   "execution_count": 15,
   "metadata": {},
   "outputs": [
    {
     "name": "stdout",
     "output_type": "stream",
     "text": [
      "True\n"
     ]
    }
   ],
   "source": [
    "def palindromi(*stringovi : str) -> bool:\n",
    "    for s in stringovi:\n",
    "        if s != s[::-1]:\n",
    "            return False\n",
    "    return True\n",
    "\n",
    "print(palindromi(\"abba\", \"abcba\", \"hannah\"))"
   ]
  },
  {
   "cell_type": "markdown",
   "metadata": {},
   "source": [
    "# Primjer 6\n",
    "\n",
    "Napišite funkciju nadji koja za zadani znakovni niz vraća sve položaje na \n",
    "kojima se nalaze zadani podnizovi. Rezultat treba biti oblika [(podniz, \n",
    "pozicija)]."
   ]
  },
  {
   "cell_type": "code",
   "execution_count": 16,
   "metadata": {},
   "outputs": [],
   "source": [
    "s = '''U subotu jos toplije, ponegdje i na kopnu uz toplu noc, \n",
    "koja ce u jos vise mjesta biti u nedjelju i ponedjeljak, kada ce dani biti nestabilniji i oblacniji, \n",
    "te sve manje topli, uz pljuskove i grmljavinu, ponegdje vjerojatno i olujno nevrijeme i tuču. \n",
    "U nastavku novoga tjedna promjenljivo, ali i dalje relativno toplo.'''"
   ]
  },
  {
   "cell_type": "markdown",
   "metadata": {},
   "source": [
    "## Pr. 6: Moj način i skripta"
   ]
  },
  {
   "cell_type": "code",
   "execution_count": 17,
   "metadata": {},
   "outputs": [],
   "source": [
    "def nadji(tekst: str, *nizovi: str) -> list:\n",
    "    rez = []\n",
    "    for i in nizovi:\n",
    "        index = tekst.find(i)\n",
    "        while index != -1:\n",
    "            rez.append((i , index))\n",
    "            index = tekst.find(i, index + 1)\n",
    "    return rez"
   ]
  },
  {
   "cell_type": "code",
   "execution_count": 18,
   "metadata": {},
   "outputs": [
    {
     "name": "stdout",
     "output_type": "stream",
     "text": [
      "[('topl', 13), ('topl', 45), ('topl', 172), ('topl', 315), ('nedje', 90), ('nedje', 103)]\n"
     ]
    }
   ],
   "source": [
    "print(nadji(s, 'topl', 'nedje'))"
   ]
  },
  {
   "cell_type": "markdown",
   "metadata": {},
   "source": [
    "# Primjer 7\n",
    "\n",
    "Napišite funkciju kombinacije koja vraća sve kombinacije elemenata liste. Na \n",
    "primjer, za listu [a, b] kombinacije su [], [a], [b] i [a, b]."
   ]
  },
  {
   "cell_type": "code",
   "execution_count": 19,
   "metadata": {},
   "outputs": [],
   "source": [
    "a = 'a'\n",
    "b = 'b'\n",
    "lista = [a, b]"
   ]
  },
  {
   "cell_type": "markdown",
   "metadata": {},
   "source": [
    "## Primjer 7 - Skripta"
   ]
  },
  {
   "cell_type": "code",
   "execution_count": 20,
   "metadata": {},
   "outputs": [],
   "source": [
    "def kombinacije(niz):\n",
    "    rezultat = []  # Lista koja će pohraniti sve kombinacije\n",
    "    for n in range(2 ** len(niz)):  # Iterira od 0 do 2^len(niz)-1, generirajući sve moguće kombinacije elemenata\n",
    "        bin_br = bin(n)[2:].rjust(len(niz), '0')  # Pretvara broj n u binarni string s odgovarajućim brojem znamenki\n",
    "        # Binarni broj koristi se za određivanje koji elementi iz liste su uključeni u kombinaciju\n",
    "        kombinacija = [e for e, b in zip(niz, bin_br) if b == '1']  # Koristi zip kako bi povezali elemente liste i binarne znamenke\n",
    "        rezultat.append(kombinacija)  # Dodaje kombinaciju u konačnu listu rezultata\n",
    "    return rezultat  # Vraća sve kombinacije\n"
   ]
  },
  {
   "cell_type": "code",
   "execution_count": 21,
   "metadata": {},
   "outputs": [
    {
     "name": "stdout",
     "output_type": "stream",
     "text": [
      "[[], ['b'], ['a'], ['a', 'b']]\n"
     ]
    }
   ],
   "source": [
    "print(kombinacije(lista))"
   ]
  },
  {
   "cell_type": "markdown",
   "metadata": {},
   "source": [
    "## Primjer 8"
   ]
  },
  {
   "cell_type": "markdown",
   "metadata": {},
   "source": [
    " Napišite funkciju podstringovi(s) koja vraća sve podnizove znakovnog niza s."
   ]
  },
  {
   "cell_type": "code",
   "execution_count": 22,
   "metadata": {},
   "outputs": [],
   "source": [
    "def podstringovi(s):\n",
    "    r = []\n",
    "    for sirina in range(1, len(s) + 1):\n",
    "        for i in range(len(s) + 1 - sirina):\n",
    "            r += [s[i : i + sirina]]\n",
    "    return r"
   ]
  },
  {
   "cell_type": "code",
   "execution_count": 23,
   "metadata": {},
   "outputs": [
    {
     "data": {
      "text/plain": [
       "['g', 'e', 'n', 'g', 'ge', 'en', 'ng', 'gen', 'eng', 'geng']"
      ]
     },
     "execution_count": 23,
     "metadata": {},
     "output_type": "execute_result"
    }
   ],
   "source": [
    "podstringovi(\"geng\")"
   ]
  },
  {
   "cell_type": "markdown",
   "metadata": {},
   "source": []
  }
 ],
 "metadata": {
  "kernelspec": {
   "display_name": "Python 3",
   "language": "python",
   "name": "python3"
  },
  "language_info": {
   "codemirror_mode": {
    "name": "ipython",
    "version": 3
   },
   "file_extension": ".py",
   "mimetype": "text/x-python",
   "name": "python",
   "nbconvert_exporter": "python",
   "pygments_lexer": "ipython3",
   "version": "3.9.13"
  }
 },
 "nbformat": 4,
 "nbformat_minor": 2
}
